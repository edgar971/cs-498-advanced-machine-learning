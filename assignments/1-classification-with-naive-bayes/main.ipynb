{
 "cells": [
  {
   "cell_type": "code",
   "execution_count": 1,
   "metadata": {},
   "outputs": [],
   "source": [
    "import pandas as pd\n",
    "import numpy as np\n",
    "import random\n",
    "from functools import reduce\n",
    "from numpy import genfromtxt"
   ]
  },
  {
   "cell_type": "code",
   "execution_count": 2,
   "metadata": {},
   "outputs": [],
   "source": [
    "def getData():\n",
    "    data = np.genfromtxt('./data/pima-indians-diabetes.csv', delimiter=',')\n",
    "    return data[1:,:]"
   ]
  },
  {
   "cell_type": "code",
   "execution_count": 3,
   "metadata": {},
   "outputs": [],
   "source": [
    "def split(dataset, training_percent = .8):\n",
    "    np.random.shuffle(dataset)\n",
    "    num_of_items = len(dataset)\n",
    "    training_split = int(.8 * num_of_items)\n",
    "    return dataset[:training_split, :], dataset[training_split:,:]"
   ]
  },
  {
   "cell_type": "code",
   "execution_count": 20,
   "metadata": {},
   "outputs": [],
   "source": [
    "def aggregateByClass(data): \n",
    "    classToValues = {}\n",
    "    for item in data:\n",
    "        classType = item[-1]\n",
    "        if(classType not in classToValues):\n",
    "            classToValues[classType] = []\n",
    "        \n",
    "        classToValues[classType].append(item)\n",
    "    return classToValues"
   ]
  },
  {
   "cell_type": "code",
   "execution_count": 119,
   "metadata": {},
   "outputs": [],
   "source": [
    "def calculateMeanAndStDv(data):\n",
    "    results = []\n",
    "    for item in zip(*data):\n",
    "        results.append((np.mean(item), np.std(item)))\n",
    "    del results[-1]\n",
    "    return results"
   ]
  },
  {
   "cell_type": "code",
   "execution_count": 120,
   "metadata": {},
   "outputs": [],
   "source": [
    "def calculateForClass(dataByClasses):\n",
    "    results = {}\n",
    "    for classValue, values in dataByClasses.items():\n",
    "        results[classValue] = calculateMeanAndStDv(values)\n",
    "    return results"
   ]
  },
  {
   "cell_type": "code",
   "execution_count": 121,
   "metadata": {},
   "outputs": [
    {
     "name": "stdout",
     "output_type": "stream",
     "text": [
      "There are 767 rows\n"
     ]
    }
   ],
   "source": [
    "data = getData()\n",
    "print(f'There are {len(data)} rows')"
   ]
  },
  {
   "cell_type": "code",
   "execution_count": 122,
   "metadata": {},
   "outputs": [
    {
     "name": "stdout",
     "output_type": "stream",
     "text": [
      "Split 767 into training=613 and testing=154\n"
     ]
    }
   ],
   "source": [
    "training, test = split(data)\n",
    "print(f'Split {len(data)} into training={len(training)} and testing={len(test)}')"
   ]
  },
  {
   "cell_type": "code",
   "execution_count": 126,
   "metadata": {},
   "outputs": [],
   "source": [
    "groupedByClass = aggregateByClass(training)"
   ]
  },
  {
   "cell_type": "code",
   "execution_count": 127,
   "metadata": {},
   "outputs": [],
   "source": [
    "classSummary = calculateForClass(groupedByClass)"
   ]
  },
  {
   "cell_type": "code",
   "execution_count": 128,
   "metadata": {},
   "outputs": [
    {
     "name": "stdout",
     "output_type": "stream",
     "text": [
      "Class Overview: {1.0: [(4.623809523809523, 3.5195244215937773), (141.54285714285714, 32.97792293884719), (70.3047619047619, 21.09440178929169), (21.847619047619048, 16.955842343250335), (106.27619047619048, 144.45599067754299), (34.864285714285714, 7.254247407014518), (0.5495714285714286, 0.36765279576156157), (36.523809523809526, 11.051477158836743)], 0.0: [(3.327543424317618, 3.0596891893555536), (110.56079404466502, 25.863703671510514), (67.87096774193549, 18.5721910047275), (19.535980148883375, 14.98156255519228), (71.74689826302729, 102.39320144080534), (30.198014888337468, 7.9604572377484395), (0.4355508684863524, 0.2969835852261648), (30.90074441687345, 11.202404671033154)]}\n"
     ]
    }
   ],
   "source": [
    "print(f'Class Overview: {classSummary}')"
   ]
  },
  {
   "cell_type": "code",
   "execution_count": null,
   "metadata": {},
   "outputs": [],
   "source": []
  }
 ],
 "metadata": {
  "kernelspec": {
   "display_name": "Python 3",
   "language": "python",
   "name": "python3"
  },
  "language_info": {
   "codemirror_mode": {
    "name": "ipython",
    "version": 3
   },
   "file_extension": ".py",
   "mimetype": "text/x-python",
   "name": "python",
   "nbconvert_exporter": "python",
   "pygments_lexer": "ipython3",
   "version": "3.6.2"
  }
 },
 "nbformat": 4,
 "nbformat_minor": 2
}
