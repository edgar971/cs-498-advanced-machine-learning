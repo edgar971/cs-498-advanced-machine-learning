{
 "cells": [
  {
   "cell_type": "markdown",
   "metadata": {},
   "source": [
    "# Part 1A"
   ]
  },
  {
   "cell_type": "code",
   "execution_count": 149,
   "metadata": {},
   "outputs": [],
   "source": [
    "import pandas as pd\n",
    "import numpy as np\n",
    "import random\n",
    "import math\n",
    "from functools import reduce\n",
    "from numpy import genfromtxt"
   ]
  },
  {
   "cell_type": "code",
   "execution_count": 150,
   "metadata": {},
   "outputs": [],
   "source": [
    "def getData():\n",
    "    data = np.genfromtxt('./data/pima-indians-diabetes.csv', delimiter=',')\n",
    "    return data[1:,:]"
   ]
  },
  {
   "cell_type": "code",
   "execution_count": 151,
   "metadata": {},
   "outputs": [],
   "source": [
    "def split(dataset, training_percent = .8):\n",
    "    np.random.shuffle(dataset)\n",
    "    num_of_items = len(dataset)\n",
    "    training_split = int(.8 * num_of_items)\n",
    "    return dataset[:training_split, :], dataset[training_split:,:]"
   ]
  },
  {
   "cell_type": "code",
   "execution_count": 152,
   "metadata": {},
   "outputs": [],
   "source": [
    "def aggregateByClass(data): \n",
    "    classToValues = {}\n",
    "    for item in data:\n",
    "        classType = item[-1]\n",
    "        if(classType not in classToValues):\n",
    "            classToValues[classType] = []\n",
    "        \n",
    "        classToValues[classType].append(item)\n",
    "    return classToValues"
   ]
  },
  {
   "cell_type": "code",
   "execution_count": 153,
   "metadata": {},
   "outputs": [],
   "source": [
    "def calculateMeanAndStDv(data):\n",
    "    results = []\n",
    "    for item in zip(*data):\n",
    "        results.append((np.mean(item), np.std(item)))\n",
    "    del results[-1]\n",
    "    return results"
   ]
  },
  {
   "cell_type": "code",
   "execution_count": 154,
   "metadata": {},
   "outputs": [],
   "source": [
    "def calculateForClass(dataByClasses):\n",
    "    results = {}\n",
    "    for classValue, values in dataByClasses.items():\n",
    "        results[classValue] = calculateMeanAndStDv(values)\n",
    "    return results"
   ]
  },
  {
   "cell_type": "code",
   "execution_count": 155,
   "metadata": {},
   "outputs": [],
   "source": [
    "def calculateProbability(x, mean, std):\n",
    "    exponent = np.exp(-(np.power(x-mean,2)/(2*np.power(std,2))))\n",
    "    return (1 / (np.sqrt(2*np.pi) * std)) * exponent"
   ]
  },
  {
   "cell_type": "code",
   "execution_count": 156,
   "metadata": {},
   "outputs": [],
   "source": [
    "def calculateProbabilitiesForClass(dataByClasses, vector):\n",
    "    classProbabilities = {}\n",
    "    for classType, classSummaries in dataByClasses.items():\n",
    "        classProbabilities[classType] = 1\n",
    "        for i in range(len(classSummaries)):\n",
    "            mean, std = classSummaries[i]\n",
    "            inputV = vector[i]\n",
    "            classProbabilities[classType] *= calculateProbability(inputV, mean, std)\n",
    "    return classProbabilities"
   ]
  },
  {
   "cell_type": "code",
   "execution_count": 157,
   "metadata": {},
   "outputs": [],
   "source": [
    "def makePrediction(classSummaries, vector):\n",
    "    classProbabilities = calculateProbabilitiesForClass(classSummaries, vector)\n",
    "    predictedLabel, bestProb = None, -1\n",
    "    for label, prob in classProbabilities.items():\n",
    "        if predictedLabel is None or prob > bestProb:\n",
    "            predictedLabel = label\n",
    "            bestProb = prob\n",
    "    return predictedLabel"
   ]
  },
  {
   "cell_type": "code",
   "execution_count": 158,
   "metadata": {},
   "outputs": [],
   "source": [
    "def getPredictionsForClass(classSummaries, testDataset):\n",
    "    predictions = []\n",
    "    for testValue in testDataset:\n",
    "        prediction = makePrediction(classSummaries, testValue)\n",
    "        predictions.append(prediction)\n",
    "    return predictions"
   ]
  },
  {
   "cell_type": "code",
   "execution_count": 159,
   "metadata": {},
   "outputs": [],
   "source": [
    "def getAccuracy(predictions, testData):\n",
    "    accurate = 0\n",
    "    rows_in_test_set = len(testData)\n",
    "    for index in range(rows_in_test_set):\n",
    "        if predictions[index] == testData[index][-1]:\n",
    "            accurate += 1\n",
    "    return (accurate / rows_in_test_set) * 100"
   ]
  },
  {
   "cell_type": "code",
   "execution_count": 160,
   "metadata": {},
   "outputs": [],
   "source": [
    "def train(data):\n",
    "    splits = 10\n",
    "    accuracyAgg = 0\n",
    "    for step in range(splits):\n",
    "        print(f'Training step {step}')\n",
    "        trainingData, testData = split(data)\n",
    "        groupedByClass = aggregateByClass(trainingData)\n",
    "        classSummary = calculateForClass(groupedByClass)\n",
    "        predictions = getPredictionsForClass(classSummary, testData)\n",
    "        accuracy = getAccuracy(predictions, testData)\n",
    "        accuracyAgg += accuracy\n",
    "    return accuracyAgg / splits"
   ]
  },
  {
   "cell_type": "code",
   "execution_count": 161,
   "metadata": {},
   "outputs": [],
   "source": [
    "data = getData()"
   ]
  },
  {
   "cell_type": "code",
   "execution_count": 162,
   "metadata": {},
   "outputs": [
    {
     "name": "stdout",
     "output_type": "stream",
     "text": [
      "Training step 0\n",
      "Training step 1\n",
      "Training step 2\n",
      "Training step 3\n",
      "Training step 4\n",
      "Training step 5\n",
      "Training step 6\n",
      "Training step 7\n",
      "Training step 8\n",
      "Training step 9\n"
     ]
    },
    {
     "data": {
      "text/plain": [
       "75.0"
      ]
     },
     "execution_count": 162,
     "metadata": {},
     "output_type": "execute_result"
    }
   ],
   "source": [
    "train(data)"
   ]
  },
  {
   "cell_type": "markdown",
   "metadata": {},
   "source": [
    "# Part 1B"
   ]
  },
  {
   "cell_type": "code",
   "execution_count": null,
   "metadata": {},
   "outputs": [],
   "source": []
  }
 ],
 "metadata": {
  "kernelspec": {
   "display_name": "Python 3",
   "language": "python",
   "name": "python3"
  },
  "language_info": {
   "codemirror_mode": {
    "name": "ipython",
    "version": 3
   },
   "file_extension": ".py",
   "mimetype": "text/x-python",
   "name": "python",
   "nbconvert_exporter": "python",
   "pygments_lexer": "ipython3",
   "version": "3.6.2"
  }
 },
 "nbformat": 4,
 "nbformat_minor": 2
}
