{
 "cells": [
  {
   "cell_type": "markdown",
   "metadata": {},
   "source": [
    "# Part 1A"
   ]
  },
  {
   "cell_type": "code",
   "execution_count": 97,
   "metadata": {},
   "outputs": [],
   "source": [
    "import pandas as pd\n",
    "import numpy as np\n",
    "import random\n",
    "import math\n",
    "from functools import reduce\n",
    "from numpy import genfromtxt\n",
    "import copy "
   ]
  },
  {
   "cell_type": "code",
   "execution_count": 98,
   "metadata": {},
   "outputs": [],
   "source": [
    "def getData():\n",
    "    data = np.genfromtxt('./data/pima-indians-diabetes.csv', delimiter=',')\n",
    "    return data[1:,:]"
   ]
  },
  {
   "cell_type": "code",
   "execution_count": 99,
   "metadata": {},
   "outputs": [],
   "source": [
    "def split(dataset, training_percent = .8):\n",
    "    np.random.shuffle(dataset)\n",
    "    num_of_items = len(dataset)\n",
    "    training_split = int(.8 * num_of_items)\n",
    "    return dataset[:training_split], dataset[training_split:]"
   ]
  },
  {
   "cell_type": "code",
   "execution_count": 100,
   "metadata": {},
   "outputs": [],
   "source": [
    "def aggregateByClass(data): \n",
    "    classToValues = {}\n",
    "    for item in data:\n",
    "        classType = item[-1]\n",
    "        if(classType not in classToValues):\n",
    "            classToValues[classType] = []\n",
    "        classToValues[classType].append(item)\n",
    "    return classToValues"
   ]
  },
  {
   "cell_type": "code",
   "execution_count": 101,
   "metadata": {},
   "outputs": [],
   "source": [
    "def calculateMeanAndVar(data):\n",
    "    results = []\n",
    "    for item in zip(*data):\n",
    "        results.append((np.nanmean(item), np.nanvar(item)))\n",
    "    del results[-1]\n",
    "    return results"
   ]
  },
  {
   "cell_type": "code",
   "execution_count": 102,
   "metadata": {},
   "outputs": [],
   "source": [
    "def calculateForClass(dataByClasses):\n",
    "    results = {}\n",
    "    for classValue, values in dataByClasses.items():\n",
    "        results[classValue] = calculateMeanAndVar(values)\n",
    "    return results"
   ]
  },
  {
   "cell_type": "code",
   "execution_count": 103,
   "metadata": {},
   "outputs": [],
   "source": [
    "def calculateProbability(x, mean, var):\n",
    "    p = 1/(np.sqrt(2*np.pi*var)) * np.exp((-(x-mean)**2)/(2*var))\n",
    "    return p"
   ]
  },
  {
   "cell_type": "code",
   "execution_count": 104,
   "metadata": {},
   "outputs": [],
   "source": [
    "def calculateProbabilitiesForClass(dataByClasses, vector):\n",
    "    classProbabilities = {}\n",
    "    for classType, classSummaries in dataByClasses.items():\n",
    "        classProbabilities[classType] = 1\n",
    "        for i in range(len(classSummaries)):\n",
    "            mean, var = classSummaries[i]\n",
    "            inputV = vector[i]\n",
    "            classProbabilities[classType] *= calculateProbability(inputV, mean, var)\n",
    "    return classProbabilities"
   ]
  },
  {
   "cell_type": "code",
   "execution_count": 105,
   "metadata": {},
   "outputs": [],
   "source": [
    "def makePrediction(classSummaries, vector):\n",
    "    classProbabilities = calculateProbabilitiesForClass(classSummaries, vector)\n",
    "    predictedLabel, bestProb = None, -1\n",
    "    for label, prob in classProbabilities.items():\n",
    "        if predictedLabel is None or prob > bestProb:\n",
    "            predictedLabel = label\n",
    "            bestProb = prob\n",
    "    return predictedLabel"
   ]
  },
  {
   "cell_type": "code",
   "execution_count": 106,
   "metadata": {},
   "outputs": [],
   "source": [
    "def getPredictionsForClass(classSummaries, testDataset):\n",
    "    predictions = []\n",
    "    for testValue in testDataset:\n",
    "        prediction = makePrediction(classSummaries, testValue)\n",
    "        predictions.append(prediction)\n",
    "    return predictions"
   ]
  },
  {
   "cell_type": "code",
   "execution_count": 107,
   "metadata": {},
   "outputs": [],
   "source": [
    "def getAccuracy(predictions, testData):\n",
    "    accurate = 0\n",
    "    rows_in_test_set = len(testData)\n",
    "    for index in range(rows_in_test_set):\n",
    "        if predictions[index] == testData[index][-1]:\n",
    "            accurate += 1\n",
    "    return (accurate / rows_in_test_set) * 100"
   ]
  },
  {
   "cell_type": "code",
   "execution_count": 108,
   "metadata": {},
   "outputs": [],
   "source": [
    "def train(data):\n",
    "    splits = 10\n",
    "    totalAccuracy = 0\n",
    "    for step in range(splits):\n",
    "        trainingData, testData = split(data)\n",
    "        groupedByClass = aggregateByClass(trainingData)\n",
    "        classSummary = calculateForClass(groupedByClass)\n",
    "        predictions = getPredictionsForClass(classSummary, testData)\n",
    "        accuracy = getAccuracy(predictions, testData)\n",
    "        totalAccuracy += accuracy\n",
    "    return totalAccuracy / splits"
   ]
  },
  {
   "cell_type": "code",
   "execution_count": 109,
   "metadata": {},
   "outputs": [],
   "source": [
    "data = getData()"
   ]
  },
  {
   "cell_type": "code",
   "execution_count": 110,
   "metadata": {},
   "outputs": [
    {
     "data": {
      "text/plain": [
       "74.67532467532467"
      ]
     },
     "execution_count": 110,
     "metadata": {},
     "output_type": "execute_result"
    }
   ],
   "source": [
    "train(data)"
   ]
  },
  {
   "cell_type": "markdown",
   "metadata": {},
   "source": [
    "# Part 1B"
   ]
  },
  {
   "cell_type": "code",
   "execution_count": 111,
   "metadata": {},
   "outputs": [],
   "source": [
    "def dropZeros(data):\n",
    "    columns = [2,3,5,7]\n",
    "    newData = []\n",
    "    for i in range(len(data)):\n",
    "        newArray = []\n",
    "        for x in range(len(data[i])):\n",
    "            if x in columns and data[i][x] == 0:\n",
    "                continue\n",
    "            else:\n",
    "                newArray.append(data[i][x])\n",
    "        newData.append(newArray)\n",
    "    return np.array(newData)"
   ]
  },
  {
   "cell_type": "code",
   "execution_count": 112,
   "metadata": {},
   "outputs": [],
   "source": [
    "data = getData()"
   ]
  },
  {
   "cell_type": "code",
   "execution_count": 113,
   "metadata": {},
   "outputs": [],
   "source": [
    "cleanedData = dropZeros(data)"
   ]
  },
  {
   "cell_type": "code",
   "execution_count": 114,
   "metadata": {},
   "outputs": [
    {
     "data": {
      "text/plain": [
       "73.11688311688312"
      ]
     },
     "execution_count": 114,
     "metadata": {},
     "output_type": "execute_result"
    }
   ],
   "source": [
    "train(cleanedData)"
   ]
  },
  {
   "cell_type": "code",
   "execution_count": null,
   "metadata": {},
   "outputs": [],
   "source": []
  },
  {
   "cell_type": "code",
   "execution_count": null,
   "metadata": {},
   "outputs": [],
   "source": []
  },
  {
   "cell_type": "code",
   "execution_count": null,
   "metadata": {},
   "outputs": [],
   "source": []
  },
  {
   "cell_type": "code",
   "execution_count": null,
   "metadata": {},
   "outputs": [],
   "source": []
  },
  {
   "cell_type": "code",
   "execution_count": null,
   "metadata": {},
   "outputs": [],
   "source": []
  },
  {
   "cell_type": "code",
   "execution_count": null,
   "metadata": {},
   "outputs": [],
   "source": []
  }
 ],
 "metadata": {
  "kernelspec": {
   "display_name": "Python 3",
   "language": "python",
   "name": "python3"
  },
  "language_info": {
   "codemirror_mode": {
    "name": "ipython",
    "version": 3
   },
   "file_extension": ".py",
   "mimetype": "text/x-python",
   "name": "python",
   "nbconvert_exporter": "python",
   "pygments_lexer": "ipython3",
   "version": "3.6.2"
  }
 },
 "nbformat": 4,
 "nbformat_minor": 2
}
