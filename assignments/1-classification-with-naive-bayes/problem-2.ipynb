{
 "cells": [
  {
   "cell_type": "markdown",
   "metadata": {},
   "source": [
    "# Problem 2: MNIST Image Classification"
   ]
  },
  {
   "cell_type": "code",
   "execution_count": 2,
   "metadata": {},
   "outputs": [],
   "source": [
    "%matplotlib inline\n",
    "from mnist import MNIST\n",
    "import numpy as np\n",
    "import matplotlib.pyplot as plt\n",
    "import math\n",
    "import matplotlib.image as mpimg\n",
    "from tqdm import tqdm\n",
    "from skimage.transform import resize\n",
    "from sklearn.ensemble import RandomForestClassifier\n",
    "from itertools import product\n",
    "from scipy.stats import norm"
   ]
  },
  {
   "cell_type": "code",
   "execution_count": 3,
   "metadata": {},
   "outputs": [],
   "source": [
    "mndata = MNIST('./data/mnist/')"
   ]
  },
  {
   "cell_type": "code",
   "execution_count": 4,
   "metadata": {},
   "outputs": [],
   "source": [
    "def showImage(pixels, label, shape = (28, 28)):\n",
    "    pixels = np.array(pixels, dtype='uint8')\n",
    "    pixels = pixels.reshape(shape)\n",
    "    plt.title('Label is {label}'.format(label=label))\n",
    "    plt.imshow(pixels, cmap='gray')\n",
    "    plt.show()"
   ]
  },
  {
   "cell_type": "code",
   "execution_count": 72,
   "metadata": {},
   "outputs": [],
   "source": [
    "def saveImage(pixels, label, shape = (28, 28)):\n",
    "    pixels = np.array(pixels, dtype='uint8')\n",
    "    pixels = pixels.reshape(shape)\n",
    "    plt.title('Label is {label}'.format(label=label))\n",
    "    plt.imshow(pixels, cmap='gray')\n",
    "    plt.savefig(f'mean-{label}.jpg')"
   ]
  },
  {
   "cell_type": "markdown",
   "metadata": {},
   "source": [
    "## Part 2A: MNIST using naive Bayes"
   ]
  },
  {
   "cell_type": "markdown",
   "metadata": {},
   "source": [
    "### Using Normal distribution and untouched images"
   ]
  },
  {
   "cell_type": "code",
   "execution_count": 5,
   "metadata": {},
   "outputs": [],
   "source": [
    "def aggregateImagesByNumber(images, labels): \n",
    "    numberToImages = {}\n",
    "    for index in range(len(images)):\n",
    "        label = labels[index]\n",
    "        if(label not in numberToImages):\n",
    "            numberToImages[label] = []\n",
    "        numberToImages[label].append(images[index])\n",
    "    return numberToImages"
   ]
  },
  {
   "cell_type": "code",
   "execution_count": 6,
   "metadata": {},
   "outputs": [],
   "source": [
    "def calculateMeanAndVar(data):\n",
    "    results = []\n",
    "    for item in zip(*data):\n",
    "        meanVar = (np.nanmean(item), np.nanvar(item))\n",
    "        results.append(meanVar)\n",
    "    return results"
   ]
  },
  {
   "cell_type": "code",
   "execution_count": 7,
   "metadata": {},
   "outputs": [],
   "source": [
    "def calculateMeanAndVarForNumbers(dataByClasses):\n",
    "    results = {}\n",
    "    for classValue, values in dataByClasses.items():\n",
    "        results[classValue] = calculateMeanAndVar(values)\n",
    "    return results"
   ]
  },
  {
   "cell_type": "code",
   "execution_count": 8,
   "metadata": {},
   "outputs": [],
   "source": [
    "def calculateProbability(x, mean, var):\n",
    "    p = 1/(np.sqrt(2*np.pi*var)) * np.exp((-(x-mean)**2)/(2*var))\n",
    "    return p"
   ]
  },
  {
   "cell_type": "code",
   "execution_count": 9,
   "metadata": {},
   "outputs": [],
   "source": [
    "def calculateProbabilitiesForNumbers(dataByClasses, imagePixels):\n",
    "    classProbabilities = {}\n",
    "    for label, images in dataByClasses.items():\n",
    "        classProbabilities[label] = 1\n",
    "        for i in range(len(images)):\n",
    "            mean, var = images[i]\n",
    "            inputV = imagePixels[i]\n",
    "            prob = calculateProbability(inputV, mean, var)\n",
    "            classProbabilities[label] *= prob\n",
    "    return classProbabilities"
   ]
  },
  {
   "cell_type": "code",
   "execution_count": 10,
   "metadata": {},
   "outputs": [],
   "source": [
    "def getPrediction(numberSummaries, imagePixels):\n",
    "    numberProbabilities = calculateProbabilitiesForNumbers(numberSummaries, imagePixels)\n",
    "    predictedLabel, bestProb = None, -1\n",
    "    for label, prob in numberProbabilities.items():\n",
    "        if predictedLabel is None or prob > bestProb:\n",
    "            predictedLabel = label\n",
    "            bestProb = prob\n",
    "    return predictedLabel"
   ]
  },
  {
   "cell_type": "code",
   "execution_count": 11,
   "metadata": {},
   "outputs": [],
   "source": [
    "def getPredictionsForTestNumbers(numberSummaries, testImages):\n",
    "    predictions = []\n",
    "    for imagePixels in tqdm(testImages):\n",
    "        prediction = getPrediction(numberSummaries, imagePixels)\n",
    "        predictions.append(prediction)\n",
    "    return predictions"
   ]
  },
  {
   "cell_type": "code",
   "execution_count": 12,
   "metadata": {},
   "outputs": [],
   "source": [
    "def getAccuracy(predictions, testData, testLabels):\n",
    "    accurate = 0\n",
    "    rows_in_test_set = len(testData)\n",
    "    for index in range(rows_in_test_set):\n",
    "        if predictions[index] == testLabels[index]:\n",
    "            accurate += 1\n",
    "    return (accurate / rows_in_test_set) * 100"
   ]
  },
  {
   "cell_type": "code",
   "execution_count": 13,
   "metadata": {},
   "outputs": [],
   "source": [
    "def thresholdOriginalImages(images):\n",
    "    threshold, upper, lower = 127, 1, 0\n",
    "    return np.where(np.array(images)>threshold, upper, lower)"
   ]
  },
  {
   "cell_type": "code",
   "execution_count": 14,
   "metadata": {},
   "outputs": [],
   "source": [
    "def thresholdScaledImages(imagePixels):\n",
    "    a = imagePixels.copy()\n",
    "    grey = a[a > 0]\n",
    "    mid = np.sum(grey) / len(grey)\n",
    "    return np.where(np.array(a)>mid, 1, 0)"
   ]
  },
  {
   "cell_type": "code",
   "execution_count": 15,
   "metadata": {},
   "outputs": [],
   "source": [
    "def resizeImage(imagePixels, size):\n",
    "    xmax, ymax = np.max(np.where(imagePixels!=0), 1)\n",
    "    xmin, ymin = np.min(np.where(imagePixels!=0), 1)\n",
    "    bounding = imagePixels[xmin:xmax,ymin:ymax]\n",
    "    resized = resize(bounding, size, mode='constant')\n",
    "    return resized"
   ]
  },
  {
   "cell_type": "code",
   "execution_count": 65,
   "metadata": {},
   "outputs": [],
   "source": [
    "def plotMeanNumbers(classSummary):\n",
    "    for number, data in classSummary.items():\n",
    "        pixels = thresholdScaledImages(np.array([mean for mean, var in data]))\n",
    "        saveImage(pixels, number)\n"
   ]
  },
  {
   "cell_type": "code",
   "execution_count": 66,
   "metadata": {},
   "outputs": [],
   "source": [
    "def train(trainingData, trainingLabels, testData, testLabels):\n",
    "    print(\"Grouping by class\")\n",
    "    groupedByClass = aggregateImagesByNumber(trainingData, trainingLabels)\n",
    "    \n",
    "    print(\"Calculating mean and var\")\n",
    "    classSummary = calculateMeanAndVarForNumbers(groupedByClass)\n",
    "    \n",
    "    plotMeanNumbers(classSummary)\n",
    "    print(\"Getting Predictions for test images\")\n",
    "    predictions = getPredictionsForTestNumbers(classSummary, testData)\n",
    "    \n",
    "    print(\"Getting Accuracy for test images\")\n",
    "    test_accuracy =  getAccuracy(predictions, testData, testLabels)\n",
    "    print(f\"Accuracy for test images: {test_accuracy}\")\n",
    "    \n",
    "    print(\"Getting Predictions for training images\")\n",
    "    predictions = getPredictionsForTestNumbers(classSummary, trainingData)\n",
    "    print(\"Getting Accuracy for training images\")\n",
    "    training_accuracy =  getAccuracy(predictions, trainingData, trainingLabels)\n",
    "    print(f\"Accuracy for training images: {training_accuracy}\")\n",
    "    \n",
    "    return test_accuracy, training_accuracy\n"
   ]
  },
  {
   "cell_type": "markdown",
   "metadata": {},
   "source": [
    "## Image Processing"
   ]
  },
  {
   "cell_type": "code",
   "execution_count": 20,
   "metadata": {},
   "outputs": [
    {
     "name": "stdout",
     "output_type": "stream",
     "text": [
      "Loaded 60000 training images and 10000 test images\n"
     ]
    }
   ],
   "source": [
    "trainingDataImages, trainingLabels = mndata.load_training()\n",
    "trainingDataImages = np.array(trainingDataImages).astype(np.uint8)\n",
    "testDataImages, testLabels = mndata.load_testing()\n",
    "testDataImages = np.array(testDataImages).astype(np.uint8)\n",
    "print(f\"Loaded {len(trainingDataImages)} training images and {len(testDataImages)} test images\")"
   ]
  },
  {
   "cell_type": "code",
   "execution_count": 21,
   "metadata": {},
   "outputs": [
    {
     "name": "stdout",
     "output_type": "stream",
     "text": [
      "Applied threshold to training and test images\n"
     ]
    },
    {
     "data": {
      "image/png": "[encoded data removed]",
      "text/plain": [
       "<matplotlib.figure.Figure at 0x1c203afba8>"
      ]
     },
     "metadata": {},
     "output_type": "display_data"
    },
    {
     "data": {
      "image/png": "[encoded data removed]",
      "text/plain": [
       "<matplotlib.figure.Figure at 0x1c47902e48>"
      ]
     },
     "metadata": {},
     "output_type": "display_data"
    }
   ],
   "source": [
    "trainingImagesCleaned = thresholdOriginalImages(trainingDataImages)\n",
    "testImagesCleaned = thresholdOriginalImages(testDataImages)\n",
    "print(f\"Applied threshold to training and test images\")\n",
    "showImage(trainingDataImages[2], trainingLabels[2])\n",
    "showImage(trainingImagesCleaned[2], trainingLabels[2])"
   ]
  },
  {
   "cell_type": "code",
   "execution_count": 22,
   "metadata": {},
   "outputs": [
    {
     "name": "stdout",
     "output_type": "stream",
     "text": [
      "Resizing images to (20, 20)\n"
     ]
    },
    {
     "data": {
      "image/png": "[encoded data removed]",
      "text/plain": [
       "<matplotlib.figure.Figure at 0x1c20962f60>"
      ]
     },
     "metadata": {},
     "output_type": "display_data"
    }
   ],
   "source": [
    "size = (20, 20)\n",
    "print(f\"Resizing images to {size}\")\n",
    "resizedTrainingImages = np.array([np.ravel(thresholdScaledImages(resizeImage(x, size))) for x in trainingDataImages.reshape((-1, 28, 28))])\n",
    "resizedTestImages = np.array([np.ravel(thresholdScaledImages(resizeImage(x, size))) for x in testDataImages.reshape((-1, 28, 28))])\n",
    "showImage(resizedTrainingImages[2], trainingLabels[2], size)"
   ]
  },
  {
   "cell_type": "markdown",
   "metadata": {},
   "source": [
    "## Train Model"
   ]
  },
  {
   "cell_type": "markdown",
   "metadata": {},
   "source": [
    "### Model 1: Normal distribution with untouched images"
   ]
  },
  {
   "cell_type": "code",
   "execution_count": 73,
   "metadata": {},
   "outputs": [
    {
     "name": "stdout",
     "output_type": "stream",
     "text": [
      "Grouping by class\n",
      "Calculating mean and var\n"
     ]
    },
    {
     "data": {
      "image/png": "[encoded data removed]",
      "text/plain": [
       "<matplotlib.figure.Figure at 0x1c4791df28>"
      ]
     },
     "metadata": {},
     "output_type": "display_data"
    },
    {
     "data": {
      "image/png": "[encoded data removed]",
      "text/plain": [
       "<matplotlib.figure.Figure at 0x1c47b215c0>"
      ]
     },
     "metadata": {},
     "output_type": "display_data"
    },
    {
     "data": {
      "image/png": "[encoded data removed]",
      "text/plain": [
       "<matplotlib.figure.Figure at 0x1c47e2c3c8>"
      ]
     },
     "metadata": {},
     "output_type": "display_data"
    },
    {
     "data": {
      "image/png": "[encoded data removed]",
      "text/plain": [
       "<matplotlib.figure.Figure at 0x1c479448d0>"
      ]
     },
     "metadata": {},
     "output_type": "display_data"
    },
    {
     "data": {
      "image/png": "[encoded data removed]",
      "text/plain": [
       "<matplotlib.figure.Figure at 0x1c22e03198>"
      ]
     },
     "metadata": {},
     "output_type": "display_data"
    },
    {
     "data": {
      "image/png": "[encoded data removed]",
      "text/plain": [
       "<matplotlib.figure.Figure at 0x1c47c75da0>"
      ]
     },
     "metadata": {},
     "output_type": "display_data"
    },
    {
     "data": {
      "image/png": "[encoded data removed]",
      "text/plain": [
       "<matplotlib.figure.Figure at 0x1c231cdd30>"
      ]
     },
     "metadata": {},
     "output_type": "display_data"
    },
    {
     "data": {
      "image/png": "[encoded data removed]",
      "text/plain": [
       "<matplotlib.figure.Figure at 0x1c20906668>"
      ]
     },
     "metadata": {},
     "output_type": "display_data"
    },
    {
     "data": {
      "image/png": "[encoded data removed]",
      "text/plain": [
       "<matplotlib.figure.Figure at 0x1c23065978>"
      ]
     },
     "metadata": {},
     "output_type": "display_data"
    },
    {
     "data": {
      "image/png": "[encoded data removed]",
      "text/plain": [
       "<matplotlib.figure.Figure at 0x1c47e2c0b8>"
      ]
     },
     "metadata": {},
     "output_type": "display_data"
    },
    {
     "data": {
      "image/png": "[encoded data removed]",
      "text/plain": [
       "<matplotlib.figure.Figure at 0x1c479f4278>"
      ]
     },
     "metadata": {},
     "output_type": "display_data"
    }
   ],
   "source": [
    "train(trainingImagesCleaned, trainingLabels, testImagesCleaned, testLabels)"
   ]
  },
  {
   "cell_type": "markdown",
   "metadata": {},
   "source": [
    "### Model 2: Normal distribution with touched images"
   ]
  },
  {
   "cell_type": "code",
   "execution_count": 55,
   "metadata": {},
   "outputs": [
    {
     "name": "stdout",
     "output_type": "stream",
     "text": [
      "Grouping by class\n",
      "Calculating mean and var\n"
     ]
    },
    {
     "name": "stderr",
     "output_type": "stream",
     "text": [
      "  0%|          | 0/10000 [00:00<?, ?it/s]/Users/epino/anaconda3/lib/python3.6/site-packages/ipykernel_launcher.py:2: RuntimeWarning: divide by zero encountered in double_scalars\n",
      "  \n",
      "/Users/epino/anaconda3/lib/python3.6/site-packages/ipykernel_launcher.py:2: RuntimeWarning: invalid value encountered in double_scalars\n",
      "  \n",
      "  0%|          | 5/10000 [00:00<03:54, 42.53it/s]"
     ]
    },
    {
     "name": "stdout",
     "output_type": "stream",
     "text": [
      "Getting Predictions for test images\n"
     ]
    },
    {
     "name": "stderr",
     "output_type": "stream",
     "text": [
      "100%|██████████| 10000/10000 [04:07<00:00, 40.42it/s]\n",
      "  0%|          | 4/60000 [00:00<30:26, 32.85it/s]"
     ]
    },
    {
     "name": "stdout",
     "output_type": "stream",
     "text": [
      "Getting Accuracy for test images\n",
      "Accuracy for test images: 71.89\n",
      "Getting Predictions for training images\n"
     ]
    },
    {
     "name": "stderr",
     "output_type": "stream",
     "text": [
      "100%|██████████| 60000/60000 [24:11<00:00, 41.33it/s]"
     ]
    },
    {
     "name": "stdout",
     "output_type": "stream",
     "text": [
      "Getting Accuracy for training images\n",
      "Accuracy for training images: 70.70833333333333\n"
     ]
    },
    {
     "name": "stderr",
     "output_type": "stream",
     "text": [
      "\n"
     ]
    },
    {
     "data": {
      "text/plain": [
       "(71.89, 70.70833333333333)"
      ]
     },
     "execution_count": 55,
     "metadata": {},
     "output_type": "execute_result"
    }
   ],
   "source": [
    "train(resizedTrainingImages, trainingLabels, resizedTestImages, testLabels)"
   ]
  },
  {
   "cell_type": "markdown",
   "metadata": {},
   "source": [
    "### Model 3: Bernoulli distribution with untouched images"
   ]
  },
  {
   "cell_type": "markdown",
   "metadata": {},
   "source": [
    "https://piazza.com/class/jqo7mhnnyiy698?cid=99\n",
    "https://piazza.com/class/jqo7mhnnyiy698?cid=189"
   ]
  },
  {
   "cell_type": "code",
   "execution_count": 56,
   "metadata": {},
   "outputs": [],
   "source": [
    "def countByLabel(labels):\n",
    "    unique, count = np.unique(labels, return_counts=True)\n",
    "    return dict(zip(unique, count))"
   ]
  },
  {
   "cell_type": "code",
   "execution_count": 57,
   "metadata": {},
   "outputs": [],
   "source": [
    "def calculatePdfLog(x, mean):\n",
    "        if x == 0:\n",
    "            result = 1 - mean\n",
    "        else:\n",
    "            result = mean\n",
    "        if result == 0.0:\n",
    "            return 0\n",
    "        return math.log(result, 10)"
   ]
  },
  {
   "cell_type": "code",
   "execution_count": 58,
   "metadata": {},
   "outputs": [],
   "source": [
    "def getPredictionForImages(images, means, priors, counts_by_label): \n",
    "    predictions = []\n",
    "    for image in tqdm(images):\n",
    "        results = []\n",
    "        for label, counts in counts_by_label.items():\n",
    "            prior_log = np.log(priors[label])\n",
    "            posterior_log = np.sum([calculatePdfLog(image[feature], means[label][feature]) for feature in range(len(means[label]))])\n",
    "            likelyhood = prior_log + posterior_log\n",
    "            results.append(likelyhood)    \n",
    "        predictions.append(np.argmax(results))\n",
    "    return predictions"
   ]
  },
  {
   "cell_type": "code",
   "execution_count": 59,
   "metadata": {},
   "outputs": [],
   "source": [
    "def calculateBernoulli(images, labels, counts_by_label):\n",
    "    training_size = len(images)\n",
    "    label_means = {}\n",
    "    \n",
    "    for label, counts in counts_by_label.items():\n",
    "        sum = np.sum(images[i] if labels[i] == label else 0.0 for i in range(training_size))    \n",
    "        label_means[label] = sum / counts \n",
    "        \n",
    "    label_prior = {label:(counts/training_size) for label, counts in list(counts_by_label.items())}\n",
    "    \n",
    "    return label_means, label_prior"
   ]
  },
  {
   "cell_type": "code",
   "execution_count": 60,
   "metadata": {},
   "outputs": [],
   "source": [
    "def trainWithBernoulli(trainingImages, trainingLabels, testImages, testLabels):   \n",
    "    counts_by_label = countByLabel(trainingLabels)\n",
    "    print(\"Calculating Bernoulli\") \n",
    "    label_means, label_prior = calculateBernoulli(trainingImages, trainingLabels, counts_by_label)\n",
    "    \n",
    "    print(\"Getting Predictions for test images\")\n",
    "    predictions = getPredictionForImages(testImages, label_means, label_prior, counts_by_label)\n",
    "    print(\"Getting Accuracy for test images\")\n",
    "    test_accuracy =  getAccuracy(predictions, testImages, testLabels)\n",
    "    print(f\"Accuracy for test images: {test_accuracy}\")\n",
    "    \n",
    "    print(\"Getting Predictions for training images\")\n",
    "    predictions = getPredictionForImages(trainingImages, label_means, label_prior, counts_by_label)\n",
    "    print(\"Getting Accuracy for training images\")\n",
    "    training_accuracy =  getAccuracy(predictions, trainingImages, trainingLabels)\n",
    "    print(f\"Accuracy for training images: {training_accuracy}\")\n",
    "    return accuracy"
   ]
  },
  {
   "cell_type": "code",
   "execution_count": 61,
   "metadata": {},
   "outputs": [
    {
     "name": "stderr",
     "output_type": "stream",
     "text": [
      "/Users/epino/anaconda3/lib/python3.6/site-packages/ipykernel_launcher.py:6: DeprecationWarning: Calling np.sum(generator) is deprecated, and in the future will give a different result. Use np.sum(np.from_iter(generator)) or the python sum builtin instead.\n",
      "  \n"
     ]
    },
    {
     "name": "stdout",
     "output_type": "stream",
     "text": [
      "Calculating Bernoulli\n"
     ]
    },
    {
     "name": "stderr",
     "output_type": "stream",
     "text": [
      "  0%|          | 16/10000 [00:00<01:03, 156.74it/s]"
     ]
    },
    {
     "name": "stdout",
     "output_type": "stream",
     "text": [
      "Getting Predictions for test images\n"
     ]
    },
    {
     "name": "stderr",
     "output_type": "stream",
     "text": [
      "100%|██████████| 10000/10000 [01:07<00:00, 148.48it/s]\n",
      "  0%|          | 15/60000 [00:00<06:41, 149.33it/s]"
     ]
    },
    {
     "name": "stdout",
     "output_type": "stream",
     "text": [
      "Getting Accuracy for test images\n",
      "Accuracy for test images: 83.8\n",
      "Getting Predictions for training images\n"
     ]
    },
    {
     "name": "stderr",
     "output_type": "stream",
     "text": [
      "100%|██████████| 60000/60000 [06:40<00:00, 149.89it/s]"
     ]
    },
    {
     "name": "stdout",
     "output_type": "stream",
     "text": [
      "Getting Accuracy for training images\n",
      "Accuracy for training images: 83.17166666666667\n"
     ]
    },
    {
     "name": "stderr",
     "output_type": "stream",
     "text": [
      "\n"
     ]
    },
    {
     "data": {
      "text/plain": [
       "83.17166666666667"
      ]
     },
     "execution_count": 61,
     "metadata": {},
     "output_type": "execute_result"
    }
   ],
   "source": [
    "trainWithBernoulli(trainingImagesCleaned, trainingLabels, testImagesCleaned, testLabels)"
   ]
  },
  {
   "cell_type": "markdown",
   "metadata": {},
   "source": [
    "### Model 4: Bernoulli distribution with touched images"
   ]
  },
  {
   "cell_type": "code",
   "execution_count": 62,
   "metadata": {},
   "outputs": [
    {
     "name": "stdout",
     "output_type": "stream",
     "text": [
      "Calculating Bernoulli\n"
     ]
    },
    {
     "name": "stderr",
     "output_type": "stream",
     "text": [
      "/Users/epino/anaconda3/lib/python3.6/site-packages/ipykernel_launcher.py:6: DeprecationWarning: Calling np.sum(generator) is deprecated, and in the future will give a different result. Use np.sum(np.from_iter(generator)) or the python sum builtin instead.\n",
      "  \n",
      "  0%|          | 33/10000 [00:00<00:30, 328.34it/s]"
     ]
    },
    {
     "name": "stdout",
     "output_type": "stream",
     "text": [
      "Getting Predictions for test images\n"
     ]
    },
    {
     "name": "stderr",
     "output_type": "stream",
     "text": [
      "100%|██████████| 10000/10000 [00:31<00:00, 317.88it/s]\n",
      "  0%|          | 32/60000 [00:00<03:07, 319.48it/s]"
     ]
    },
    {
     "name": "stdout",
     "output_type": "stream",
     "text": [
      "Getting Accuracy for test images\n",
      "Accuracy for test images: 83.83\n",
      "Getting Predictions for training images\n"
     ]
    },
    {
     "name": "stderr",
     "output_type": "stream",
     "text": [
      "100%|██████████| 60000/60000 [03:14<00:00, 309.28it/s]"
     ]
    },
    {
     "name": "stdout",
     "output_type": "stream",
     "text": [
      "Getting Accuracy for training images\n",
      "Accuracy for training images: 82.49833333333333\n"
     ]
    },
    {
     "name": "stderr",
     "output_type": "stream",
     "text": [
      "\n"
     ]
    },
    {
     "data": {
      "text/plain": [
       "82.49833333333333"
      ]
     },
     "execution_count": 62,
     "metadata": {},
     "output_type": "execute_result"
    }
   ],
   "source": [
    "trainWithBernoulli(resizedTrainingImages, trainingLabels, resizedTestImages, testLabels)"
   ]
  },
  {
   "cell_type": "markdown",
   "metadata": {},
   "source": [
    "## Part 2B: MNIST using Decision Forest"
   ]
  },
  {
   "cell_type": "markdown",
   "metadata": {},
   "source": [
    "## Image Processing"
   ]
  },
  {
   "cell_type": "code",
   "execution_count": 63,
   "metadata": {},
   "outputs": [],
   "source": [
    "def trainWithRandomForest(trainImages, trainLabels, testImages, testLabels):\n",
    "    num_of_trees = [10, 30]\n",
    "    num_of_depths = [4, 16]\n",
    "    for [tree, depth] in list(product(num_of_trees, num_of_depths)): \n",
    "        classifier = RandomForestClassifier(n_estimators=tree, max_depth=depth)\n",
    "        classifier.fit(trainImages, trainLabels)\n",
    "        predictions = classifier.predict(testImages)\n",
    "        test_accuracy =  getAccuracy(predictions, testImages, testLabels)\n",
    "        print(f\"Accuracy for test images: {test_accuracy} using n_estimators={tree} and max_depth={depth}\")\n",
    "        \n",
    "        predictions = classifier.predict(trainImages)\n",
    "        training_accuracy =  getAccuracy(predictions, trainImages, trainLabels)\n",
    "        print(f\"Accuracy for training images: {training_accuracy} using n_estimators={tree} and max_depth={depth}\")"
   ]
  },
  {
   "cell_type": "markdown",
   "metadata": {},
   "source": [
    "### Untouched images"
   ]
  },
  {
   "cell_type": "code",
   "execution_count": 64,
   "metadata": {},
   "outputs": [
    {
     "name": "stdout",
     "output_type": "stream",
     "text": [
      "Accuracy for test images: 68.19 using n_estimators=10 and max_depth=4\n",
      "Accuracy for training images: 67.42333333333333 using n_estimators=10 and max_depth=4\n",
      "Accuracy for test images: 93.66 using n_estimators=10 and max_depth=16\n",
      "Accuracy for training images: 98.95833333333334 using n_estimators=10 and max_depth=16\n",
      "Accuracy for test images: 74.32 using n_estimators=30 and max_depth=4\n",
      "Accuracy for training images: 73.45833333333334 using n_estimators=30 and max_depth=4\n",
      "Accuracy for test images: 95.76 using n_estimators=30 and max_depth=16\n",
      "Accuracy for training images: 99.39166666666667 using n_estimators=30 and max_depth=16\n"
     ]
    }
   ],
   "source": [
    "trainWithRandomForest(trainingImagesCleaned, trainingLabels, testImagesCleaned, testLabels)"
   ]
  },
  {
   "cell_type": "markdown",
   "metadata": {},
   "source": [
    "### Touched images"
   ]
  },
  {
   "cell_type": "code",
   "execution_count": 65,
   "metadata": {},
   "outputs": [
    {
     "name": "stdout",
     "output_type": "stream",
     "text": [
      "Accuracy for test images: 73.37 using n_estimators=10 and max_depth=4\n",
      "Accuracy for training images: 72.5 using n_estimators=10 and max_depth=4\n",
      "Accuracy for test images: 95.47 using n_estimators=10 and max_depth=16\n",
      "Accuracy for training images: 99.53999999999999 using n_estimators=10 and max_depth=16\n",
      "Accuracy for test images: 75.1 using n_estimators=30 and max_depth=4\n",
      "Accuracy for training images: 73.94 using n_estimators=30 and max_depth=4\n",
      "Accuracy for test images: 96.85000000000001 using n_estimators=30 and max_depth=16\n",
      "Accuracy for training images: 99.69166666666666 using n_estimators=30 and max_depth=16\n"
     ]
    }
   ],
   "source": [
    "trainWithRandomForest(resizedTrainingImages, trainingLabels, resizedTestImages, testLabels)"
   ]
  }
 ],
 "metadata": {
  "kernelspec": {
   "display_name": "Python 3",
   "language": "python",
   "name": "python3"
  },
  "language_info": {
   "codemirror_mode": {
    "name": "ipython",
    "version": 3
   },
   "file_extension": ".py",
   "mimetype": "text/x-python",
   "name": "python",
   "nbconvert_exporter": "python",
   "pygments_lexer": "ipython3",
   "version": "3.6.2"
  }
 },
 "nbformat": 4,
 "nbformat_minor": 2
}
