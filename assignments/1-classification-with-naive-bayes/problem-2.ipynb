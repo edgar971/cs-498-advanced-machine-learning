{
 "cells": [
  {
   "cell_type": "markdown",
   "metadata": {},
   "source": [
    "# Problem 2: MNIST Image Classification"
   ]
  },
  {
   "cell_type": "code",
   "execution_count": 2,
   "metadata": {},
   "outputs": [],
   "source": [
    "%matplotlib inline\n",
    "from mnist import MNIST\n",
    "import numpy as np\n",
    "import matplotlib.pyplot as plt\n",
    "import matplotlib.image as mpimg\n",
    "from tqdm import tqdm\n",
    "from skimage.transform import resize"
   ]
  },
  {
   "cell_type": "code",
   "execution_count": 3,
   "metadata": {},
   "outputs": [],
   "source": [
    "mndata = MNIST('./data/mnist/')"
   ]
  },
  {
   "cell_type": "code",
   "execution_count": 4,
   "metadata": {},
   "outputs": [],
   "source": [
    "def showImage(pixels, label, shape = (28, 28)):\n",
    "    pixels = np.array(pixels, dtype='uint8')\n",
    "    pixels = pixels.reshape(shape)\n",
    "    plt.title('Label is {label}'.format(label=label))\n",
    "    plt.imshow(pixels, cmap='gray')\n",
    "    plt.show()"
   ]
  },
  {
   "cell_type": "markdown",
   "metadata": {},
   "source": [
    "## Part 2A: MNIST using naive Bayes"
   ]
  },
  {
   "cell_type": "markdown",
   "metadata": {},
   "source": [
    "### Using Normal distribution and untouched images"
   ]
  },
  {
   "cell_type": "code",
   "execution_count": 5,
   "metadata": {},
   "outputs": [],
   "source": [
    "def aggregateImagesByNumber(images, labels): \n",
    "    numberToImages = {}\n",
    "    for index in range(len(images)):\n",
    "        label = labels[index]\n",
    "        if(label not in numberToImages):\n",
    "            numberToImages[label] = []\n",
    "        numberToImages[label].append(images[index])\n",
    "    return numberToImages"
   ]
  },
  {
   "cell_type": "code",
   "execution_count": 6,
   "metadata": {},
   "outputs": [],
   "source": [
    "def calculateMeanAndVar(data):\n",
    "    results = []\n",
    "    for item in zip(*data):\n",
    "        meanVar = (np.nanmean(item) + 1, np.nanvar(item) + 1)\n",
    "        results.append(meanVar)\n",
    "    return results"
   ]
  },
  {
   "cell_type": "code",
   "execution_count": 7,
   "metadata": {},
   "outputs": [],
   "source": [
    "def calculateMeanAndVarForNumbers(dataByClasses):\n",
    "    results = {}\n",
    "    for classValue, values in dataByClasses.items():\n",
    "        results[classValue] = calculateMeanAndVar(values)\n",
    "    return results"
   ]
  },
  {
   "cell_type": "code",
   "execution_count": 8,
   "metadata": {},
   "outputs": [],
   "source": [
    "def calculateProbability(x, mean, var):\n",
    "    p = 1/(np.sqrt(2*np.pi*var)) * np.exp((-(x-mean)**2)/(2*var))\n",
    "    return p"
   ]
  },
  {
   "cell_type": "code",
   "execution_count": 9,
   "metadata": {},
   "outputs": [],
   "source": [
    "def calculateProbabilitiesForNumbers(dataByClasses, imagePixels):\n",
    "    classProbabilities = {}\n",
    "    for label, images in dataByClasses.items():\n",
    "        classProbabilities[label] = 1\n",
    "        for i in range(len(images)):\n",
    "            mean, var = images[i]\n",
    "            inputV = imagePixels[i]\n",
    "            prob = calculateProbability(inputV, mean, var)\n",
    "            classProbabilities[label] += prob\n",
    "    return classProbabilities"
   ]
  },
  {
   "cell_type": "code",
   "execution_count": 10,
   "metadata": {},
   "outputs": [],
   "source": [
    "def getPrediction(numberSummaries, imagePixels):\n",
    "    numberProbabilities = calculateProbabilitiesForNumbers(numberSummaries, imagePixels)\n",
    "    predictedLabel, bestProb = None, -1\n",
    "    for label, prob in numberProbabilities.items():\n",
    "        if predictedLabel is None or prob > bestProb:\n",
    "            predictedLabel = label\n",
    "            bestProb = prob\n",
    "    return predictedLabel"
   ]
  },
  {
   "cell_type": "code",
   "execution_count": 11,
   "metadata": {},
   "outputs": [],
   "source": [
    "def getPredictionsForTestNumbers(numberSummaries, testImages):\n",
    "    predictions = []\n",
    "    for imagePixels in tqdm(testImages):\n",
    "        prediction = getPrediction(numberSummaries, imagePixels)\n",
    "        predictions.append(prediction)\n",
    "    return predictions"
   ]
  },
  {
   "cell_type": "code",
   "execution_count": 12,
   "metadata": {},
   "outputs": [],
   "source": [
    "def getAccuracy(predictions, testData, testLabels):\n",
    "    accurate = 0\n",
    "    rows_in_test_set = len(testData)\n",
    "    for index in range(rows_in_test_set):\n",
    "        if predictions[index] == testLabels[index]:\n",
    "            accurate += 1\n",
    "    return (accurate / rows_in_test_set) * 100"
   ]
  },
  {
   "cell_type": "code",
   "execution_count": 13,
   "metadata": {},
   "outputs": [],
   "source": [
    "def thresholdOriginalImages(images):\n",
    "    threshold, upper, lower = 127, 1, 0\n",
    "    return np.where(np.array(images)>threshold, upper, lower)"
   ]
  },
  {
   "cell_type": "code",
   "execution_count": 14,
   "metadata": {},
   "outputs": [],
   "source": [
    "def thresholdScaledImages(imagePixels):\n",
    "    a = imagePixels.copy()\n",
    "    grey = a[a > 0]\n",
    "    mid = sum(grey) / len(grey)\n",
    "    return np.where(np.array(a)>mid, 1, 0)"
   ]
  },
  {
   "cell_type": "code",
   "execution_count": 15,
   "metadata": {},
   "outputs": [],
   "source": [
    "def resizeImage(imagePixels, size):\n",
    "    xmax, ymax = np.max(np.where(imagePixels!=0), 1)\n",
    "    xmin, ymin = np.min(np.where(imagePixels!=0), 1)\n",
    "    bounding = imagePixels[xmin:xmax,ymin:ymax]\n",
    "    resized = resize(bounding, size, mode='constant')\n",
    "    return resized"
   ]
  },
  {
   "cell_type": "code",
   "execution_count": 16,
   "metadata": {},
   "outputs": [],
   "source": [
    "def train(trainingData, trainingLabels, testData, testLabels):\n",
    "    splits = 1\n",
    "    totalAccuracy = 0\n",
    "    for step in range(splits):\n",
    "        print(\"Grouping by class\")\n",
    "        groupedByClass = aggregateImagesByNumber(trainingData, trainingLabels)\n",
    "        print(\"Calculating mean and var\")\n",
    "        classSummary = calculateMeanAndVarForNumbers(groupedByClass)\n",
    "        print(\"Getting Predictions\")\n",
    "        predictions = getPredictionsForTestNumbers(classSummary, testData)\n",
    "        print(\"Getting Accuracy\")\n",
    "        accuracy = getAccuracy(predictions, testData, testLabels)\n",
    "        totalAccuracy += accuracy\n",
    "    return totalAccuracy / splits"
   ]
  },
  {
   "cell_type": "code",
   "execution_count": 17,
   "metadata": {},
   "outputs": [
    {
     "name": "stdout",
     "output_type": "stream",
     "text": [
      "Loaded 60000 training images and 10000 test images\n"
     ]
    }
   ],
   "source": [
    "trainingDataImages, trainingLabels = mndata.load_training()\n",
    "trainingDataImages = np.array(trainingDataImages).astype(np.uint8)\n",
    "testDataImages, testLabels = mndata.load_testing()\n",
    "testDataImages = np.array(testDataImages).astype(np.uint8)\n",
    "print(f\"Loaded {len(trainingDataImages)} training images and {len(testDataImages)} test images\")"
   ]
  },
  {
   "cell_type": "code",
   "execution_count": 18,
   "metadata": {},
   "outputs": [
    {
     "name": "stdout",
     "output_type": "stream",
     "text": [
      "Applied threshold to training and test images\n"
     ]
    },
    {
     "data": {
      "image/png": "[encoded data removed]",
      "text/plain": [
       "<matplotlib.figure.Figure at 0x1c1a606c50>"
      ]
     },
     "metadata": {},
     "output_type": "display_data"
    },
    {
     "data": {
      "image/png": "[encoded data removed]",
      "text/plain": [
       "<matplotlib.figure.Figure at 0x10bcdb0b8>"
      ]
     },
     "metadata": {},
     "output_type": "display_data"
    }
   ],
   "source": [
    "trainingDataCleaned = thresholdOriginalImages(trainingDataImages)\n",
    "testDataCleaned = thresholdOriginalImages(testDataImages)\n",
    "print(f\"Applied threshold to training and test images\")\n",
    "showImage(trainingDataImages[2], trainingLabels[2])\n",
    "showImage(trainingDataCleaned[2], trainingLabels[2])"
   ]
  },
  {
   "cell_type": "code",
   "execution_count": 26,
   "metadata": {},
   "outputs": [
    {
     "name": "stdout",
     "output_type": "stream",
     "text": [
      "Resizing images to (20, 20)\n"
     ]
    },
    {
     "data": {
      "image/png": "[encoded data removed]",
      "text/plain": [
       "<matplotlib.figure.Figure at 0x1c415e3fd0>"
      ]
     },
     "metadata": {},
     "output_type": "display_data"
    }
   ],
   "source": [
    "size = (20, 20)\n",
    "print(f\"Resizing images to {size}\")\n",
    "resizedTrainingImages = np.array([np.ravel(thresholdScaledImages(resizeImage(x, size))) for x in trainingDataImages[:10].reshape((-1, 28, 28))])\n",
    "showImage(resizedTrainingImages[2], trainingLabels[2], size)"
   ]
  },
  {
   "cell_type": "code",
   "execution_count": null,
   "metadata": {},
   "outputs": [],
   "source": []
  },
  {
   "cell_type": "code",
   "execution_count": null,
   "metadata": {},
   "outputs": [],
   "source": []
  },
  {
   "cell_type": "code",
   "execution_count": null,
   "metadata": {},
   "outputs": [],
   "source": []
  }
 ],
 "metadata": {
  "kernelspec": {
   "display_name": "Python 3",
   "language": "python",
   "name": "python3"
  },
  "language_info": {
   "codemirror_mode": {
    "name": "ipython",
    "version": 3
   },
   "file_extension": ".py",
   "mimetype": "text/x-python",
   "name": "python",
   "nbconvert_exporter": "python",
   "pygments_lexer": "ipython3",
   "version": "3.6.2"
  }
 },
 "nbformat": 4,
 "nbformat_minor": 2
}
