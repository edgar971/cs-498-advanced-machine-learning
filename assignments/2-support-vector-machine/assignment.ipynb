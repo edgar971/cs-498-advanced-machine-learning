{
 "cells": [
  {
   "cell_type": "markdown",
   "metadata": {},
   "source": [
    "# Homework 2: Classification With Support Vector Machines\n"
   ]
  },
  {
   "cell_type": "markdown",
   "metadata": {},
   "source": [
    "## Setup and Loading Data"
   ]
  },
  {
   "cell_type": "code",
   "execution_count": 1,
   "metadata": {},
   "outputs": [],
   "source": [
    "%matplotlib inline\n",
    "import pandas as pd\n",
    "import numpy as np\n",
    "import matplotlib.pyplot as plt\n",
    "from tqdm import tqdm\n",
    "from sklearn.preprocessing import StandardScaler\n",
    "plt.close('all')"
   ]
  },
  {
   "cell_type": "code",
   "execution_count": 2,
   "metadata": {},
   "outputs": [],
   "source": [
    "# https://archive.ics.uci.edu/ml/datasets/Adult\n",
    "def loadData(columns):\n",
    "    training = pd.read_csv('./data/train.txt', header=None)\n",
    "    training_labels = training.iloc[:,-1]\n",
    "    testing = pd.read_csv('./data/test.txt', header=None, usecols=columns)\n",
    "    return training[columns], training_labels,  testing"
   ]
  },
  {
   "cell_type": "code",
   "execution_count": 3,
   "metadata": {},
   "outputs": [],
   "source": [
    "def createScaler(data): \n",
    "    scaler = StandardScaler()\n",
    "    return scaler.fit(data)"
   ]
  },
  {
   "cell_type": "code",
   "execution_count": 4,
   "metadata": {},
   "outputs": [],
   "source": [
    "def scaleData(trainingData, testingData): \n",
    "    scaler = createScaler(trainingData)\n",
    "    training_scaled = scaler.transform(trainingData)\n",
    "    testing_scaled = scaler.transform(testingData)\n",
    "    return pd.DataFrame(training_scaled), pd.DataFrame(testing_scaled)"
   ]
  },
  {
   "cell_type": "code",
   "execution_count": 5,
   "metadata": {},
   "outputs": [],
   "source": [
    "def splitDataAtRandom(data, trainingSize=.9):\n",
    "    split_index = int(data.shape[0] * trainingSize)\n",
    "    indexes = np.arange(data.shape[0])\n",
    "    np.random.shuffle(indexes)\n",
    "    return data.iloc[indexes[0:split_index]], data.iloc[indexes[split_index:]]"
   ]
  },
  {
   "cell_type": "code",
   "execution_count": 6,
   "metadata": {},
   "outputs": [],
   "source": [
    "def getRandomData(data, size=50):\n",
    "    return data.sample(size)"
   ]
  },
  {
   "cell_type": "code",
   "execution_count": 7,
   "metadata": {},
   "outputs": [],
   "source": [
    "continuous_columns = [0,2,4,10,11,12]"
   ]
  },
  {
   "cell_type": "code",
   "execution_count": 8,
   "metadata": {},
   "outputs": [
    {
     "name": "stdout",
     "output_type": "stream",
     "text": [
      "Loaded 43957 training rows, 43957 training labels, and 4885 testing rows\n"
     ]
    }
   ],
   "source": [
    "training, training_labels, testing = loadData(continuous_columns)\n",
    "print(f\"Loaded {training.shape[0]} training rows, {training_labels.shape[0]} training labels, and {testing.shape[0]} testing rows\")"
   ]
  },
  {
   "cell_type": "code",
   "execution_count": 9,
   "metadata": {},
   "outputs": [],
   "source": [
    "cleaned_labels = training_labels.map(lambda x: x.strip())\n",
    "cleaned_labels = cleaned_labels.replace('>50K', 1)\n",
    "cleaned_labels = cleaned_labels.replace('<=50K', -1)"
   ]
  },
  {
   "cell_type": "markdown",
   "metadata": {},
   "source": [
    "## Explore"
   ]
  },
  {
   "cell_type": "code",
   "execution_count": 10,
   "metadata": {},
   "outputs": [
    {
     "data": {
      "image/png": "[encoded data removed]",
      "text/plain": [
       "<matplotlib.figure.Figure at 0x10d7f5898>"
      ]
     },
     "metadata": {},
     "output_type": "display_data"
    }
   ],
   "source": [
    "cleaned_labels.value_counts().plot(kind='bar')\n",
    "plt.show()"
   ]
  },
  {
   "cell_type": "code",
   "execution_count": 11,
   "metadata": {},
   "outputs": [
    {
     "data": {
      "text/html": [
       "<div>\n",
       "<style>\n",
       "    .dataframe thead tr:only-child th {\n",
       "        text-align: right;\n",
       "    }\n",
       "\n",
       "    .dataframe thead th {\n",
       "        text-align: left;\n",
       "    }\n",
       "\n",
       "    .dataframe tbody tr th {\n",
       "        vertical-align: top;\n",
       "    }\n",
       "</style>\n",
       "<table border=\"1\" class=\"dataframe\">\n",
       "  <thead>\n",
       "    <tr style=\"text-align: right;\">\n",
       "      <th></th>\n",
       "      <th>0</th>\n",
       "      <th>2</th>\n",
       "      <th>4</th>\n",
       "      <th>10</th>\n",
       "      <th>11</th>\n",
       "      <th>12</th>\n",
       "    </tr>\n",
       "  </thead>\n",
       "  <tbody>\n",
       "    <tr>\n",
       "      <th>count</th>\n",
       "      <td>43957.000000</td>\n",
       "      <td>4.395700e+04</td>\n",
       "      <td>43957.000000</td>\n",
       "      <td>43957.000000</td>\n",
       "      <td>43957.000000</td>\n",
       "      <td>43957.000000</td>\n",
       "    </tr>\n",
       "    <tr>\n",
       "      <th>mean</th>\n",
       "      <td>38.635121</td>\n",
       "      <td>1.897506e+05</td>\n",
       "      <td>10.078531</td>\n",
       "      <td>1088.224538</td>\n",
       "      <td>86.624337</td>\n",
       "      <td>40.413768</td>\n",
       "    </tr>\n",
       "    <tr>\n",
       "      <th>std</th>\n",
       "      <td>13.709061</td>\n",
       "      <td>1.059574e+05</td>\n",
       "      <td>2.566403</td>\n",
       "      <td>7548.199742</td>\n",
       "      <td>400.228624</td>\n",
       "      <td>12.326645</td>\n",
       "    </tr>\n",
       "    <tr>\n",
       "      <th>min</th>\n",
       "      <td>17.000000</td>\n",
       "      <td>1.228500e+04</td>\n",
       "      <td>1.000000</td>\n",
       "      <td>0.000000</td>\n",
       "      <td>0.000000</td>\n",
       "      <td>1.000000</td>\n",
       "    </tr>\n",
       "    <tr>\n",
       "      <th>25%</th>\n",
       "      <td>28.000000</td>\n",
       "      <td>1.175670e+05</td>\n",
       "      <td>9.000000</td>\n",
       "      <td>0.000000</td>\n",
       "      <td>0.000000</td>\n",
       "      <td>40.000000</td>\n",
       "    </tr>\n",
       "    <tr>\n",
       "      <th>50%</th>\n",
       "      <td>37.000000</td>\n",
       "      <td>1.779740e+05</td>\n",
       "      <td>10.000000</td>\n",
       "      <td>0.000000</td>\n",
       "      <td>0.000000</td>\n",
       "      <td>40.000000</td>\n",
       "    </tr>\n",
       "    <tr>\n",
       "      <th>75%</th>\n",
       "      <td>48.000000</td>\n",
       "      <td>2.376300e+05</td>\n",
       "      <td>12.000000</td>\n",
       "      <td>0.000000</td>\n",
       "      <td>0.000000</td>\n",
       "      <td>45.000000</td>\n",
       "    </tr>\n",
       "    <tr>\n",
       "      <th>max</th>\n",
       "      <td>90.000000</td>\n",
       "      <td>1.490400e+06</td>\n",
       "      <td>16.000000</td>\n",
       "      <td>99999.000000</td>\n",
       "      <td>4356.000000</td>\n",
       "      <td>99.000000</td>\n",
       "    </tr>\n",
       "  </tbody>\n",
       "</table>\n",
       "</div>"
      ],
      "text/plain": [
       "                 0             2             4             10            11  \\\n",
       "count  43957.000000  4.395700e+04  43957.000000  43957.000000  43957.000000   \n",
       "mean      38.635121  1.897506e+05     10.078531   1088.224538     86.624337   \n",
       "std       13.709061  1.059574e+05      2.566403   7548.199742    400.228624   \n",
       "min       17.000000  1.228500e+04      1.000000      0.000000      0.000000   \n",
       "25%       28.000000  1.175670e+05      9.000000      0.000000      0.000000   \n",
       "50%       37.000000  1.779740e+05     10.000000      0.000000      0.000000   \n",
       "75%       48.000000  2.376300e+05     12.000000      0.000000      0.000000   \n",
       "max       90.000000  1.490400e+06     16.000000  99999.000000   4356.000000   \n",
       "\n",
       "                 12  \n",
       "count  43957.000000  \n",
       "mean      40.413768  \n",
       "std       12.326645  \n",
       "min        1.000000  \n",
       "25%       40.000000  \n",
       "50%       40.000000  \n",
       "75%       45.000000  \n",
       "max       99.000000  "
      ]
     },
     "execution_count": 11,
     "metadata": {},
     "output_type": "execute_result"
    }
   ],
   "source": [
    "training.describe()"
   ]
  },
  {
   "cell_type": "markdown",
   "metadata": {},
   "source": [
    "## Scale Data"
   ]
  },
  {
   "cell_type": "code",
   "execution_count": 12,
   "metadata": {},
   "outputs": [],
   "source": [
    "training_scaled, testing_scaled = scaleData(training, testing)"
   ]
  },
  {
   "cell_type": "markdown",
   "metadata": {},
   "source": [
    "## Train"
   ]
  },
  {
   "cell_type": "code",
   "execution_count": 13,
   "metadata": {},
   "outputs": [],
   "source": [
    "def calculateHingeLoss(confidence, labels):\n",
    "    loss = 1 - confidence * labels\n",
    "    loss[loss < 0] = 0\n",
    "    return loss"
   ]
  },
  {
   "cell_type": "code",
   "execution_count": 14,
   "metadata": {},
   "outputs": [],
   "source": [
    "def calculateConfidence(X, w, b):\n",
    "    return X @ w + b\n",
    "\n",
    "def makePrediction(data, w, b):\n",
    "    predictions = []\n",
    "    for c in calculateConfidence(data,w,b):\n",
    "        if c >= 0:\n",
    "            predictions.append(1)\n",
    "        else:\n",
    "            predictions.append(-1)\n",
    "    return np.array(predictions)"
   ]
  },
  {
   "cell_type": "code",
   "execution_count": 15,
   "metadata": {},
   "outputs": [],
   "source": [
    "def calculateAccuracy(true_labels, predictions):\n",
    "    accuracy = 0\n",
    "    for index in range(len(true_labels)):\n",
    "        if(true_labels.iloc[index] == predictions[index]):\n",
    "            accuracy +=1\n",
    "\n",
    "    return (accuracy / len(true_labels))"
   ]
  },
  {
   "cell_type": "code",
   "execution_count": 16,
   "metadata": {},
   "outputs": [],
   "source": [
    "def sgd(features, b, data, labels, regularization):\n",
    "    rows_count = data.shape[0]\n",
    "    confidence = calculateConfidence(data,features,b)\n",
    "    loss = calculateHingeLoss(confidence, labels)\n",
    "    cost = np.squeeze(np.sum(loss) / rows_count + regularization * features.transpose() @ features / 2)\n",
    "    \n",
    "    has_loss = loss > 0\n",
    "    dw = np.array(np.sum(has_loss * labels * data.transpose(), axis = 1) / rows_count - regularization * features)\n",
    "    db = np.sum(has_loss * labels) / rows_count - regularization * b\n",
    "    \n",
    "    return dw, db, cost"
   ]
  },
  {
   "cell_type": "code",
   "execution_count": 34,
   "metadata": {},
   "outputs": [],
   "source": [
    "def train(training_data, labels):\n",
    "    regularizations = [1e-4, 1e-3, 1e-2, 1e-1, 1]\n",
    "    accuraciesByReg = {}\n",
    "    coefficientsByReg = {}\n",
    "    epochs = 100\n",
    "    batch_size = 20\n",
    "    evaluate_step = 30\n",
    "    steps = 390\n",
    "    held_out_amount = 50\n",
    "    best_accuracy = 0\n",
    "    best_reg = None\n",
    "    \n",
    "    for regularization in regularizations:\n",
    "        print(f\"Regularization {regularization}\")\n",
    "        train, test = splitDataAtRandom(training_data)\n",
    "        test_labels = labels.iloc[test.index.values.tolist()]\n",
    "        features, b = np.zeros((6,)), 0.0\n",
    "        best_accuracy = 0\n",
    "        all_accuracies = []\n",
    "        all_costs = []\n",
    "        all_features = []\n",
    "        \n",
    "        for epoch in tqdm(range(epochs)):\n",
    "            held_out_test = getRandomData(train, held_out_amount)\n",
    "            held_out_labels = labels.iloc[held_out_test.index.values.tolist()]\n",
    "            \n",
    "            train_rest = train.drop(held_out_test.index.values.tolist())\n",
    "            \n",
    "            for step in range(steps):\n",
    "                step_train = getRandomData(train, batch_size)\n",
    "                step_train_labels = labels.iloc[step_train.index.values.tolist()]\n",
    "                \n",
    "                dw,db,cost = sgd(features, b, step_train, step_train_labels, regularization)\n",
    "                \n",
    "                if step % evaluate_step == 0:\n",
    "                    held_out_predictions = makePrediction(held_out_test,features,b)\n",
    "                    accuracy = calculateAccuracy(held_out_labels, held_out_predictions)\n",
    "                    all_accuracies.append(accuracy)\n",
    "                    all_costs.append(cost)\n",
    "                    all_features.append(np.linalg.norm(features))\n",
    "                    \n",
    "                learning_rate = 1 / (0.1 * epoch + batch_size)\n",
    "                features += learning_rate * dw\n",
    "                b += learning_rate * db\n",
    "        \n",
    "        test_predictions = makePrediction(test, features, b)\n",
    "        rate_accuracy = calculateAccuracy(test_labels, test_predictions)\n",
    "        \n",
    "        if rate_accuracy > best_accuracy:\n",
    "            best_accuracy = rate_accuracy\n",
    "            best_reg = regularization\n",
    "            \n",
    "        accuraciesByReg[str(regularization)] = all_accuracies\n",
    "        coefficientsByReg[str(regularization)] = all_features\n",
    "    return accuraciesByReg, coefficientsByReg, best_reg, best_accuracy"
   ]
  },
  {
   "cell_type": "code",
   "execution_count": 29,
   "metadata": {},
   "outputs": [],
   "source": [
    "def plotAccuracies(accuraciesByReg):\n",
    "    for name, data in accuraciesByReg.items():\n",
    "        plt.plot(data, label=name)\n",
    "    plt.title('Regularization Accuracies')\n",
    "    plt.xlabel('Steps')\n",
    "    plt.ylabel('Accurancy')\n",
    "    plt.legend()\n",
    "    plt.show()"
   ]
  },
  {
   "cell_type": "code",
   "execution_count": 30,
   "metadata": {},
   "outputs": [],
   "source": [
    "def plotCoefficient(data):\n",
    "    for name, d in data.items():\n",
    "        plt.plot(d, label=name)\n",
    "    plt.title('Coefficient Magnitude')\n",
    "    plt.xlabel('Steps')\n",
    "    plt.ylabel('Magnitude')\n",
    "    plt.legend()\n",
    "    plt.show()"
   ]
  },
  {
   "cell_type": "code",
   "execution_count": null,
   "metadata": {},
   "outputs": [
    {
     "name": "stderr",
     "output_type": "stream",
     "text": [
      "  0%|          | 0/100 [00:00<?, ?it/s]"
     ]
    },
    {
     "name": "stdout",
     "output_type": "stream",
     "text": [
      "Regularization 0.0001\n"
     ]
    },
    {
     "name": "stderr",
     "output_type": "stream",
     "text": [
      "  4%|▍         | 4/100 [00:04<01:49,  1.14s/it]"
     ]
    }
   ],
   "source": [
    "accuraciesByReg, coefficientsByReg, best_reg, best_accuracy = train(training_scaled, cleaned_labels)"
   ]
  },
  {
   "cell_type": "code",
   "execution_count": 32,
   "metadata": {},
   "outputs": [
    {
     "data": {
      "image/png": "[encoded data removed]",
      "text/plain": [
       "<matplotlib.figure.Figure at 0x1a22cdd438>"
      ]
     },
     "metadata": {},
     "output_type": "display_data"
    }
   ],
   "source": [
    "plotAccuracies(accuraciesByReg)"
   ]
  },
  {
   "cell_type": "code",
   "execution_count": 33,
   "metadata": {},
   "outputs": [
    {
     "data": {
      "image/png": "[encoded data removed]",
      "text/plain": [
       "<matplotlib.figure.Figure at 0x1a1f2c5518>"
      ]
     },
     "metadata": {},
     "output_type": "display_data"
    }
   ],
   "source": [
    "plotCoefficient(coefficientsByReg)"
   ]
  },
  {
   "cell_type": "code",
   "execution_count": null,
   "metadata": {},
   "outputs": [],
   "source": []
  },
  {
   "cell_type": "code",
   "execution_count": null,
   "metadata": {},
   "outputs": [],
   "source": []
  },
  {
   "cell_type": "code",
   "execution_count": null,
   "metadata": {},
   "outputs": [],
   "source": []
  }
 ],
 "metadata": {
  "kernelspec": {
   "display_name": "Python 3",
   "language": "python",
   "name": "python3"
  },
  "language_info": {
   "codemirror_mode": {
    "name": "ipython",
    "version": 3
   },
   "file_extension": ".py",
   "mimetype": "text/x-python",
   "name": "python",
   "nbconvert_exporter": "python",
   "pygments_lexer": "ipython3",
   "version": "3.6.2"
  }
 },
 "nbformat": 4,
 "nbformat_minor": 2
}
