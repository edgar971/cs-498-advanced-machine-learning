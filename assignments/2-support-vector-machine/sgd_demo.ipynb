{
 "cells": [
  {
   "cell_type": "code",
   "execution_count": 3,
   "metadata": {
    "colab": {},
    "colab_type": "code",
    "id": "MQRJUzlI9y7P"
   },
   "outputs": [],
   "source": [
    "import random\n",
    "import math\n",
    "\n",
    "import numpy as np\n",
    "import matplotlib.pyplot as plt\n",
    "from matplotlib import animation, rc\n",
    "from IPython.display import HTML\n"
   ]
  },
  {
   "cell_type": "code",
   "execution_count": 8,
   "metadata": {
    "colab": {},
    "colab_type": "code",
    "id": "Sk233h_C8NTw"
   },
   "outputs": [],
   "source": [
    "# Generate some fake data.\n",
    "\n",
    "def f(x, a=0, b=0):\n",
    "  return np.multiply(a, x) + b\n",
    "\n",
    "real_a, real_b = (0.7, 0.3)\n",
    "\n",
    "x = np.random.uniform(0.1, 4.9, size=25)\n",
    "y = f(x, a=real_a, b=real_b) + np.random.uniform(-0.025, 0.025, size=25)\n"
   ]
  },
  {
   "cell_type": "code",
   "execution_count": 21,
   "metadata": {},
   "outputs": [
    {
     "data": {
      "text/plain": [
       "array([0.6226122 , 3.64479056, 1.96034792, 1.90718833, 0.96107154,\n",
       "       3.71149974, 1.2827879 , 2.63348418, 0.91192681, 0.65636866,\n",
       "       1.53369641, 3.07514029, 0.47455737, 1.71305954, 3.23828451,\n",
       "       1.65430981, 3.62503262, 3.14910678, 3.40987375, 2.62449821,\n",
       "       2.4863592 , 1.36195604, 0.6680317 , 1.1999587 , 3.43359442])"
      ]
     },
     "execution_count": 21,
     "metadata": {},
     "output_type": "execute_result"
    }
   ],
   "source": []
  },
  {
   "cell_type": "markdown",
   "metadata": {
    "colab_type": "text",
    "id": "Td5uxvLeBO8C"
   },
   "source": [
    "**My Cost Function** (it is different from SVM cost)\n",
    "\n",
    "$cost(x, y) = \\frac{1}{N}\\sum (y-(a^T x+b))^2 + \\lambda a^T a$\n",
    "\n",
    "**Gradients with respect to a,b**\n",
    "\n",
    "$\\nabla_a cost(x, y) = \\left [\\frac{1}{N}\\sum -2x \\cdot (y-(a^T x+b)) \\right ] + \\lambda a$\n",
    "\n",
    "$\\nabla_b cost(x, y) = \\left [\\frac{1}{N}\\sum -2 \\cdot (y-(a^T x+b))  \\right ]$"
   ]
  },
  {
   "cell_type": "code",
   "execution_count": 23,
   "metadata": {
    "colab": {},
    "colab_type": "code",
    "id": "QeU8owBV94kg"
   },
   "outputs": [],
   "source": [
    "# x: feature vector\n",
    "# y: true label value\n",
    "# a, b: learned parameters\n",
    "#\n",
    "# Returns: Cost of 1/N sum [ (y - (ax+b))^2]\n",
    "#\n",
    "# This is not the SVM cost function.  It is simple linear regression but\n",
    "# conceptually gradient descent will work the same way.\n",
    "#\n",
    "# This code assumes a & x are scalars, i.e. we have only a single feature.\n",
    "# Everything below would need to be slightly rewriten to handle multiple\n",
    "# features.\n",
    "def cost_function(x, y, a, b):\n",
    "  return np.mean( np.square( y - f(x, a, b) ))\n",
    "  \n",
    "\n",
    "# x: feature vector\n",
    "# y: true label value\n",
    "# a, b: current estimate of learned parameters\n",
    "def gradient_of_cost(x, y, a, b, lam=0):\n",
    "  print(y)\n",
    "  # Gradient w.r.t. a = Cost of 1/N sum [ (y - (ax+b))^2]\n",
    "  gradient_a = np.mean( np.multiply(-2, np.multiply((y - f(x, a, b)), x))) + np.multiply(lam, a)\n",
    "  gradient_b = np.mean( np.multiply(-2, (y - f(x, a, b)) ))\n",
    "  \n",
    "  return [gradient_a, gradient_b]"
   ]
  },
  {
   "cell_type": "code",
   "execution_count": 11,
   "metadata": {
    "cellView": "form",
    "colab": {},
    "colab_type": "code",
    "id": "RElfaRflJYdt"
   },
   "outputs": [],
   "source": [
    "#@title Animation code.  Totally unrelated to SGD and SVMs.\n",
    "# \n",
    "\n",
    "def animate(all_a_est, all_b_est, all_costs):\n",
    "  # Uses globals x, y, f, cost_function, etc.  Bad.  \n",
    "  \n",
    "  a_range = (np.min(all_a_est)-0.1, np.max(all_a_est)+0.1)\n",
    "  b_range = (np.min(all_b_est)-0.1, np.max(all_b_est)+0.1)\n",
    "  \n",
    "  costs_range = (np.min(all_costs), np.max(all_costs)*1.05)\n",
    "  \n",
    "  # First set up the figure, the axes, and the plot element\n",
    "  fig, all_ax = plt.subplots(1,3,figsize=(18,5))\n",
    "  plt.close()\n",
    "\n",
    "  # Parameter Space graph\n",
    "  ax = all_ax[0]\n",
    "\n",
    "  ax.set_xlim(a_range)\n",
    "  ax.set_ylim(b_range)\n",
    "  ax.set_xlabel(\"a\")\n",
    "  ax.set_ylabel(\"b\")\n",
    "  ax.set_title(\"Parameter space (a & b)\")\n",
    "\n",
    "  init_lines = []\n",
    "  init_lines.append(ax.plot(real_a, real_b, 'go'))\n",
    "\n",
    "  line2, = ax.plot([], [], lw=2)\n",
    "  \n",
    "  # Cost Graph\n",
    "  ax = all_ax[1]\n",
    "\n",
    "  ax.set_xlim((0, len(all_costs)))\n",
    "  ax.set_ylim(costs_range)\n",
    "  \n",
    "  ax.set_xlabel(\"Iteration\")\n",
    "  ax.set_ylabel(\"Log(Cost(Training))\")\n",
    "  ax.set_title(\"Cost Function\")\n",
    "\n",
    "  cost_line, = ax.plot([], [])\n",
    "  \n",
    "  # ax+b and data\n",
    "  ax = all_ax[2]\n",
    "  \n",
    "  init_lines.append(ax.plot(x, y, 'bo'))\n",
    "  line3, = ax.plot([], [], lw=2)\n",
    "  \n",
    "  # Hardcode data limits cause I am lazy.\n",
    "  ax.set_xlim((0, 5))\n",
    "  ax.set_ylim((0,4))\n",
    "  \n",
    "  ax.set_xlabel(\"x\")\n",
    "  ax.set_ylabel(\"y (i.e. label)\")\n",
    "  ax.set_title(\"Estimate = ax+b\")\n",
    "  \n",
    "\n",
    "  # initialization function: plot the background of each frame\n",
    "  def init():    \n",
    "      return init_lines\n",
    "\n",
    "  # animation function: this is called sequentially\n",
    "  def update_frame(i):\n",
    "    line2.set_data(all_a_est[0:i], all_b_est[0:i])\n",
    "    cost_line.set_data(np.arange(0,i), all_costs[0:i])\n",
    "    line3.set_data([0,5], [all_b_est[i], all_a_est[i]*5+all_b_est[i]])\n",
    "    return (line2,cost_line,)\n",
    "\n",
    "  anim = animation.FuncAnimation(fig, update_frame, init_func=init, frames=len(all_a_est), interval=100, blit=False)\n",
    "\n",
    "  rc('animation', html='jshtml')\n",
    "  return anim"
   ]
  },
  {
   "cell_type": "code",
   "execution_count": 12,
   "metadata": {
    "cellView": "form",
    "colab": {},
    "colab_type": "code",
    "id": "8AGJG3UOMsuG"
   },
   "outputs": [
    {
     "ename": "ValueError",
     "evalue": "Key animation.html: Unrecognized animation.html string \"jshtml\": valid strings are ['html5', 'none']",
     "output_type": "error",
     "traceback": [
      "\u001b[0;31m---------------------------------------------------------------------------\u001b[0m",
      "\u001b[0;31mValueError\u001b[0m                                Traceback (most recent call last)",
      "\u001b[0;32m~/anaconda3/lib/python3.6/site-packages/matplotlib/__init__.py\u001b[0m in \u001b[0;36m__setitem__\u001b[0;34m(self, key, val)\u001b[0m\n\u001b[1;32m    925\u001b[0m             \u001b[0;32mtry\u001b[0m\u001b[0;34m:\u001b[0m\u001b[0;34m\u001b[0m\u001b[0m\n\u001b[0;32m--> 926\u001b[0;31m                 \u001b[0mcval\u001b[0m \u001b[0;34m=\u001b[0m \u001b[0mself\u001b[0m\u001b[0;34m.\u001b[0m\u001b[0mvalidate\u001b[0m\u001b[0;34m[\u001b[0m\u001b[0mkey\u001b[0m\u001b[0;34m]\u001b[0m\u001b[0;34m(\u001b[0m\u001b[0mval\u001b[0m\u001b[0;34m)\u001b[0m\u001b[0;34m\u001b[0m\u001b[0m\n\u001b[0m\u001b[1;32m    927\u001b[0m             \u001b[0;32mexcept\u001b[0m \u001b[0mValueError\u001b[0m \u001b[0;32mas\u001b[0m \u001b[0mve\u001b[0m\u001b[0;34m:\u001b[0m\u001b[0;34m\u001b[0m\u001b[0m\n",
      "\u001b[0;32m~/anaconda3/lib/python3.6/site-packages/matplotlib/rcsetup.py\u001b[0m in \u001b[0;36m__call__\u001b[0;34m(self, s)\u001b[0m\n\u001b[1;32m     72\u001b[0m         raise ValueError('Unrecognized %s string \"%s\": valid strings are %s'\n\u001b[0;32m---> 73\u001b[0;31m                          % (self.key, s, list(six.itervalues(self.valid))))\n\u001b[0m\u001b[1;32m     74\u001b[0m \u001b[0;34m\u001b[0m\u001b[0m\n",
      "\u001b[0;31mValueError\u001b[0m: Unrecognized animation.html string \"jshtml\": valid strings are ['html5', 'none']",
      "\nDuring handling of the above exception, another exception occurred:\n",
      "\u001b[0;31mValueError\u001b[0m                                Traceback (most recent call last)",
      "\u001b[0;32m<ipython-input-12-9fc33c0e4600>\u001b[0m in \u001b[0;36m<module>\u001b[0;34m()\u001b[0m\n\u001b[1;32m      1\u001b[0m \u001b[0;31m#@title Animation Test Code.  Ignore.\u001b[0m\u001b[0;34m\u001b[0m\u001b[0;34m\u001b[0m\u001b[0m\n\u001b[0;32m----> 2\u001b[0;31m \u001b[0manimate\u001b[0m\u001b[0;34m(\u001b[0m\u001b[0;34m[\u001b[0m\u001b[0;36m0\u001b[0m\u001b[0;34m,\u001b[0m\u001b[0;36m1\u001b[0m\u001b[0;34m,\u001b[0m\u001b[0;36m0.5\u001b[0m\u001b[0;34m,\u001b[0m\u001b[0;36m.6\u001b[0m\u001b[0;34m,\u001b[0m\u001b[0;36m.3\u001b[0m\u001b[0;34m]\u001b[0m\u001b[0;34m,\u001b[0m \u001b[0;34m[\u001b[0m\u001b[0;36m1\u001b[0m\u001b[0;34m,\u001b[0m\u001b[0;36m.3\u001b[0m\u001b[0;34m,\u001b[0m\u001b[0;36m.4\u001b[0m\u001b[0;34m,\u001b[0m\u001b[0;36m.2\u001b[0m\u001b[0;34m,\u001b[0m\u001b[0;36m.9\u001b[0m\u001b[0;34m]\u001b[0m\u001b[0;34m,\u001b[0m\u001b[0;34m[\u001b[0m\u001b[0;36m0\u001b[0m\u001b[0;34m,\u001b[0m\u001b[0;36m1\u001b[0m\u001b[0;34m,\u001b[0m\u001b[0;36m2\u001b[0m\u001b[0;34m,\u001b[0m\u001b[0;36m1\u001b[0m\u001b[0;34m,\u001b[0m\u001b[0;36m3\u001b[0m\u001b[0;34m]\u001b[0m\u001b[0;34m)\u001b[0m  \u001b[0;31m# Test case for animation code.\u001b[0m\u001b[0;34m\u001b[0m\u001b[0m\n\u001b[0m",
      "\u001b[0;32m<ipython-input-11-5b15e92532bd>\u001b[0m in \u001b[0;36manimate\u001b[0;34m(all_a_est, all_b_est, all_costs)\u001b[0m\n\u001b[1;32m     68\u001b[0m   \u001b[0manim\u001b[0m \u001b[0;34m=\u001b[0m \u001b[0manimation\u001b[0m\u001b[0;34m.\u001b[0m\u001b[0mFuncAnimation\u001b[0m\u001b[0;34m(\u001b[0m\u001b[0mfig\u001b[0m\u001b[0;34m,\u001b[0m \u001b[0mupdate_frame\u001b[0m\u001b[0;34m,\u001b[0m \u001b[0minit_func\u001b[0m\u001b[0;34m=\u001b[0m\u001b[0minit\u001b[0m\u001b[0;34m,\u001b[0m \u001b[0mframes\u001b[0m\u001b[0;34m=\u001b[0m\u001b[0mlen\u001b[0m\u001b[0;34m(\u001b[0m\u001b[0mall_a_est\u001b[0m\u001b[0;34m)\u001b[0m\u001b[0;34m,\u001b[0m \u001b[0minterval\u001b[0m\u001b[0;34m=\u001b[0m\u001b[0;36m100\u001b[0m\u001b[0;34m,\u001b[0m \u001b[0mblit\u001b[0m\u001b[0;34m=\u001b[0m\u001b[0;32mFalse\u001b[0m\u001b[0;34m)\u001b[0m\u001b[0;34m\u001b[0m\u001b[0m\n\u001b[1;32m     69\u001b[0m \u001b[0;34m\u001b[0m\u001b[0m\n\u001b[0;32m---> 70\u001b[0;31m   \u001b[0mrc\u001b[0m\u001b[0;34m(\u001b[0m\u001b[0;34m'animation'\u001b[0m\u001b[0;34m,\u001b[0m \u001b[0mhtml\u001b[0m\u001b[0;34m=\u001b[0m\u001b[0;34m'jshtml'\u001b[0m\u001b[0;34m)\u001b[0m\u001b[0;34m\u001b[0m\u001b[0m\n\u001b[0m\u001b[1;32m     71\u001b[0m   \u001b[0;32mreturn\u001b[0m \u001b[0manim\u001b[0m\u001b[0;34m\u001b[0m\u001b[0m\n",
      "\u001b[0;32m~/anaconda3/lib/python3.6/site-packages/matplotlib/__init__.py\u001b[0m in \u001b[0;36mrc\u001b[0;34m(group, **kwargs)\u001b[0m\n\u001b[1;32m   1278\u001b[0m             \u001b[0mkey\u001b[0m \u001b[0;34m=\u001b[0m \u001b[0;34m'%s.%s'\u001b[0m \u001b[0;34m%\u001b[0m \u001b[0;34m(\u001b[0m\u001b[0mg\u001b[0m\u001b[0;34m,\u001b[0m \u001b[0mname\u001b[0m\u001b[0;34m)\u001b[0m\u001b[0;34m\u001b[0m\u001b[0m\n\u001b[1;32m   1279\u001b[0m             \u001b[0;32mtry\u001b[0m\u001b[0;34m:\u001b[0m\u001b[0;34m\u001b[0m\u001b[0m\n\u001b[0;32m-> 1280\u001b[0;31m                 \u001b[0mrcParams\u001b[0m\u001b[0;34m[\u001b[0m\u001b[0mkey\u001b[0m\u001b[0;34m]\u001b[0m \u001b[0;34m=\u001b[0m \u001b[0mv\u001b[0m\u001b[0;34m\u001b[0m\u001b[0m\n\u001b[0m\u001b[1;32m   1281\u001b[0m             \u001b[0;32mexcept\u001b[0m \u001b[0mKeyError\u001b[0m\u001b[0;34m:\u001b[0m\u001b[0;34m\u001b[0m\u001b[0m\n\u001b[1;32m   1282\u001b[0m                 raise KeyError(('Unrecognized key \"%s\" for group \"%s\" and '\n",
      "\u001b[0;32m~/anaconda3/lib/python3.6/site-packages/matplotlib/__init__.py\u001b[0m in \u001b[0;36m__setitem__\u001b[0;34m(self, key, val)\u001b[0m\n\u001b[1;32m    926\u001b[0m                 \u001b[0mcval\u001b[0m \u001b[0;34m=\u001b[0m \u001b[0mself\u001b[0m\u001b[0;34m.\u001b[0m\u001b[0mvalidate\u001b[0m\u001b[0;34m[\u001b[0m\u001b[0mkey\u001b[0m\u001b[0;34m]\u001b[0m\u001b[0;34m(\u001b[0m\u001b[0mval\u001b[0m\u001b[0;34m)\u001b[0m\u001b[0;34m\u001b[0m\u001b[0m\n\u001b[1;32m    927\u001b[0m             \u001b[0;32mexcept\u001b[0m \u001b[0mValueError\u001b[0m \u001b[0;32mas\u001b[0m \u001b[0mve\u001b[0m\u001b[0;34m:\u001b[0m\u001b[0;34m\u001b[0m\u001b[0m\n\u001b[0;32m--> 928\u001b[0;31m                 \u001b[0;32mraise\u001b[0m \u001b[0mValueError\u001b[0m\u001b[0;34m(\u001b[0m\u001b[0;34m\"Key %s: %s\"\u001b[0m \u001b[0;34m%\u001b[0m \u001b[0;34m(\u001b[0m\u001b[0mkey\u001b[0m\u001b[0;34m,\u001b[0m \u001b[0mstr\u001b[0m\u001b[0;34m(\u001b[0m\u001b[0mve\u001b[0m\u001b[0;34m)\u001b[0m\u001b[0;34m)\u001b[0m\u001b[0;34m)\u001b[0m\u001b[0;34m\u001b[0m\u001b[0m\n\u001b[0m\u001b[1;32m    929\u001b[0m             \u001b[0mdict\u001b[0m\u001b[0;34m.\u001b[0m\u001b[0m__setitem__\u001b[0m\u001b[0;34m(\u001b[0m\u001b[0mself\u001b[0m\u001b[0;34m,\u001b[0m \u001b[0mkey\u001b[0m\u001b[0;34m,\u001b[0m \u001b[0mcval\u001b[0m\u001b[0;34m)\u001b[0m\u001b[0;34m\u001b[0m\u001b[0m\n\u001b[1;32m    930\u001b[0m         \u001b[0;32mexcept\u001b[0m \u001b[0mKeyError\u001b[0m\u001b[0;34m:\u001b[0m\u001b[0;34m\u001b[0m\u001b[0m\n",
      "\u001b[0;31mValueError\u001b[0m: Key animation.html: Unrecognized animation.html string \"jshtml\": valid strings are ['html5', 'none']"
     ]
    }
   ],
   "source": [
    "#@title Animation Test Code.  Ignore.\n",
    "animate([0,1,0.5,.6,.3], [1,.3,.4,.2,.9],[0,1,2,1,3])  # Test case for animation code."
   ]
  },
  {
   "cell_type": "code",
   "execution_count": 13,
   "metadata": {
    "colab": {},
    "colab_type": "code",
    "id": "usGdTwMYHC6Y"
   },
   "outputs": [],
   "source": [
    "def step(x_batch, y_batch ,a_est, b_est, lam=0, eta=1):\n",
    "  c = cost_function(x_batch,y_batch,a=a_est,b=b_est)\n",
    "  g = gradient_of_cost(x_batch,y_batch,a=a_est,b=b_est,lam=lam)\n",
    "  \n",
    "  a_new = a_est - eta * g[0]\n",
    "  b_new = b_est - eta * g[1]\n",
    "  \n",
    "  #print (\"a,b = %f, %f.  C = %f.  Ga,b = %f, %f.  New a,b = %f, %f.\" % (a_est, b_est, c, g[0], g[1], a_new, b_new))\n",
    "  \n",
    "  return (a_new, b_new)"
   ]
  },
  {
   "cell_type": "code",
   "execution_count": 16,
   "metadata": {
    "colab": {},
    "colab_type": "code",
    "id": "c2rgP69K970A"
   },
   "outputs": [],
   "source": [
    "def stochastic_gradient_descent(x, y, initial_a, initial_b, eta):\n",
    "  a_est = initial_a\n",
    "  b_est = initial_b\n",
    "\n",
    "  # Lambda\n",
    "  lam = 0\n",
    "\n",
    "  all_a_est = [a_est]\n",
    "  all_b_est = [b_est]\n",
    "  all_costs = [cost_function(x,y,a=a_est,b=b_est)]\n",
    "\n",
    "  for i in range(50):\n",
    "    n = random.randint(0, len(x)-1) # Batch size of 1.\n",
    "    a_est, b_est = step(x[n], y[n], a_est, b_est, lam, eta)\n",
    "\n",
    "    # Normally we wouldn't collect cost and parameters every iteration, \n",
    "    # but this is a very simple function to learn.\n",
    "    all_a_est.append(a_est)\n",
    "    all_b_est.append(b_est)\n",
    "    # This is the batch training cost...this should be fixed to be validation set.\n",
    "    all_costs.append(math.log(cost_function(x,y,a=a_est,b=b_est)))\n",
    "\n",
    "  print(\"Final a,b = %f, %f.\" % (a_est, b_est))\n",
    "  \n",
    "  return a_est, b_est, all_a_est, all_b_est, all_costs"
   ]
  },
  {
   "cell_type": "code",
   "execution_count": 24,
   "metadata": {
    "colab": {
     "base_uri": "https://localhost:8080/",
     "height": 486,
     "output_embedded_package_id": "19NohQRjkuc9MFsXVDFj2DYdHpUiYOTID"
    },
    "colab_type": "code",
    "executionInfo": {
     "elapsed": 15556,
     "status": "ok",
     "timestamp": 1548800060036,
     "user": {
      "displayName": "Trevor Walker",
      "photoUrl": "https://lh4.googleusercontent.com/-0gCs3ZxKn2k/AAAAAAAAAAI/AAAAAAAAAdo/gxB0o7HADN8/s64/photo.jpg",
      "userId": "06110071502655536310"
     },
     "user_tz": 360
    },
    "id": "pQgHzps1FBZt",
    "outputId": "ba3f197c-9c7e-4fd4-dca5-c988c2d2d450"
   },
   "outputs": [
    {
     "name": "stdout",
     "output_type": "stream",
     "text": [
      "1.361956037513654\n",
      "3.644790564144076\n",
      "3.149106778153701\n",
      "3.4335944207582028\n",
      "2.633484181825752\n",
      "3.238284505656513\n",
      "1.7130595418201584\n",
      "3.625032618829647\n",
      "0.6226121998158408\n",
      "3.238284505656513\n",
      "0.6226121998158408\n",
      "1.7130595418201584\n",
      "3.4098737543769766\n",
      "3.0751402902619556\n",
      "3.149106778153701\n",
      "2.624498214055936\n",
      "1.361956037513654\n",
      "0.6226121998158408\n",
      "3.0751402902619556\n",
      "2.624498214055936\n",
      "0.4745573691321877\n",
      "1.361956037513654\n",
      "1.5336964089452396\n",
      "1.5336964089452396\n",
      "3.644790564144076\n",
      "3.4098737543769766\n",
      "0.6226121998158408\n",
      "0.9610715447251874\n",
      "3.625032618829647\n",
      "3.149106778153701\n",
      "1.6543098141216355\n",
      "0.9119268095422202\n",
      "3.0751402902619556\n",
      "3.238284505656513\n",
      "0.9610715447251874\n",
      "1.361956037513654\n",
      "0.6226121998158408\n",
      "3.0751402902619556\n",
      "2.624498214055936\n",
      "2.4863591958454947\n",
      "3.4335944207582028\n",
      "3.0751402902619556\n",
      "1.9603479199071878\n",
      "0.9119268095422202\n",
      "0.6563686553768513\n",
      "3.238284505656513\n",
      "3.0751402902619556\n",
      "0.4745573691321877\n",
      "3.4098737543769766\n",
      "1.6543098141216355\n",
      "Final a,b = 0.710085, 0.259354.\n"
     ]
    }
   ],
   "source": [
    "_, _, all_a_est, all_b_est, all_costs = stochastic_gradient_descent(x, y, 0, 0, eta=0.04)"
   ]
  },
  {
   "cell_type": "code",
   "execution_count": 30,
   "metadata": {
    "colab": {
     "base_uri": "https://localhost:8080/",
     "height": 486,
     "output_embedded_package_id": "1Gx4dczotyLdn_0NS01XNwbql3Fvhw59A"
    },
    "colab_type": "code",
    "executionInfo": {
     "elapsed": 16620,
     "status": "ok",
     "timestamp": 1548800178266,
     "user": {
      "displayName": "Trevor Walker",
      "photoUrl": "https://lh4.googleusercontent.com/-0gCs3ZxKn2k/AAAAAAAAAAI/AAAAAAAAAdo/gxB0o7HADN8/s64/photo.jpg",
      "userId": "06110071502655536310"
     },
     "user_tz": 360
    },
    "id": "EataBBlbIYZN",
    "outputId": "354f629c-74b9-47b7-ed1f-afc0615cf1b7"
   },
   "outputs": [
    {
     "data": {
      "text/plain": [
       "Output hidden; open in https://colab.research.google.com to view."
      ]
     },
     "metadata": {},
     "output_type": "display_data"
    }
   ],
   "source": [
    "_, _, all_a_est, all_b_est, all_costs = stochastic_gradient_descent(x, y, 0, 0, eta=0.11) # eta too big.\n",
    "animate(all_a_est, all_b_est, all_costs)"
   ]
  },
  {
   "cell_type": "code",
   "execution_count": 31,
   "metadata": {
    "colab": {
     "base_uri": "https://localhost:8080/",
     "height": 486,
     "output_embedded_package_id": "1KrlSPO9GimCZ_zM-BaL1Sk-O0Wb31L27"
    },
    "colab_type": "code",
    "executionInfo": {
     "elapsed": 27009,
     "status": "ok",
     "timestamp": 1548800190832,
     "user": {
      "displayName": "Trevor Walker",
      "photoUrl": "https://lh4.googleusercontent.com/-0gCs3ZxKn2k/AAAAAAAAAAI/AAAAAAAAAdo/gxB0o7HADN8/s64/photo.jpg",
      "userId": "06110071502655536310"
     },
     "user_tz": 360
    },
    "id": "VYQB89B0MmlW",
    "outputId": "08c81bf2-08fe-498f-c7e5-84f24148ee36"
   },
   "outputs": [
    {
     "data": {
      "text/plain": [
       "Output hidden; open in https://colab.research.google.com to view."
      ]
     },
     "metadata": {},
     "output_type": "display_data"
    }
   ],
   "source": [
    "_, _, all_a_est, all_b_est, all_costs = stochastic_gradient_descent(x, y, 0, 0, eta=0.001) # eta too low.\n",
    "animate(all_a_est, all_b_est, all_costs)"
   ]
  },
  {
   "cell_type": "code",
   "execution_count": null,
   "metadata": {
    "colab": {},
    "colab_type": "code",
    "id": "fwNq1MY0gAot"
   },
   "outputs": [],
   "source": []
  }
 ],
 "metadata": {
  "colab": {
   "collapsed_sections": [],
   "name": "stochastic_gradient_descent_demo.ipynb",
   "provenance": [],
   "version": "0.3.2"
  },
  "kernelspec": {
   "display_name": "Python 3",
   "language": "python",
   "name": "python3"
  },
  "language_info": {
   "codemirror_mode": {
    "name": "ipython",
    "version": 3
   },
   "file_extension": ".py",
   "mimetype": "text/x-python",
   "name": "python",
   "nbconvert_exporter": "python",
   "pygments_lexer": "ipython3",
   "version": "3.6.2"
  }
 },
 "nbformat": 4,
 "nbformat_minor": 2
}
