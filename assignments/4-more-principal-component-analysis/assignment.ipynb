{
 "cells": [
  {
   "cell_type": "markdown",
   "metadata": {},
   "source": [
    "# Homework 4: More Principal Component Analysis\n",
    "***\n",
    "This homework focuses on familiarizing you with low-rank approximations and multi-dimensional scaling. In addition, you will work with the CIFAR-10 dataset, a popular benchmark dataset for most classification algorithms."
   ]
  },
  {
   "cell_type": "markdown",
   "metadata": {},
   "source": [
    "# Load data"
   ]
  },
  {
   "cell_type": "code",
   "execution_count": 5,
   "metadata": {
    "collapsed": true
   },
   "outputs": [],
   "source": [
    "import pandas as pd\n",
    "import numpy as np\n",
    "from sklearn.decomposition import PCA\n",
    "from sklearn.metrics import euclidean_distances\n",
    "from scipy import linalg\n",
    "from sklearn import manifold\n",
    "from matplotlib import pyplot as plt\n",
    "from tqdm import tqdm\n",
    "%matplotlib inline"
   ]
  },
  {
   "cell_type": "code",
   "execution_count": 6,
   "metadata": {
    "collapsed": true
   },
   "outputs": [],
   "source": [
    "def unpickle(file):\n",
    "    import pickle\n",
    "    with open(file, 'rb') as fo:\n",
    "        dict = pickle.load(fo, encoding='bytes')\n",
    "    return dict"
   ]
  },
  {
   "cell_type": "code",
   "execution_count": 7,
   "metadata": {
    "collapsed": true
   },
   "outputs": [],
   "source": [
    "data_batch1 = unpickle('data/data_batch_1')\n",
    "data_batch2 = unpickle('data/data_batch_2')\n",
    "data_batch3 = unpickle('data/data_batch_3')\n",
    "data_batch4 = unpickle('data/data_batch_4')\n",
    "data_batch5 = unpickle('data/data_batch_5')\n",
    "\n",
    "test_batch = unpickle('data/test_batch')"
   ]
  },
  {
   "cell_type": "code",
   "execution_count": 8,
   "metadata": {
    "collapsed": true
   },
   "outputs": [],
   "source": [
    "combined_data = np.concatenate((data_batch1[b'data'], data_batch2[b'data'], data_batch3[b'data'], data_batch4[b'data'], data_batch5[b'data'], test_batch[b'data']))\n",
    "combined_labels = np.concatenate((data_batch1[b'labels'], data_batch2[b'labels'], data_batch3[b'labels'], data_batch4[b'labels'], data_batch5[b'labels'], test_batch[b'labels']))\n",
    "label_names = ['airplane', 'automobile', 'bird', 'cat', 'deer', 'dog', 'frog', 'horse', 'ship', 'truck']"
   ]
  },
  {
   "cell_type": "markdown",
   "metadata": {},
   "source": [
    "# Part A"
   ]
  },
  {
   "cell_type": "code",
   "execution_count": 9,
   "metadata": {
    "collapsed": true
   },
   "outputs": [],
   "source": [
    "def getPCA(data, n_components):\n",
    "    pca = PCA(n_components)\n",
    "    pca.fit(data)\n",
    "    return pca"
   ]
  },
  {
   "cell_type": "code",
   "execution_count": 10,
   "metadata": {
    "collapsed": true
   },
   "outputs": [],
   "source": [
    "def aggregateByCategory(data, labels): \n",
    "    imageByCategory = {}\n",
    "    for index in range(len(data)):\n",
    "        label = labels[index]\n",
    "        if(label not in imageByCategory):\n",
    "            imageByCategory[label] = []\n",
    "        imageByCategory[label].append(data[index])\n",
    "    return imageByCategory"
   ]
  },
  {
   "cell_type": "code",
   "execution_count": 11,
   "metadata": {
    "collapsed": true
   },
   "outputs": [],
   "source": [
    "def getPCAForImages(images):\n",
    "    categoryPCA = {}\n",
    "    for category in imagesByCategory:\n",
    "        images = np.array(imagesByCategory[category])\n",
    "        categoryPCA[category] = getPCA(images, 20)\n",
    "    return categoryPCA"
   ]
  },
  {
   "cell_type": "code",
   "execution_count": 12,
   "metadata": {
    "collapsed": true
   },
   "outputs": [],
   "source": [
    "def showImage(pixels, label):\n",
    "    pixels = np.reshape(pixels,(3,1024))\n",
    "    pixels = np.transpose(pixels)\n",
    "    pixels = np.reshape(pixels,(32,32,3))\n",
    "    pixels.astype('uint8')\n",
    "    plt.title(label)\n",
    "    plt.imshow(pixels)\n",
    "    plt.show()"
   ]
  },
  {
   "cell_type": "code",
   "execution_count": 177,
   "metadata": {
    "collapsed": true
   },
   "outputs": [],
   "source": [
    "mean_images = np.zeros((10, 3072))\n",
    "\n",
    "for i in range(0, 60000):\n",
    "    mean_images[combined_labels[i]] = mean_images[combined_labels[i]] + combined_data[i]\n",
    "\n",
    "mean_images = mean_images / 6000\n",
    "mean_images = mean_images.astype('uint8')  "
   ]
  },
  {
   "cell_type": "markdown",
   "metadata": {},
   "source": [
    "## Show mean images by class"
   ]
  },
  {
   "cell_type": "code",
   "execution_count": 14,
   "metadata": {},
   "outputs": [
    {
     "data": {
      "image/png": "[encoded data removed]",
      "text/plain": [
       "<Figure size 432x288 with 1 Axes>"
      ]
     },
     "metadata": {
      "needs_background": "light"
     },
     "output_type": "display_data"
    },
    {
     "data": {
      "image/png": "[encoded data removed]",
      "text/plain": [
       "<Figure size 432x288 with 1 Axes>"
      ]
     },
     "metadata": {
      "needs_background": "light"
     },
     "output_type": "display_data"
    },
    {
     "data": {
      "image/png": "[encoded data removed]",
      "text/plain": [
       "<Figure size 432x288 with 1 Axes>"
      ]
     },
     "metadata": {
      "needs_background": "light"
     },
     "output_type": "display_data"
    },
    {
     "data": {
      "image/png": "[encoded data removed]",
      "text/plain": [
       "<Figure size 432x288 with 1 Axes>"
      ]
     },
     "metadata": {
      "needs_background": "light"
     },
     "output_type": "display_data"
    },
    {
     "data": {
      "image/png": "[encoded data removed]",
      "text/plain": [
       "<Figure size 432x288 with 1 Axes>"
      ]
     },
     "metadata": {
      "needs_background": "light"
     },
     "output_type": "display_data"
    },
    {
     "data": {
      "image/png": "[encoded data removed]",
      "text/plain": [
       "<Figure size 432x288 with 1 Axes>"
      ]
     },
     "metadata": {
      "needs_background": "light"
     },
     "output_type": "display_data"
    },
    {
     "data": {
      "image/png": "[encoded data removed]",
      "text/plain": [
       "<Figure size 432x288 with 1 Axes>"
      ]
     },
     "metadata": {
      "needs_background": "light"
     },
     "output_type": "display_data"
    },
    {
     "data": {
      "image/png": "[encoded data removed]",
      "text/plain": [
       "<Figure size 432x288 with 1 Axes>"
      ]
     },
     "metadata": {
      "needs_background": "light"
     },
     "output_type": "display_data"
    },
    {
     "data": {
      "image/png": "[encoded data removed]",
      "text/plain": [
       "<Figure size 432x288 with 1 Axes>"
      ]
     },
     "metadata": {
      "needs_background": "light"
     },
     "output_type": "display_data"
    },
    {
     "data": {
      "image/png": "[encoded data removed]",
      "text/plain": [
       "<Figure size 432x288 with 1 Axes>"
      ]
     },
     "metadata": {
      "needs_background": "light"
     },
     "output_type": "display_data"
    }
   ],
   "source": [
    "for i in range(0, 10):\n",
    "    showImage(mean_images[i], label_names[i])"
   ]
  },
  {
   "cell_type": "markdown",
   "metadata": {},
   "source": [
    "## PCA first 20 principal components"
   ]
  },
  {
   "cell_type": "code",
   "execution_count": 15,
   "metadata": {
    "collapsed": true
   },
   "outputs": [],
   "source": [
    "imagesByCategory = aggregateByCategory(combined_data, combined_labels)"
   ]
  },
  {
   "cell_type": "code",
   "execution_count": 16,
   "metadata": {
    "collapsed": true
   },
   "outputs": [],
   "source": [
    "pcaByImageCategory = getPCAForImages(imagesByCategory)"
   ]
  },
  {
   "cell_type": "markdown",
   "metadata": {},
   "source": [
    "## Compute a low-dimensional reconstruction of each image in the class"
   ]
  },
  {
   "cell_type": "code",
   "execution_count": 17,
   "metadata": {
    "collapsed": true
   },
   "outputs": [],
   "source": [
    "imagesByCategoryReconstructed = np.zeros(184320000).reshape(10, 6000, 3072)"
   ]
  },
  {
   "cell_type": "code",
   "execution_count": 18,
   "metadata": {
    "collapsed": true
   },
   "outputs": [],
   "source": [
    "for cat in imagesByCategory:\n",
    "        imagesByCategoryReconstructed[cat] = pcaByImageCategory[cat].inverse_transform(pcaByImageCategory[cat].transform(imagesByCategory[cat]))"
   ]
  },
  {
   "cell_type": "markdown",
   "metadata": {},
   "source": [
    "## For each image, compute the squared difference between the original and reconstructed version, and sum this over all pixels over all channels."
   ]
  },
  {
   "cell_type": "code",
   "execution_count": 19,
   "metadata": {},
   "outputs": [
    {
     "name": "stdout",
     "output_type": "stream",
     "text": [
      "Average of sums of squared difference for class 0 : 2620521.4365466605\n",
      "Average of sums of squared difference for class 1 : 3950755.973577468\n",
      "Average of sums of squared difference for class 2 : 2447702.2990006576\n",
      "Average of sums of squared difference for class 3 : 3116483.98621016\n",
      "Average of sums of squared difference for class 4 : 2180393.867995958\n",
      "Average of sums of squared difference for class 5 : 3231131.7270500716\n",
      "Average of sums of squared difference for class 6 : 2630247.4604280633\n",
      "Average of sums of squared difference for class 7 : 3441114.6570812627\n",
      "Average of sums of squared difference for class 8 : 2440640.8759648083\n",
      "Average of sums of squared difference for class 9 : 4021099.3777399305\n"
     ]
    }
   ],
   "source": [
    "sq_diff = np.zeros(10)\n",
    "\n",
    "for i in range(0, 10):\n",
    "    sq_diff[i] = (np.linalg.norm(imagesByCategory[i]-imagesByCategoryReconstructed[i])**2)/6000\n",
    "    print (\"Average of sums of squared difference for class\", i, \":\", sq_diff[i])"
   ]
  },
  {
   "cell_type": "markdown",
   "metadata": {},
   "source": [
    "## Bar graph showing the squared difference for each class"
   ]
  },
  {
   "cell_type": "code",
   "execution_count": 20,
   "metadata": {},
   "outputs": [
    {
     "data": {
      "image/png": "[encoded data removed]",
      "text/plain": [
       "<Figure size 864x432 with 1 Axes>"
      ]
     },
     "metadata": {
      "needs_background": "light"
     },
     "output_type": "display_data"
    }
   ],
   "source": [
    "from matplotlib.pyplot import figure\n",
    "figure(figsize=(12, 6))\n",
    "\n",
    "y_pos = np.arange(len(label_names))\n",
    "plt.bar(y_pos, sq_diff, align='center')\n",
    "plt.xticks(y_pos, label_names)\n",
    "plt.ylabel('Error')\n",
    "plt.xlabel('Class')\n",
    "plt.title('Average of sums of squared difference for each class')\n",
    "plt.show()"
   ]
  },
  {
   "cell_type": "markdown",
   "metadata": {},
   "source": [
    "# Part B"
   ]
  },
  {
   "cell_type": "code",
   "execution_count": 21,
   "metadata": {
    "collapsed": true
   },
   "outputs": [],
   "source": [
    "def calculateDistance(mean_images):\n",
    "    length = len(mean_images)\n",
    "    distance = np.zeros((10,10))\n",
    "    for i in range(length):\n",
    "        for j in range(length):\n",
    "            a = mean_images[i].reshape(1,-1)\n",
    "            b = mean_images[j].reshape(1,-1)\n",
    "            distance[i,j] = euclidean_distances(a, b)\n",
    "    return np.square(distance)"
   ]
  },
  {
   "cell_type": "code",
   "execution_count": 130,
   "metadata": {
    "collapsed": true
   },
   "outputs": [],
   "source": [
    "def calculateMDS(distance_matrix):\n",
    "    length = len(mean_images)\n",
    "    A = np.identity(10) - np.ones([10, 10]) * 0.1\n",
    "    W = -(0.5 * np.dot(np.dot(A, distance_matrix), A.T))\n",
    "    eigenvalue, eigenvector = linalg.eig(W)\n",
    "    idx = eigenvalue.argsort()[::-1]\n",
    "    eigenvalue = eigenvalue[idx]\n",
    "    eigenvector = eigenvector[:,idx]\n",
    "    t = np.zeros([2,2])\n",
    "    t[0][0] = np.sqrt(eigenvalue[0])\n",
    "    t[1][1] = np.sqrt(eigenvalue[1])\n",
    "    Y = np.dot(eigenvector[:, :2], t)\n",
    "    return Y"
   ]
  },
  {
   "cell_type": "code",
   "execution_count": 174,
   "metadata": {
    "collapsed": true
   },
   "outputs": [],
   "source": [
    "distance_matrix = calculateDistance(mean_images)\n",
    "np.savetxt(\"partb_distances.csv\", distance_matrix, delimiter=\",\", fmt='%f')"
   ]
  },
  {
   "cell_type": "code",
   "execution_count": 175,
   "metadata": {
    "collapsed": true
   },
   "outputs": [
    {
     "name": "stderr",
     "output_type": "stream",
     "text": [
      "/Users/edgarpino/miniconda2/lib/python3.7/site-packages/ipykernel_launcher.py:10: ComplexWarning: Casting complex values to real discards the imaginary part\n",
      "  # Remove the CWD from sys.path while we load stuff.\n",
      "/Users/edgarpino/miniconda2/lib/python3.7/site-packages/ipykernel_launcher.py:11: ComplexWarning: Casting complex values to real discards the imaginary part\n",
      "  # This is added back by InteractiveShellApp.init_path()\n"
     ]
    }
   ],
   "source": [
    "mds = calculateMDS(distance_matrix)"
   ]
  },
  {
   "cell_type": "code",
   "execution_count": 176,
   "metadata": {},
   "outputs": [
    {
     "data": {
      "image/png": "[encoded data removed]",
      "text/plain": [
       "<Figure size 864x432 with 1 Axes>"
      ]
     },
     "metadata": {
      "needs_background": "light"
     },
     "output_type": "display_data"
    }
   ],
   "source": [
    "figure(figsize=(12, 6))\n",
    "\n",
    "for i, txt in enumerate(label_names):\n",
    "    plt.annotate(txt, (np.real(mds[i, 0]), np.real(mds[i, 1])))\n",
    "    \n",
    "plt.scatter(np.real(mds[:,0]), np.real(mds[:,1]))\n",
    "plt.show()"
   ]
  },
  {
   "cell_type": "markdown",
   "metadata": {},
   "source": [
    "# Part C\n",
    "- https://piazza.com/class/jqo7mhnnyiy698?cid=595\n",
    "- https://piazza.com/class/jqo7mhnnyiy698?cid=579\n",
    "- https://piazza.com/class/jqo7mhnnyiy698?cid=522"
   ]
  },
  {
   "cell_type": "code",
   "execution_count": 178,
   "metadata": {},
   "outputs": [],
   "source": [
    "def calculateDistanceC(mean_images, pcaByImageCategory, imagesByCategory):\n",
    "    length = len(mean_images)\n",
    "    distances = np.zeros((10,10))\n",
    "    for a in tqdm(range(length)):\n",
    "        meanA = mean_images[a]\n",
    "        for b in range(length):\n",
    "            # A\n",
    "            pca = PCA(n_components=20)\n",
    "            pca.fit(imagesByCategory[b])\n",
    "            pca.mean_ = meanA\n",
    "            A_trans = pca.fit_transform(imagesByCategory[a])\n",
    "            A_recon = pca.inverse_transform(A_trans)\n",
    "            distanceAB = (np.linalg.norm(np.array(imagesByCategory[a]) - A_recon)**2) / 6000\n",
    "            \n",
    "            # B\n",
    "            pcaB = PCA(n_components=20)\n",
    "            pcaB.fit(imagesByCategory[a])\n",
    "            pcaB.mean_ = mean_images[b]\n",
    "            B_trans = pcaB.fit_transform(imagesByCategory[b])\n",
    "            B_recon = pcaB.inverse_transform(B_trans)\n",
    "            distanceBA = (np.linalg.norm(np.array(imagesByCategory[b]) - B_recon)**2) / 6000\n",
    "            \n",
    "            AB = (distanceAB + distanceBA)/2\n",
    "            distances[a,b] = AB\n",
    "    return distances"
   ]
  },
  {
   "cell_type": "code",
   "execution_count": 179,
   "metadata": {},
   "outputs": [
    {
     "name": "stderr",
     "output_type": "stream",
     "text": [
      "\n",
      "  0%|          | 0/10 [00:00<?, ?it/s]\u001b[A\n",
      " 10%|█         | 1/10 [00:36<05:26, 36.32s/it]\u001b[A\n",
      " 20%|██        | 2/10 [01:08<04:40, 35.10s/it]\u001b[A\n",
      " 30%|███       | 3/10 [01:44<04:06, 35.23s/it]\u001b[A\n",
      " 40%|████      | 4/10 [02:19<03:31, 35.28s/it]\u001b[A\n",
      " 50%|█████     | 5/10 [02:52<02:53, 34.69s/it]\u001b[A\n",
      " 60%|██████    | 6/10 [03:23<02:14, 33.52s/it]\u001b[A\n",
      " 70%|███████   | 7/10 [03:55<01:38, 32.90s/it]\u001b[A\n",
      " 80%|████████  | 8/10 [04:25<01:04, 32.16s/it]\u001b[A\n",
      " 90%|█████████ | 9/10 [04:55<00:31, 31.66s/it]\u001b[A\n",
      "100%|██████████| 10/10 [05:26<00:00, 31.28s/it]\u001b[A"
     ]
    }
   ],
   "source": [
    "partc_distances = calculateDistanceC(mean_images, pcaByImageCategory, imagesByCategory)"
   ]
  },
  {
   "cell_type": "code",
   "execution_count": 183,
   "metadata": {},
   "outputs": [],
   "source": [
    "np.savetxt(\"partc_distances.csv\", partc_distances, delimiter=\",\", fmt='%f')"
   ]
  },
  {
   "cell_type": "code",
   "execution_count": 184,
   "metadata": {},
   "outputs": [
    {
     "name": "stderr",
     "output_type": "stream",
     "text": [
      "/Users/edgarpino/miniconda2/lib/python3.7/site-packages/ipykernel_launcher.py:10: ComplexWarning: Casting complex values to real discards the imaginary part\n",
      "  # Remove the CWD from sys.path while we load stuff.\n",
      "/Users/edgarpino/miniconda2/lib/python3.7/site-packages/ipykernel_launcher.py:11: ComplexWarning: Casting complex values to real discards the imaginary part\n",
      "  # This is added back by InteractiveShellApp.init_path()\n"
     ]
    }
   ],
   "source": [
    "mdsC = calculateMDS(partc_distances)"
   ]
  },
  {
   "cell_type": "code",
   "execution_count": 185,
   "metadata": {},
   "outputs": [
    {
     "data": {
      "image/png": "[encoded data removed]",
      "text/plain": [
       "<Figure size 864x432 with 1 Axes>"
      ]
     },
     "metadata": {
      "needs_background": "light"
     },
     "output_type": "display_data"
    }
   ],
   "source": [
    "figure(figsize=(12, 6))\n",
    "\n",
    "for i, txt in enumerate(label_names):\n",
    "    plt.annotate(txt, (np.real(mdsC[i, 0]), np.real(mdsC[i, 1])))\n",
    "    \n",
    "plt.scatter(np.real(mdsC[:,0]), np.real(mdsC[:,1]))\n",
    "plt.show()"
   ]
  },
  {
   "cell_type": "code",
   "execution_count": null,
   "metadata": {},
   "outputs": [],
   "source": []
  },
  {
   "cell_type": "code",
   "execution_count": null,
   "metadata": {},
   "outputs": [],
   "source": []
  },
  {
   "cell_type": "code",
   "execution_count": null,
   "metadata": {},
   "outputs": [],
   "source": []
  }
 ],
 "metadata": {
  "kernelspec": {
   "display_name": "Python 3",
   "language": "python",
   "name": "python3"
  },
  "language_info": {
   "codemirror_mode": {
    "name": "ipython",
    "version": 3
   },
   "file_extension": ".py",
   "mimetype": "text/x-python",
   "name": "python",
   "nbconvert_exporter": "python",
   "pygments_lexer": "ipython3",
   "version": "3.7.2"
  },
  "toc": {
   "colors": {
    "hover_highlight": "#DAA520",
    "navigate_num": "#000000",
    "navigate_text": "#333333",
    "running_highlight": "#FF0000",
    "selected_highlight": "#FFD700",
    "sidebar_border": "#EEEEEE",
    "wrapper_background": "#FFFFFF"
   },
   "moveMenuLeft": true,
   "nav_menu": {
    "height": "227px",
    "width": "252px"
   },
   "navigate_menu": true,
   "number_sections": true,
   "sideBar": true,
   "threshold": 4,
   "toc_cell": false,
   "toc_section_display": "block",
   "toc_window_display": false,
   "widenNotebook": false
  }
 },
 "nbformat": 4,
 "nbformat_minor": 2
}
