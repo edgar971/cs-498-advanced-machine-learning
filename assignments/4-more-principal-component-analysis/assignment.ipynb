{
 "cells": [
  {
   "cell_type": "markdown",
   "metadata": {},
   "source": [
    "# Homework 4: More Principal Component Analysis\n",
    "***\n",
    "This homework focuses on familiarizing you with low-rank approximations and multi-dimensional scaling. In addition, you will work with the CIFAR-10 dataset, a popular benchmark dataset for most classification algorithms."
   ]
  },
  {
   "cell_type": "markdown",
   "metadata": {},
   "source": [
    "# Load data"
   ]
  },
  {
   "cell_type": "code",
   "execution_count": 123,
   "metadata": {
    "collapsed": true
   },
   "outputs": [],
   "source": [
    "import pandas as pd\n",
    "import numpy as np\n",
    "from sklearn.decomposition import PCA\n",
    "from matplotlib import pyplot as plt\n",
    "%matplotlib inline"
   ]
  },
  {
   "cell_type": "code",
   "execution_count": 124,
   "metadata": {
    "collapsed": true
   },
   "outputs": [],
   "source": [
    "def unpickle(file):\n",
    "    import pickle\n",
    "    with open(file, 'rb') as fo:\n",
    "        dict = pickle.load(fo, encoding='bytes')\n",
    "    return dict"
   ]
  },
  {
   "cell_type": "code",
   "execution_count": 125,
   "metadata": {},
   "outputs": [],
   "source": [
    "data_batch1 = unpickle('data/data_batch_1')\n",
    "data_batch2 = unpickle('data/data_batch_2')\n",
    "data_batch3 = unpickle('data/data_batch_3')\n",
    "data_batch4 = unpickle('data/data_batch_4')\n",
    "data_batch5 = unpickle('data/data_batch_5')\n",
    "\n",
    "test_batch = unpickle('data/test_batch')"
   ]
  },
  {
   "cell_type": "code",
   "execution_count": 126,
   "metadata": {},
   "outputs": [],
   "source": [
    "combined_data = np.concatenate((data_batch1[b'data'], data_batch2[b'data'], data_batch3[b'data'], data_batch4[b'data'], data_batch5[b'data'], test_batch[b'data']))\n",
    "combined_labels = np.concatenate((data_batch1[b'labels'], data_batch2[b'labels'], data_batch3[b'labels'], data_batch4[b'labels'], data_batch5[b'labels'], test_batch[b'labels']))\n",
    "label_names = ['airplane', 'automobile', 'bird', 'cat', 'deer', 'dog', 'frog', 'horse', 'ship', 'truck']"
   ]
  },
  {
   "cell_type": "markdown",
   "metadata": {},
   "source": [
    "# Part A"
   ]
  },
  {
   "cell_type": "code",
   "execution_count": 127,
   "metadata": {
    "collapsed": true
   },
   "outputs": [],
   "source": [
    "def getPCA(data, n_components):\n",
    "    pca = PCA(n_components)\n",
    "    pca.fit(data)\n",
    "    return pca"
   ]
  },
  {
   "cell_type": "code",
   "execution_count": 128,
   "metadata": {
    "collapsed": true
   },
   "outputs": [],
   "source": [
    "def aggregateByCategory(data, labels): \n",
    "    imageByCategory = {}\n",
    "    for index in range(len(data)):\n",
    "        label = labels[index]\n",
    "        if(label not in imageByCategory):\n",
    "            imageByCategory[label] = []\n",
    "        imageByCategory[label].append(data[index])\n",
    "    return imageByCategory"
   ]
  },
  {
   "cell_type": "code",
   "execution_count": 129,
   "metadata": {
    "collapsed": true
   },
   "outputs": [],
   "source": [
    "def getPCAForImages(images):\n",
    "    categoryPCA = {}\n",
    "    for category in imagesByCategory:\n",
    "        images = np.array(imagesByCategory[category])\n",
    "        categoryPCA[category] = getPCA(images, 20)\n",
    "    return categoryPCA"
   ]
  },
  {
   "cell_type": "code",
   "execution_count": 130,
   "metadata": {
    "collapsed": true
   },
   "outputs": [],
   "source": [
    "def showImage(pixels, label):\n",
    "    pixels = np.reshape(pixels,(3,1024))\n",
    "    pixels = np.transpose(pixels)\n",
    "    pixels = np.reshape(pixels,(32,32,3))\n",
    "    pixels.astype('uint8')\n",
    "    plt.title(label)\n",
    "    plt.imshow(pixels)\n",
    "    plt.show()"
   ]
  },
  {
   "cell_type": "code",
   "execution_count": 131,
   "metadata": {
    "collapsed": true
   },
   "outputs": [],
   "source": [
    "mean_images = np.zeros((10, 3072))\n",
    "\n",
    "for i in range(0, 60000):\n",
    "    mean_images[combined_labels[i]] = mean_images[combined_labels[i]] + combined_data[i]\n",
    "\n",
    "mean_images = mean_images / 6000\n",
    "mean_images = mean_images.astype('uint8')  "
   ]
  },
  {
   "cell_type": "code",
   "execution_count": 132,
   "metadata": {},
   "outputs": [],
   "source": [
    "mean_images_list = {}\n",
    "for i in range(0, 10):\n",
    "    if(i not in mean_images_list):\n",
    "        mean_images_list[i] = []\n",
    "    mean_images_list[i].append(mean_images[i])    "
   ]
  },
  {
   "cell_type": "code",
   "execution_count": 133,
   "metadata": {},
   "outputs": [],
   "source": [
    "#for i in range(0, 10):\n",
    "#    showImage(mean_images[i], label_names[i])"
   ]
  },
  {
   "cell_type": "markdown",
   "metadata": {},
   "source": [
    "## PCA first 20 principal components"
   ]
  },
  {
   "cell_type": "code",
   "execution_count": 134,
   "metadata": {
    "collapsed": true
   },
   "outputs": [],
   "source": [
    "imagesByCategory = aggregateByCategory(combined_data, combined_labels)"
   ]
  },
  {
   "cell_type": "code",
   "execution_count": 135,
   "metadata": {
    "collapsed": true
   },
   "outputs": [],
   "source": [
    "pcaByImageCategory = getPCAForImages(imagesByCategory)"
   ]
  },
  {
   "cell_type": "code",
   "execution_count": 136,
   "metadata": {
    "collapsed": true
   },
   "outputs": [],
   "source": [
    "pcaByMeanImageCategory = getPCAForImages(mean_images)"
   ]
  },
  {
   "cell_type": "markdown",
   "metadata": {},
   "source": [
    "## Compute a low-dimensional reconstruction of each image in the class"
   ]
  },
  {
   "cell_type": "code",
   "execution_count": 137,
   "metadata": {
    "collapsed": true
   },
   "outputs": [],
   "source": [
    "imagesByCategoryReconstructed = np.zeros(184320000).reshape(10, 6000, 3072)"
   ]
  },
  {
   "cell_type": "code",
   "execution_count": 138,
   "metadata": {},
   "outputs": [],
   "source": [
    "meanImagesByCategoryReconstructed = np.zeros(30720).reshape(10, 3072)"
   ]
  },
  {
   "cell_type": "code",
   "execution_count": 139,
   "metadata": {},
   "outputs": [],
   "source": [
    "for cat in imagesByCategory:\n",
    "        imagesByCategoryReconstructed[cat] = pcaByImageCategory[cat].inverse_transform(pcaByImageCategory[cat].transform(imagesByCategory[cat]))"
   ]
  },
  {
   "cell_type": "code",
   "execution_count": 140,
   "metadata": {},
   "outputs": [],
   "source": [
    "for cat in imagesByCategory:\n",
    "        meanImagesByCategoryReconstructed[cat] = pcaByMeanImageCategory[cat].inverse_transform(pcaByMeanImageCategory[cat].transform(mean_images_list[cat]))"
   ]
  },
  {
   "cell_type": "code",
   "execution_count": 141,
   "metadata": {
    "collapsed": true
   },
   "outputs": [],
   "source": [
    "meanImagesByCategoryReconstructed = meanImagesByCategoryReconstructed.astype('uint8')  \n",
    "imagesByCategoryReconstructed = imagesByCategoryReconstructed.astype('uint8')  "
   ]
  },
  {
   "cell_type": "markdown",
   "metadata": {},
   "source": [
    "### Show original image"
   ]
  },
  {
   "cell_type": "code",
   "execution_count": 142,
   "metadata": {},
   "outputs": [
    {
     "data": {
      "image/png": "[encoded data removed]",
      "text/plain": [
       "<Figure size 432x288 with 1 Axes>"
      ]
     },
     "metadata": {
      "needs_background": "light"
     },
     "output_type": "display_data"
    }
   ],
   "source": [
    "showImage(imagesByCategory[1][0], 1)"
   ]
  },
  {
   "cell_type": "markdown",
   "metadata": {},
   "source": [
    "### Show low-dimensional reconstruction of original image "
   ]
  },
  {
   "cell_type": "code",
   "execution_count": 143,
   "metadata": {},
   "outputs": [
    {
     "data": {
      "image/png": "[encoded data removed]",
      "text/plain": [
       "<Figure size 432x288 with 1 Axes>"
      ]
     },
     "metadata": {
      "needs_background": "light"
     },
     "output_type": "display_data"
    }
   ],
   "source": [
    "showImage(imagesByCategoryReconstructed[1][0], 1)"
   ]
  },
  {
   "cell_type": "markdown",
   "metadata": {},
   "source": [
    "### Show mean image"
   ]
  },
  {
   "cell_type": "code",
   "execution_count": 144,
   "metadata": {},
   "outputs": [
    {
     "data": {
      "image/png": "[encoded data removed]",
      "text/plain": [
       "<Figure size 432x288 with 1 Axes>"
      ]
     },
     "metadata": {
      "needs_background": "light"
     },
     "output_type": "display_data"
    }
   ],
   "source": [
    "showImage(mean_images[1], 1) "
   ]
  },
  {
   "cell_type": "markdown",
   "metadata": {},
   "source": [
    "### Show low-dimensional reconstruction of mean image"
   ]
  },
  {
   "cell_type": "code",
   "execution_count": 145,
   "metadata": {},
   "outputs": [
    {
     "data": {
      "image/png": "[encoded data removed]",
      "text/plain": [
       "<Figure size 432x288 with 1 Axes>"
      ]
     },
     "metadata": {
      "needs_background": "light"
     },
     "output_type": "display_data"
    }
   ],
   "source": [
    "showImage(meanImagesByCategoryReconstructed[1], 1) "
   ]
  },
  {
   "cell_type": "markdown",
   "metadata": {},
   "source": [
    "## For each image, compute the squared difference between the original and reconstructed version, and sum this over all pixels over all channels."
   ]
  },
  {
   "cell_type": "code",
   "execution_count": 146,
   "metadata": {},
   "outputs": [
    {
     "name": "stdout",
     "output_type": "stream",
     "text": [
      "Average of sums of squared difference for class 0 : 116.24190087557355\n",
      "Average of sums of squared difference for class 1 : 117.30712884679166\n",
      "Average of sums of squared difference for class 2 : 117.91515862357232\n",
      "Average of sums of squared difference for class 3 : 117.48464447618014\n",
      "Average of sums of squared difference for class 4 : 118.77516089338714\n",
      "Average of sums of squared difference for class 5 : 116.93398670106804\n",
      "Average of sums of squared difference for class 6 : 118.78073060265288\n",
      "Average of sums of squared difference for class 7 : 116.74414790139257\n",
      "Average of sums of squared difference for class 8 : 117.25676207271705\n",
      "Average of sums of squared difference for class 9 : 116.47951694515984\n"
     ]
    }
   ],
   "source": [
    "sq_diff = np.zeros(10)\n",
    "\n",
    "for i in range(0,10):\n",
    "    sq_diff[i] = (np.linalg.norm(imagesByCategory[i]-imagesByCategoryReconstructed[i])) / 6000\n",
    "    print (\"Average of sums of squared difference for class\", i, \":\", sq_diff[i])"
   ]
  },
  {
   "cell_type": "markdown",
   "metadata": {},
   "source": [
    "## Bar graph showing the squared difference for each class"
   ]
  },
  {
   "cell_type": "code",
   "execution_count": 147,
   "metadata": {},
   "outputs": [
    {
     "data": {
      "image/png": "[encoded data removed]",
      "text/plain": [
       "<Figure size 864x432 with 1 Axes>"
      ]
     },
     "metadata": {
      "needs_background": "light"
     },
     "output_type": "display_data"
    }
   ],
   "source": [
    "from matplotlib.pyplot import figure\n",
    "figure(figsize=(12, 6))\n",
    "\n",
    "y_pos = np.arange(len(label_names))\n",
    "plt.bar(y_pos, sq_diff, align='center')\n",
    "plt.xticks(y_pos, label_names)\n",
    "plt.ylabel('Value')\n",
    "plt.title('Average of sums of squared difference for each class')\n",
    "plt.show()"
   ]
  },
  {
   "cell_type": "code",
   "execution_count": null,
   "metadata": {
    "collapsed": true
   },
   "outputs": [],
   "source": []
  },
  {
   "cell_type": "markdown",
   "metadata": {},
   "source": [
    "## Part B"
   ]
  },
  {
   "cell_type": "code",
   "execution_count": 152,
   "metadata": {},
   "outputs": [],
   "source": [
    "def calculateDistance(mean_images):\n",
    "    distance = np.zeros((10,10))\n",
    "    length = len(mean_images)\n",
    "    \n",
    "    for i in range(length):\n",
    "        for j in range(length):\n",
    "            a = mean_images[i].reshape(1,-1)\n",
    "            b = mean_images[j].reshape(1,-1)\n",
    "            distance[i,j] = np.square(euclidean_distances(a, b))\n",
    "    return distance"
   ]
  },
  {
   "cell_type": "code",
   "execution_count": 153,
   "metadata": {},
   "outputs": [],
   "source": [
    "def calculateMDS(distance_matrix):\n",
    "    length = len(mean_images)\n",
    "    A = np.identity(length)-1/length*np.ones((length,length))\n",
    "    W = np.matmul(np.square(-1/2 * np.matmul(A, distance_matrix)), A.T)\n",
    "    eigenvalue, eigenvector = linalg.eig(W)\n",
    "    idx = eigenvalue.argsort()[::-1]\n",
    "    eigenvalue = eigenvalue[idx]\n",
    "    eigenvector = eigenvector[:,idx]\n",
    "    top_s = eigenvector[:,:2]\n",
    "    block_s = [[np.sqrt(eigenvalue[0]),0],[0,np.sqrt(eigenvalue[1])]]\n",
    "    Y = np.matmul(top_s, block_s)\n",
    "    return Y"
   ]
  },
  {
   "cell_type": "code",
   "execution_count": 154,
   "metadata": {},
   "outputs": [],
   "source": [
    "distance_matrix = calculateDistance(mean_images)"
   ]
  },
  {
   "cell_type": "code",
   "execution_count": 155,
   "metadata": {},
   "outputs": [],
   "source": [
    "mds = calculateMDS(distance_matrix)"
   ]
  },
  {
   "cell_type": "code",
   "execution_count": 162,
   "metadata": {},
   "outputs": [
    {
     "data": {
      "image/png": "[encoded data removed]",
      "text/plain": [
       "<Figure size 432x288 with 1 Axes>"
      ]
     },
     "metadata": {
      "needs_background": "light"
     },
     "output_type": "display_data"
    }
   ],
   "source": [
    "plt.scatter(mds[:,0], mds[:,1])\n",
    "plt.show()"
   ]
  },
  {
   "cell_type": "code",
   "execution_count": null,
   "metadata": {},
   "outputs": [],
   "source": []
  },
  {
   "cell_type": "code",
   "execution_count": null,
   "metadata": {},
   "outputs": [],
   "source": []
  }
 ],
 "metadata": {
  "kernelspec": {
   "display_name": "Python 3",
   "language": "python",
   "name": "python3"
  },
  "language_info": {
   "codemirror_mode": {
    "name": "ipython",
    "version": 3
   },
   "file_extension": ".py",
   "mimetype": "text/x-python",
   "name": "python",
   "nbconvert_exporter": "python",
   "pygments_lexer": "ipython3",
   "version": "3.7.2"
  },
  "toc": {
   "colors": {
    "hover_highlight": "#DAA520",
    "navigate_num": "#000000",
    "navigate_text": "#333333",
    "running_highlight": "#FF0000",
    "selected_highlight": "#FFD700",
    "sidebar_border": "#EEEEEE",
    "wrapper_background": "#FFFFFF"
   },
   "moveMenuLeft": true,
   "nav_menu": {
    "height": "227px",
    "width": "252px"
   },
   "navigate_menu": true,
   "number_sections": true,
   "sideBar": true,
   "threshold": 4,
   "toc_cell": false,
   "toc_section_display": "block",
   "toc_window_display": false,
   "widenNotebook": false
  }
 },
 "nbformat": 4,
 "nbformat_minor": 2
}
