{
 "cells": [
  {
   "cell_type": "markdown",
   "metadata": {},
   "source": [
    "# Part 1: Preprocessing with Bag-of-Words"
   ]
  },
  {
   "cell_type": "markdown",
   "metadata": {},
   "source": [
    "## Import libraries and load the files"
   ]
  },
  {
   "cell_type": "code",
   "execution_count": 5,
   "metadata": {
    "collapsed": true
   },
   "outputs": [],
   "source": [
    "import numpy as np\n",
    "import pandas as pd\n",
    "import string\n",
    "from nltk.probability import FreqDist\n",
    "from nltk.tokenize import word_tokenize\n",
    "from nltk.tokenize import RegexpTokenizer\n",
    "import matplotlib.pyplot as plt\n",
    "from sklearn.feature_extraction.text import CountVectorizer\n",
    "from sklearn.neighbors import NearestNeighbors\n",
    "import sklearn.metrics.pairwise as smp\n",
    "from sklearn.model_selection import train_test_split\n",
    "from sklearn.linear_model import LogisticRegression\n",
    "from sklearn import metrics\n",
    "from tqdm import tqdm_notebook as tqdm\n",
    "%matplotlib inline"
   ]
  },
  {
   "cell_type": "code",
   "execution_count": 6,
   "metadata": {},
   "outputs": [],
   "source": [
    "def reviewToWordIndex(review):\n",
    "    review_idx = []\n",
    "    for word in review:\n",
    "        word_idx = word_features.index(word) if word in word_features else -1\n",
    "        review_idx.append(word_idx)\n",
    "    return np.array(review_idx)"
   ]
  },
  {
   "cell_type": "code",
   "execution_count": 7,
   "metadata": {},
   "outputs": [],
   "source": [
    "def text_process(text):\n",
    "    nopunc = [char for char in text if char not in string.punctuation]\n",
    "    nopunc = ''.join(nopunc)\n",
    "    return [word for word in nopunc.split() if word.lower() not in vectorizer.get_stop_words()]"
   ]
  },
  {
   "cell_type": "code",
   "execution_count": 8,
   "metadata": {},
   "outputs": [],
   "source": [
    "def get_closest(search_term, model, vectorizer):\n",
    "    distances, indices = nbrs.kneighbors(vectorizer.transform([search_term]), 5)\n",
    "    distances = distances.flatten()\n",
    "    indices = indices.flatten()\n",
    "    reviews = data_set.iloc[indices]['text']\n",
    "    stars = data_set.iloc[indices]['stars']\n",
    "    return list(zip(distances, np.array(stars), np.array(reviews)))"
   ]
  },
  {
   "cell_type": "code",
   "execution_count": 9,
   "metadata": {},
   "outputs": [],
   "source": [
    "def to_words_list(sentenses):\n",
    "    text_array = []\n",
    "    word_list= []\n",
    "    tokenizer = RegexpTokenizer(r'\\w+')\n",
    "    for idx in range(len(sentenses)):\n",
    "        text_array.append(np.array(tokenizer.tokenize(sentenses[idx].lower())))\n",
    "    for words in text_array:\n",
    "        for word in words:\n",
    "            word_list.append(word)\n",
    "    return np.array(word_list)"
   ]
  },
  {
   "cell_type": "code",
   "execution_count": 10,
   "metadata": {},
   "outputs": [],
   "source": [
    "def dataset_to_word_list(dataset):\n",
    "    data_set = dataset.values.tolist()\n",
    "    tokenizer = RegexpTokenizer(r'\\w+')\n",
    "    for idx in range(len(data_set)):\n",
    "        data_set[idx][1] = data_set[idx][1].lower()\n",
    "        data_set[idx][1] = np.array(tokenizer.tokenize(data_set[idx][1]))\n",
    "    return data_set"
   ]
  },
  {
   "cell_type": "code",
   "execution_count": 11,
   "metadata": {},
   "outputs": [],
   "source": [
    "def showResults(nearest_reviews):\n",
    "    for review in nearest_reviews:\n",
    "        print(f'Score: {review[0]}')\n",
    "        print(f'Stars: {review[1]}')\n",
    "        print(f'Review: {review[2]}')\n",
    "        print('\\n')"
   ]
  },
  {
   "cell_type": "code",
   "execution_count": 382,
   "metadata": {},
   "outputs": [],
   "source": [
    "def getMetrics(actual, predictions):\n",
    "    accuracy = metrics.accuracy_score(actual, predictions)\n",
    "    precision = metrics.precision_score(actual, predictions)\n",
    "    recall = metrics.recall_score(actual, predictions)\n",
    "    return accuracy,precision,recall"
   ]
  },
  {
   "cell_type": "code",
   "execution_count": 12,
   "metadata": {},
   "outputs": [],
   "source": [
    "data_set = pd.read_csv('data/yelp_2k.csv', usecols = ['stars', 'text'])\n",
    "data_set_orig = pd.read_csv('data/yelp_2k.csv', usecols = ['stars', 'text'])"
   ]
  },
  {
   "cell_type": "markdown",
   "metadata": {},
   "source": [
    "## Convert the text into bag-of-words representation"
   ]
  },
  {
   "cell_type": "markdown",
   "metadata": {},
   "source": [
    "### Tokenize the text and convert to lower case"
   ]
  },
  {
   "cell_type": "markdown",
   "metadata": {},
   "source": [
    "### Analyze / repreprocess"
   ]
  },
  {
   "cell_type": "code",
   "execution_count": 13,
   "metadata": {},
   "outputs": [],
   "source": [
    "stars_with_word_list = dataset_to_word_list(data_set)"
   ]
  },
  {
   "cell_type": "code",
   "execution_count": 14,
   "metadata": {},
   "outputs": [],
   "source": [
    "all_words = to_words_list(data_set.text.tolist())"
   ]
  },
  {
   "cell_type": "code",
   "execution_count": 15,
   "metadata": {},
   "outputs": [
    {
     "data": {
      "text/plain": [
       "241841"
      ]
     },
     "execution_count": 15,
     "metadata": {},
     "output_type": "execute_result"
    }
   ],
   "source": [
    "len(all_words) # Total words"
   ]
  },
  {
   "cell_type": "code",
   "execution_count": 16,
   "metadata": {},
   "outputs": [
    {
     "name": "stdout",
     "output_type": "stream",
     "text": [
      "Total unique words: 13186\n"
     ]
    }
   ],
   "source": [
    "all_words = FreqDist(all_words)\n",
    "print(f\"Total unique words: {len(all_words)}\")"
   ]
  },
  {
   "cell_type": "code",
   "execution_count": 17,
   "metadata": {},
   "outputs": [
    {
     "data": {
      "image/png": "[encoded data removed]",
      "text/plain": [
       "<matplotlib.figure.Figure at 0x10fca9630>"
      ]
     },
     "metadata": {
      "needs_background": "light"
     },
     "output_type": "display_data"
    }
   ],
   "source": [
    "# Graph the whole dataset\n",
    "y_val = [x[1] for x in all_words.most_common()]\n",
    "fig = plt.figure(figsize=(10, 5))\n",
    "ax = fig.gca()\n",
    "plt.grid()\n",
    "\n",
    "plt.plot(y_val, label = 'Counts')\n",
    "plt.legend(loc='upper right')\n",
    "plt.xlabel(\"Word Rank\")\n",
    "plt.ylabel(\"Word Count\")\n",
    "plt.title(\"Word Frequency\")\n",
    "plt.show()"
   ]
  },
  {
   "cell_type": "code",
   "execution_count": 18,
   "metadata": {},
   "outputs": [
    {
     "data": {
      "image/png": "[encoded data removed]",
      "text/plain": [
       "<matplotlib.figure.Figure at 0x1a2512f390>"
      ]
     },
     "metadata": {
      "needs_background": "light"
     },
     "output_type": "display_data"
    }
   ],
   "source": [
    "# Graph ranks of only the top 50 most frequently used words\n",
    "y_val = [x[1] for x in all_words.most_common()[:50]]\n",
    "fig = plt.figure(figsize=(10, 5))\n",
    "ax = fig.gca()\n",
    "ax.set_xticks(np.arange(0, 50, 1))\n",
    "plt.grid()\n",
    "\n",
    "plt.plot(y_val, label = 'Counts')\n",
    "plt.legend(loc='upper right')\n",
    "plt.xlabel(\"Word Rank\")\n",
    "plt.ylabel(\"Word Count\")\n",
    "plt.title(\"Word Frequency\")\n",
    "plt.show()"
   ]
  },
  {
   "cell_type": "markdown",
   "metadata": {},
   "source": [
    "## Remove Stop Words"
   ]
  },
  {
   "cell_type": "code",
   "execution_count": 19,
   "metadata": {},
   "outputs": [
    {
     "data": {
      "image/png": "[encoded data removed]",
      "text/plain": [
       "<matplotlib.figure.Figure at 0x1a252f52e8>"
      ]
     },
     "metadata": {
      "needs_background": "light"
     },
     "output_type": "display_data"
    }
   ],
   "source": [
    "# Graph top 16 most frequently used words but show the words\n",
    "plt.figure(figsize=(10, 5))\n",
    "all_words.plot(16,cumulative=False) # Top 16 used words\n",
    "plt.show()"
   ]
  },
  {
   "cell_type": "code",
   "execution_count": 20,
   "metadata": {},
   "outputs": [
    {
     "name": "stdout",
     "output_type": "stream",
     "text": [
      "Less common words 5972\n"
     ]
    }
   ],
   "source": [
    "# Remove words that appear 1 time\n",
    "less_common = all_words.hapaxes()\n",
    "print(f\"Less common words {len(less_common)}\")"
   ]
  },
  {
   "cell_type": "code",
   "execution_count": 21,
   "metadata": {
    "collapsed": true
   },
   "outputs": [],
   "source": [
    "# Let's choose a max document frequency theshold for word occurences and a minimum word occurence to cull the less useful words\n",
    "# We will remove any word that occurs more than 2,000 times\n",
    "# We will not remove any words that appear 1 time "
   ]
  },
  {
   "cell_type": "code",
   "execution_count": 22,
   "metadata": {},
   "outputs": [],
   "source": [
    "my_stop_words = less_common\n",
    "for w in all_words.most_common(16):\n",
    "    my_stop_words.append(w[0])"
   ]
  },
  {
   "cell_type": "code",
   "execution_count": 23,
   "metadata": {},
   "outputs": [
    {
     "name": "stdout",
     "output_type": "stream",
     "text": [
      "Removing 11976 stop words\n"
     ]
    }
   ],
   "source": [
    "my_stop_words = my_stop_words + less_common\n",
    "print(f\"Removing {len(my_stop_words)} stop words\")"
   ]
  },
  {
   "cell_type": "code",
   "execution_count": 24,
   "metadata": {},
   "outputs": [],
   "source": [
    "# Remove stop words from the dataset\n",
    "all_words_clean = []\n",
    "for idx in range(len(stars_with_word_list)):\n",
    "    filtered_text = []\n",
    "    for w in stars_with_word_list[idx][1]:\n",
    "        if w not in my_stop_words:\n",
    "            filtered_text.append(w)\n",
    "            all_words_clean.append(w)\n",
    "    stars_with_word_list[idx][1] = filtered_text"
   ]
  },
  {
   "cell_type": "code",
   "execution_count": 25,
   "metadata": {},
   "outputs": [
    {
     "data": {
      "text/plain": [
       "167563"
      ]
     },
     "execution_count": 25,
     "metadata": {},
     "output_type": "execute_result"
    }
   ],
   "source": [
    "len(all_words_clean) # Total words"
   ]
  },
  {
   "cell_type": "code",
   "execution_count": 26,
   "metadata": {},
   "outputs": [
    {
     "data": {
      "text/plain": [
       "7198"
      ]
     },
     "execution_count": 26,
     "metadata": {},
     "output_type": "execute_result"
    }
   ],
   "source": [
    "all_words_clean = FreqDist(all_words_clean)\n",
    "len(all_words_clean) # Total unique words"
   ]
  },
  {
   "cell_type": "code",
   "execution_count": 27,
   "metadata": {},
   "outputs": [
    {
     "data": {
      "image/png": "[encoded data removed]",
      "text/plain": [
       "<matplotlib.figure.Figure at 0x1a2514a240>"
      ]
     },
     "metadata": {
      "needs_background": "light"
     },
     "output_type": "display_data"
    }
   ],
   "source": [
    "# Graph top 50 most frequently used words but show the words\n",
    "plt.figure(figsize=(10, 5))\n",
    "all_words_clean.plot(50,cumulative=False) # Top 50 used words\n",
    "plt.show()"
   ]
  },
  {
   "cell_type": "code",
   "execution_count": 28,
   "metadata": {},
   "outputs": [
    {
     "data": {
      "image/png": "[encoded data removed]",
      "text/plain": [
       "<matplotlib.figure.Figure at 0x1a267a7c50>"
      ]
     },
     "metadata": {
      "needs_background": "light"
     },
     "output_type": "display_data"
    }
   ],
   "source": [
    "# Graph the clean dataset\n",
    "y_val = [x[1] for x in all_words_clean.most_common()]\n",
    "fig = plt.figure(figsize=(10, 5))\n",
    "ax = fig.gca()\n",
    "plt.grid()\n",
    "\n",
    "plt.plot(y_val, label = 'Counts')\n",
    "plt.legend(loc='upper right')\n",
    "plt.xlabel(\"Word Rank\")\n",
    "plt.ylabel(\"Word Count\")\n",
    "plt.title(\"Word Frequency\")\n",
    "plt.show()"
   ]
  },
  {
   "cell_type": "markdown",
   "metadata": {},
   "source": [
    "### Convert all the data into bag-of-words vectors"
   ]
  },
  {
   "cell_type": "code",
   "execution_count": 151,
   "metadata": {
    "collapsed": true
   },
   "outputs": [],
   "source": [
    "word_features = list(all_words_clean.keys())"
   ]
  },
  {
   "cell_type": "code",
   "execution_count": 152,
   "metadata": {
    "collapsed": true
   },
   "outputs": [],
   "source": [
    "def bagofwords(sentence, features):\n",
    "    bag = np.zeros(len(features))\n",
    "    for sw in sentence:\n",
    "        for i,word in enumerate(features):\n",
    "            if word == sw: \n",
    "                bag[i] += 1\n",
    "    return np.array(bag)"
   ]
  },
  {
   "cell_type": "code",
   "execution_count": 153,
   "metadata": {},
   "outputs": [],
   "source": [
    "word_feature_vectors = np.zeros(len(word_features)*2000, dtype = int).reshape(2000, len(word_features))\n",
    "y = np.zeros(2000)"
   ]
  },
  {
   "cell_type": "code",
   "execution_count": 154,
   "metadata": {},
   "outputs": [
    {
     "data": {
      "application/vnd.jupyter.widget-view+json": {
       "model_id": "180945bb363c41f09ef223e2d3903c3e",
       "version_major": 2,
       "version_minor": 0
      },
      "text/plain": [
       "HBox(children=(IntProgress(value=0, max=2000), HTML(value='')))"
      ]
     },
     "metadata": {},
     "output_type": "display_data"
    },
    {
     "name": "stdout",
     "output_type": "stream",
     "text": [
      "\n"
     ]
    }
   ],
   "source": [
    "for idx in tqdm(range(len(stars_with_word_list))):\n",
    "    word_feature_vectors[idx] = bagofwords(stars_with_word_list[idx][1], word_features)"
   ]
  },
  {
   "cell_type": "code",
   "execution_count": null,
   "metadata": {},
   "outputs": [],
   "source": []
  },
  {
   "cell_type": "code",
   "execution_count": 156,
   "metadata": {},
   "outputs": [],
   "source": [
    "for idx in range(len(stars_with_word_list)):\n",
    "    y[idx] = stars_with_word_list[idx][0]"
   ]
  },
  {
   "cell_type": "markdown",
   "metadata": {},
   "source": [
    "# Part 2: Text-Retrieval"
   ]
  },
  {
   "cell_type": "code",
   "execution_count": 34,
   "metadata": {
    "collapsed": true
   },
   "outputs": [],
   "source": [
    "# In this section, we look at finding similar documents to a query phrase.\n",
    "\n",
    "# Using nearest neightbor with a cos-distance metric, find 5 reviews matching Horrible customer service.\n",
    "# Print the original text from the review along with the associated distance score. You can truncate the review to 200 words so we don't get a page of text.\n",
    "# Looking at all the distance scores, how many documents do you think are good matches to the query?"
   ]
  },
  {
   "cell_type": "code",
   "execution_count": 35,
   "metadata": {},
   "outputs": [],
   "source": [
    "reviews = [i for i in data_set_orig.text.tolist()]"
   ]
  },
  {
   "cell_type": "code",
   "execution_count": 36,
   "metadata": {},
   "outputs": [],
   "source": [
    "vectorizer = CountVectorizer(stop_words = my_stop_words, analyzer=text_process)\n",
    "tfidf_matrix = vectorizer.fit_transform(reviews)"
   ]
  },
  {
   "cell_type": "code",
   "execution_count": 37,
   "metadata": {},
   "outputs": [],
   "source": [
    "nbrs = NearestNeighbors(n_neighbors=10, metric='cosine').fit(tfidf_matrix)"
   ]
  },
  {
   "cell_type": "code",
   "execution_count": 38,
   "metadata": {},
   "outputs": [],
   "source": [
    "nearest_reviews = get_closest('Horrible customer service', nbrs, vectorizer)"
   ]
  },
  {
   "cell_type": "code",
   "execution_count": 39,
   "metadata": {},
   "outputs": [
    {
     "name": "stdout",
     "output_type": "stream",
     "text": [
      "Score: 0.571154986064882\n",
      "Stars: 1\n",
      "Review: Rogers ...\n",
      "\n",
      "1) is over priced\n",
      "2) have horrible customer service\n",
      "3) faulty and incorrect billing\n",
      "4) poor customer service\n",
      "5) not enough options\n",
      "6) never arrive for an appointment\n",
      "\n",
      "\n",
      "Score: 0.6176404435490637\n",
      "Stars: 5\n",
      "Review: Went to Marca today to get a haircut and was given a great service both by front desk - customer service and by Georgia, girl who did my hair. I guess I got lucky with her as she has years of experience doing this job. She has excellent customer service skills and takes excellent care of her customers.\n",
      "\n",
      "\n",
      "Score: 0.668866910733739\n",
      "Stars: 1\n",
      "Review: Horrible service, horrible customer service, and horrible quality of service!  Do not waste your time or money using this company for your pool needs.  Dan (602)363-8267 broke my pool filtration system and left it in a nonworking condition.  He will not repair the issue he caused, and told me to go somewhere else.  \n",
      "\n",
      "Save yourself the hassle, there are plenty of other quality pool companies out there.  \n",
      "\n",
      "Take care!\n",
      "\n",
      "\n",
      "Score: 0.6726731646460113\n",
      "Stars: 1\n",
      "Review: Not $19.95. Unmarked cars and no uniforms. Bad customer service. Will charge you 7-8x more than advertised. I waited one hour before 24hrlockouts showed up. I will not recommend this service to anyone.\n",
      "\n",
      "\n",
      "Score: 0.6734013676289096\n",
      "Stars: 1\n",
      "Review: Horrible customer service!  Been with them over 2 years, and after staying with them during my last move they raised my bill almost double for the same services!  Sent two emails since I don't have time to call, not a single response. Will finally waste an entire night to call to cancel my service.\n",
      "\n",
      "\n"
     ]
    }
   ],
   "source": [
    "showResults(nearest_reviews)"
   ]
  },
  {
   "cell_type": "markdown",
   "metadata": {},
   "source": [
    "# Part 3: Classification with Logistic Regression"
   ]
  },
  {
   "cell_type": "code",
   "execution_count": 276,
   "metadata": {},
   "outputs": [],
   "source": [
    "threshold=.5"
   ]
  },
  {
   "cell_type": "code",
   "execution_count": 170,
   "metadata": {
    "collapsed": true
   },
   "outputs": [],
   "source": [
    "X_train, X_test, y_train, y_test = train_test_split(word_feature_vectors, y, test_size=0.1, random_state=0)"
   ]
  },
  {
   "cell_type": "code",
   "execution_count": 171,
   "metadata": {},
   "outputs": [],
   "source": [
    "logreg = LogisticRegression()"
   ]
  },
  {
   "cell_type": "code",
   "execution_count": 172,
   "metadata": {},
   "outputs": [
    {
     "name": "stderr",
     "output_type": "stream",
     "text": [
      "/Users/edgarpino/miniconda2/lib/python3.6/site-packages/sklearn/linear_model/logistic.py:433: FutureWarning: Default solver will be changed to 'lbfgs' in 0.22. Specify a solver to silence this warning.\n",
      "  FutureWarning)\n"
     ]
    },
    {
     "data": {
      "text/plain": [
       "LogisticRegression(C=1.0, class_weight=None, dual=False, fit_intercept=True,\n",
       "          intercept_scaling=1, max_iter=100, multi_class='warn',\n",
       "          n_jobs=None, penalty='l2', random_state=None, solver='warn',\n",
       "          tol=0.0001, verbose=0, warm_start=False)"
      ]
     },
     "execution_count": 172,
     "metadata": {},
     "output_type": "execute_result"
    }
   ],
   "source": [
    "logreg.fit(X_train,y_train)"
   ]
  },
  {
   "cell_type": "code",
   "execution_count": 391,
   "metadata": {},
   "outputs": [
    {
     "name": "stdout",
     "output_type": "stream",
     "text": [
      "Test set Accuracy: 0.915, Precision: 0.9375, and Recall 0.8910891089108911\n"
     ]
    }
   ],
   "source": [
    "y_test_pred=logreg.predict(X_test)\n",
    "test_acc,test_prec,test_recall = getMetrics(y_test, y_test_pred)\n",
    "print(f\"Test set Accuracy: {test_acc}, Precision: {test_prec}, and Recall {test_recall}\")"
   ]
  },
  {
   "cell_type": "code",
   "execution_count": 389,
   "metadata": {},
   "outputs": [
    {
     "name": "stdout",
     "output_type": "stream",
     "text": [
      "Test set Accuracy: 0.9994444444444445, Precision: 1.0, and Recall 0.9988876529477196\n"
     ]
    }
   ],
   "source": [
    "training_pred=logreg.predict(X_train)\n",
    "train_acc,train_prec,train_recall = getMetrics(y_train, training_pred)\n",
    "print(f\"Test set Accuracy: {train_acc}, Precision: {train_prec}, and Recall {train_recall}\")"
   ]
  },
  {
   "cell_type": "markdown",
   "metadata": {},
   "source": [
    "### Create histogram"
   ]
  },
  {
   "cell_type": "code",
   "execution_count": 338,
   "metadata": {
    "collapsed": true
   },
   "outputs": [],
   "source": [
    "train_pred=np.array(logreg.predict_proba(X_train))"
   ]
  },
  {
   "cell_type": "code",
   "execution_count": 339,
   "metadata": {},
   "outputs": [],
   "source": [
    "train_pred_pos = train_pred[:,1]"
   ]
  },
  {
   "cell_type": "code",
   "execution_count": 342,
   "metadata": {},
   "outputs": [
    {
     "data": {
      "image/png": "[encoded data removed]",
      "text/plain": [
       "<matplotlib.figure.Figure at 0x1a3d8a1390>"
      ]
     },
     "metadata": {
      "needs_background": "light"
     },
     "output_type": "display_data"
    }
   ],
   "source": [
    "fig, ax = plt.subplots(figsize=(10, 5))\n",
    "N, bins, patches = ax.hist(train_pred_pos, bins=100, color='green')\n",
    "\n",
    "cutoff = int(len(patches) * .5)\n",
    "for idx in range(cutoff):\n",
    "    patches[idx].set_facecolor('blue')\n",
    "    \n",
    "plt.xlabel(\"Predicted Score\")\n",
    "plt.ylabel(\"Count of prediction\")\n",
    "plt.show()"
   ]
  },
  {
   "cell_type": "markdown",
   "metadata": {},
   "source": [
    "## Choose a new threshold"
   ]
  },
  {
   "cell_type": "code",
   "execution_count": 394,
   "metadata": {
    "collapsed": true
   },
   "outputs": [],
   "source": [
    "thresholds = [.4,.6,.7,.8]"
   ]
  },
  {
   "cell_type": "code",
   "execution_count": 395,
   "metadata": {},
   "outputs": [],
   "source": [
    "train_pred_df = pd.DataFrame(train_pred_pos)"
   ]
  },
  {
   "cell_type": "code",
   "execution_count": 407,
   "metadata": {},
   "outputs": [
    {
     "name": "stdout",
     "output_type": "stream",
     "text": [
      "Threshold: 0.4 Test set Accuracy: 0.9994444444444445, Precision: 1.0, and Recall 0.9988876529477196\n",
      "Threshold: 0.6 Test set Accuracy: 0.9994444444444445, Precision: 1.0, and Recall 0.9988876529477196\n",
      "Threshold: 0.7 Test set Accuracy: 1.0, Precision: 1.0, and Recall 1.0\n",
      "Threshold: 0.8 Test set Accuracy: 0.9955555555555555, Precision: 0.9911797133406836, and Recall 1.0\n"
     ]
    }
   ],
   "source": [
    "# Training dataset\n",
    "for threshold in thresholds:\n",
    "    train_pred_threshold = train_pred_df.applymap(lambda x: 5 if x>threshold else 1)  \n",
    "    train_acc, train_prec, train_recall = getMetrics(y_train, train_pred_threshold)\n",
    "    print(f\"Threshold: {threshold} Test set Accuracy: {train_acc}, Precision: {train_prec}, and Recall {train_recall}\")"
   ]
  },
  {
   "cell_type": "code",
   "execution_count": 410,
   "metadata": {},
   "outputs": [
    {
     "name": "stdout",
     "output_type": "stream",
     "text": [
      "Threshold: 0.4 Test set Accuracy: 0.9, Precision: 0.945054945054945, and Recall 0.8514851485148515\n",
      "Threshold: 0.6 Test set Accuracy: 0.905, Precision: 0.91, and Recall 0.900990099009901\n",
      "Threshold: 0.7 Test set Accuracy: 0.905, Precision: 0.8796296296296297, and Recall 0.9405940594059405\n",
      "Threshold: 0.8 Test set Accuracy: 0.865, Precision: 0.8135593220338984, and Recall 0.9504950495049505\n"
     ]
    }
   ],
   "source": [
    "# Test dataset\n",
    "test_pred=np.array(logreg.predict_proba(X_test))[:,1]\n",
    "test_pred_df = pd.DataFrame(test_pred)\n",
    "for threshold in thresholds:\n",
    "    test_pred_threshold = test_pred_df.applymap(lambda x: 5 if x>threshold else 1)  \n",
    "    test_acc, test_prec, test_recall = getMetrics(y_test, test_pred_threshold)\n",
    "    print(f\"Threshold: {threshold} Test set Accuracy: {test_acc}, Precision: {test_prec}, and Recall {test_recall}\")"
   ]
  },
  {
   "cell_type": "code",
   "execution_count": null,
   "metadata": {},
   "outputs": [],
   "source": []
  },
  {
   "cell_type": "code",
   "execution_count": null,
   "metadata": {},
   "outputs": [],
   "source": []
  },
  {
   "cell_type": "code",
   "execution_count": null,
   "metadata": {},
   "outputs": [],
   "source": []
  },
  {
   "cell_type": "code",
   "execution_count": null,
   "metadata": {},
   "outputs": [],
   "source": []
  },
  {
   "cell_type": "code",
   "execution_count": null,
   "metadata": {},
   "outputs": [],
   "source": []
  }
 ],
 "metadata": {
  "kernelspec": {
   "display_name": "Python 3",
   "language": "python",
   "name": "python3"
  },
  "language_info": {
   "codemirror_mode": {
    "name": "ipython",
    "version": 3
   },
   "file_extension": ".py",
   "mimetype": "text/x-python",
   "name": "python",
   "nbconvert_exporter": "python",
   "pygments_lexer": "ipython3",
   "version": "3.6.8"
  },
  "toc": {
   "colors": {
    "hover_highlight": "#DAA520",
    "navigate_num": "#000000",
    "navigate_text": "#333333",
    "running_highlight": "#FF0000",
    "selected_highlight": "#FFD700",
    "sidebar_border": "#EEEEEE",
    "wrapper_background": "#FFFFFF"
   },
   "moveMenuLeft": true,
   "nav_menu": {
    "height": "173px",
    "width": "252px"
   },
   "navigate_menu": true,
   "number_sections": true,
   "sideBar": true,
   "threshold": 4,
   "toc_cell": false,
   "toc_section_display": "block",
   "toc_window_display": false,
   "widenNotebook": false
  },
  "widgets": {
   "state": {
    "048cbc0ee98f4232bf9fefd1c099e6cc": {
     "views": [
      {
       "cell_index": 28
      }
     ]
    }
   },
   "version": "1.2.0"
  }
 },
 "nbformat": 4,
 "nbformat_minor": 2
}
