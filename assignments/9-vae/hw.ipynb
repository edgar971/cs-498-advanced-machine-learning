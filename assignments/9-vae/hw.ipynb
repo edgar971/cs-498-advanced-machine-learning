{
 "cells": [
  {
   "cell_type": "markdown",
   "metadata": {},
   "source": [
    "# Homework 9: Variational Autoencoders\n"
   ]
  },
  {
   "cell_type": "code",
   "execution_count": 1,
   "metadata": {},
   "outputs": [],
   "source": [
    "%matplotlib inline\n",
    "\n",
    "import os\n",
    "import math\n",
    "import torch\n",
    "import matplotlib.pyplot as plt\n",
    "import torch.utils.data\n",
    "from matplotlib import pyplot\n",
    "from torchvision import utils\n",
    "from torchvision import datasets, transforms\n",
    "from torch.utils.data import DataLoader\n",
    "from torch import nn, optim\n",
    "from torch.autograd import Variable\n",
    "from torch.nn import functional as F\n",
    "from torchvision.utils import save_image"
   ]
  },
  {
   "cell_type": "code",
   "execution_count": 2,
   "metadata": {},
   "outputs": [],
   "source": [
    "def show_image(image): \n",
    "    pyplot.imshow(image, cmap=\"gray\")\n",
    "\n",
    "def show_mnist_batch(sample_batched):\n",
    "    \"\"\"Show images for a batch of samples.\"\"\"\n",
    "    images_batch = sample_batched[0]\n",
    "    batch_size = len(images_batch)\n",
    "    im_size = images_batch.size(2)\n",
    "\n",
    "    grid = utils.make_grid(images_batch)\n",
    "    plt.imshow(grid.numpy().transpose((1, 2, 0)))\n",
    "    plt.title('Batch from DataLoader')"
   ]
  },
  {
   "cell_type": "markdown",
   "metadata": {},
   "source": [
    "## Load data"
   ]
  },
  {
   "cell_type": "code",
   "execution_count": 3,
   "metadata": {},
   "outputs": [
    {
     "name": "stdout",
     "output_type": "stream",
     "text": [
      "mkdir: data: File exists\n"
     ]
    }
   ],
   "source": [
    "!mkdir data"
   ]
  },
  {
   "cell_type": "code",
   "execution_count": 4,
   "metadata": {},
   "outputs": [
    {
     "name": "stdout",
     "output_type": "stream",
     "text": [
      "60000 training images\n",
      "10000 test images\n"
     ]
    }
   ],
   "source": [
    "transformations = transforms.Compose([transforms.ToTensor(),transforms.Normalize((0.1307,), (0.3081,))])\n",
    "mnist_train = datasets.MNIST('./data', download=True, train=True, transform=transformations)\n",
    "mnist_test = datasets.MNIST('./data', download=True, train=False, transform=transformations)\n",
    "\n",
    "print(f\"{len(mnist_train)} training images\")\n",
    "print(f\"{len(mnist_test)} test images\")"
   ]
  },
  {
   "cell_type": "code",
   "execution_count": 5,
   "metadata": {},
   "outputs": [],
   "source": [
    "batch_size =  32\n",
    "train_loader = DataLoader(mnist_train, batch_size=batch_size, shuffle=True, num_workers=4)\n",
    "test_loader = DataLoader(mnist_test, batch_size=batch_size, num_workers=4)"
   ]
  },
  {
   "cell_type": "code",
   "execution_count": 6,
   "metadata": {},
   "outputs": [
    {
     "name": "stderr",
     "output_type": "stream",
     "text": [
      "Clipping input data to the valid range for imshow with RGB data ([0..1] for floats or [0..255] for integers).\n"
     ]
    },
    {
     "data": {
      "image/png": "[encoded data removed]",
      "text/plain": [
       "<Figure size 432x288 with 1 Axes>"
      ]
     },
     "metadata": {
      "needs_background": "light"
     },
     "output_type": "display_data"
    }
   ],
   "source": [
    "# Displays the first batch of images\n",
    "for i, batch in enumerate(train_loader):\n",
    "    if i==1:\n",
    "        break\n",
    "    show_mnist_batch(batch)"
   ]
  },
  {
   "cell_type": "markdown",
   "metadata": {},
   "source": [
    "## VAE Model"
   ]
  },
  {
   "cell_type": "code",
   "execution_count": 7,
   "metadata": {},
   "outputs": [],
   "source": [
    "class VAE(nn.Module):\n",
    "    def __init__(self):\n",
    "        super(VAE, self).__init__()\n",
    "\n",
    "        # ENCODER\n",
    "        self.fc1 = nn.Linear(784, 400)\n",
    "\n",
    "        # max(0, x)\n",
    "        self.relu = nn.ReLU()\n",
    "        self.fc21 = nn.Linear(400, 20)  # mu layer\n",
    "        self.fc22 = nn.Linear(400, 20)  # logvariance layer\n",
    "        # this last layer bottlenecks through 20 connections\n",
    "\n",
    "        # DECODER\n",
    "        self.fc3 = nn.Linear(20, 400)\n",
    "        self.fc4 = nn.Linear(400, 784)\n",
    "        self.sigmoid = nn.Sigmoid()\n",
    "\n",
    "    def encode(self, x: Variable) -> (Variable, Variable):\n",
    "        # h1 is [128, 400]\n",
    "        h1 = self.relu(self.fc1(x))  # type: Variable\n",
    "        return self.fc21(h1), self.fc22(h1)\n",
    "\n",
    "    def reparameterize(self, mu: Variable, logvar: Variable) -> Variable:\n",
    "        if self.training:\n",
    "            std = logvar.mul(0.5).exp_()  # type: Variable\n",
    "            eps = Variable(std.data.new(std.size()).normal_())\n",
    "            return eps.mul(std).add_(mu)\n",
    "\n",
    "        else:\n",
    "            return mu\n",
    "\n",
    "    def decode(self, z: Variable) -> Variable:\n",
    "        h3 = self.relu(self.fc3(z))\n",
    "        return self.sigmoid(self.fc4(h3))\n",
    "\n",
    "    def forward(self, x: Variable) -> (Variable, Variable, Variable):\n",
    "        mu, logvar = self.encode(x.view(-1, 784))\n",
    "        z = self.reparameterize(mu, logvar)\n",
    "        return self.decode(z), mu, logvar"
   ]
  },
  {
   "cell_type": "code",
   "execution_count": 8,
   "metadata": {},
   "outputs": [],
   "source": [
    "from torch.nn import CrossEntropyLoss\n",
    "from torch.optim import Adam\n",
    "import time\n",
    "time.time()\n",
    "\n",
    "learning_rate = .002\n",
    "model = VAE()\n",
    "optimizer = Adam(model.parameters(), lr=learning_rate)"
   ]
  },
  {
   "cell_type": "code",
   "execution_count": 9,
   "metadata": {},
   "outputs": [],
   "source": [
    "def loss_function(recon_x, x, mu, logvar) -> Variable:\n",
    "    BCE = F.binary_cross_entropy(recon_x, x.view(-1, 784))\n",
    "    KLD = -0.5 * torch.sum(1 + logvar - mu.pow(2) - logvar.exp())\n",
    "    KLD /= batch_size * 784\n",
    "\n",
    "    # BCE tries to make our reconstruction as accurate as possible\n",
    "    # KLD tries to push the distributions as close as possible to unit Gaussian\n",
    "    return BCE + KLD"
   ]
  },
  {
   "cell_type": "code",
   "execution_count": 10,
   "metadata": {},
   "outputs": [],
   "source": [
    "LOG_INTERVAL = 100\n",
    "NUM_EPOCHS = 10\n",
    "\n",
    "def train(epoch):\n",
    "    model.train()\n",
    "    train_loss = 0\n",
    "          \n",
    "    for batch_idx, (data, _) in enumerate(train_loader):\n",
    "        data = Variable(data)\n",
    "        optimizer.zero_grad()\n",
    "          \n",
    "        recon_batch, mu, logvar = model(data)\n",
    "          \n",
    "        loss = loss_function(recon_batch, data, mu, logvar)\n",
    "        loss.backward()\n",
    "        train_loss += loss.item()\n",
    "        optimizer.step()\n",
    "        if batch_idx % LOG_INTERVAL == 0:\n",
    "            print('Train Epoch: {} [{}/{} ({:.0f}%)]\\tLoss: {:.6f}'.format(\n",
    "                epoch, batch_idx * len(data), len(train_loader.dataset),\n",
    "                100. * batch_idx / len(train_loader),\n",
    "                loss.item() / len(data)))\n",
    "    print('====> Epoch: {} Average loss: {:.4f}'.format(\n",
    "          epoch, train_loss / len(train_loader.dataset)))"
   ]
  },
  {
   "cell_type": "code",
   "execution_count": 11,
   "metadata": {},
   "outputs": [],
   "source": [
    "def test(epoch): \n",
    "    model.eval()\n",
    "    test_loss = 0\n",
    "    \n",
    "    for batch_idx, (data, _) in enumerate(test_loader):\n",
    "        data = Variable(data)\n",
    "        recon_batch, mu, logvar = model(data)\n",
    "        test_loss += loss_function(recon_batch, data, mu, logvar).item()\n",
    "        if batch_idx == 0:\n",
    "            n = min(data.size(0), 8)\n",
    "            # for the first 128 batch of the epoch, show the first 8 input digits\n",
    "            # with right below them the reconstructed output digits\n",
    "            comparison = torch.cat([data[:n],recon_batch.view(batch_size, 1, 28, 28)[:n]])\n",
    "            save_image(comparison.data.cpu(),'results/reconstruction_' + str(epoch) + '.png', nrow=n)\n",
    "    test_loss /= len(test_loader.dataset)\n",
    "    print('====> Test set loss: {:.4f}'.format(test_loss))"
   ]
  },
  {
   "cell_type": "markdown",
   "metadata": {},
   "source": [
    "## Train model and generate images "
   ]
  },
  {
   "cell_type": "code",
   "execution_count": null,
   "metadata": {},
   "outputs": [
    {
     "name": "stdout",
     "output_type": "stream",
     "text": [
      "Train Epoch: 1 [0/60000 (0%)]\tLoss: 0.021879\n",
      "Train Epoch: 1 [3200/60000 (5%)]\tLoss: -0.503785\n",
      "Train Epoch: 1 [6400/60000 (11%)]\tLoss: -0.607380\n",
      "Train Epoch: 1 [9600/60000 (16%)]\tLoss: -0.665955\n",
      "Train Epoch: 1 [12800/60000 (21%)]\tLoss: -0.743563\n",
      "Train Epoch: 1 [16000/60000 (27%)]\tLoss: -0.733883\n",
      "Train Epoch: 1 [19200/60000 (32%)]\tLoss: -0.769062\n",
      "Train Epoch: 1 [22400/60000 (37%)]\tLoss: -0.752311\n",
      "Train Epoch: 1 [25600/60000 (43%)]\tLoss: -0.809703\n",
      "Train Epoch: 1 [28800/60000 (48%)]\tLoss: -0.851301\n",
      "Train Epoch: 1 [32000/60000 (53%)]\tLoss: -0.837514\n",
      "Train Epoch: 1 [35200/60000 (59%)]\tLoss: -0.880812\n",
      "Train Epoch: 1 [38400/60000 (64%)]\tLoss: -0.850764\n",
      "Train Epoch: 1 [41600/60000 (69%)]\tLoss: -0.871060\n",
      "Train Epoch: 1 [44800/60000 (75%)]\tLoss: -0.890810\n",
      "Train Epoch: 1 [48000/60000 (80%)]\tLoss: -0.839874\n",
      "Train Epoch: 1 [51200/60000 (85%)]\tLoss: -0.861927\n",
      "Train Epoch: 1 [54400/60000 (91%)]\tLoss: -0.896874\n",
      "Train Epoch: 1 [57600/60000 (96%)]\tLoss: -0.917540\n",
      "====> Epoch: 1 Average loss: -0.7758\n",
      "====> Test set loss: -0.8984\n",
      "Train Epoch: 2 [0/60000 (0%)]\tLoss: -0.876095\n",
      "Train Epoch: 2 [3200/60000 (5%)]\tLoss: -0.876947\n",
      "Train Epoch: 2 [6400/60000 (11%)]\tLoss: -0.902213\n",
      "Train Epoch: 2 [9600/60000 (16%)]\tLoss: -0.929561\n",
      "Train Epoch: 2 [12800/60000 (21%)]\tLoss: -0.924297\n",
      "Train Epoch: 2 [16000/60000 (27%)]\tLoss: -0.921813\n",
      "Train Epoch: 2 [19200/60000 (32%)]\tLoss: -0.920675\n",
      "Train Epoch: 2 [22400/60000 (37%)]\tLoss: -0.919110\n",
      "Train Epoch: 2 [25600/60000 (43%)]\tLoss: -0.912110\n",
      "Train Epoch: 2 [28800/60000 (48%)]\tLoss: -0.913848\n",
      "Train Epoch: 2 [32000/60000 (53%)]\tLoss: -0.919104\n",
      "Train Epoch: 2 [35200/60000 (59%)]\tLoss: -0.932275\n",
      "Train Epoch: 2 [38400/60000 (64%)]\tLoss: -0.890394\n",
      "Train Epoch: 2 [41600/60000 (69%)]\tLoss: -0.928000\n",
      "Train Epoch: 2 [44800/60000 (75%)]\tLoss: -0.960543\n",
      "Train Epoch: 2 [48000/60000 (80%)]\tLoss: -0.940463\n",
      "Train Epoch: 2 [51200/60000 (85%)]\tLoss: -0.927375\n",
      "Train Epoch: 2 [54400/60000 (91%)]\tLoss: -0.941283\n",
      "Train Epoch: 2 [57600/60000 (96%)]\tLoss: -0.951905\n",
      "====> Epoch: 2 Average loss: -0.9235\n",
      "====> Test set loss: -0.9390\n",
      "Train Epoch: 3 [0/60000 (0%)]\tLoss: -0.898499\n",
      "Train Epoch: 3 [3200/60000 (5%)]\tLoss: -0.954276\n",
      "Train Epoch: 3 [6400/60000 (11%)]\tLoss: -0.934476\n",
      "Train Epoch: 3 [9600/60000 (16%)]\tLoss: -0.945112\n",
      "Train Epoch: 3 [12800/60000 (21%)]\tLoss: -0.917622\n",
      "Train Epoch: 3 [16000/60000 (27%)]\tLoss: -0.929755\n",
      "Train Epoch: 3 [19200/60000 (32%)]\tLoss: -0.932333\n",
      "Train Epoch: 3 [22400/60000 (37%)]\tLoss: -0.950973\n"
     ]
    }
   ],
   "source": [
    "for epoch in range(1, NUM_EPOCHS):\n",
    "    train(epoch)\n",
    "    test(epoch)\n",
    "    sample = Variable(torch.randn(32, 20))\n",
    "    sample = model.decode(sample).cpu()\n",
    "    save_image(sample.data.view(32, 1, 28, 28),\n",
    "               'results/sample_' + str(epoch) + '.png')"
   ]
  },
  {
   "cell_type": "code",
   "execution_count": null,
   "metadata": {},
   "outputs": [],
   "source": []
  },
  {
   "cell_type": "code",
   "execution_count": null,
   "metadata": {},
   "outputs": [],
   "source": []
  },
  {
   "cell_type": "code",
   "execution_count": null,
   "metadata": {},
   "outputs": [],
   "source": []
  }
 ],
 "metadata": {
  "kernelspec": {
   "display_name": "Python 3",
   "language": "python",
   "name": "python3"
  },
  "language_info": {
   "codemirror_mode": {
    "name": "ipython",
    "version": 3
   },
   "file_extension": ".py",
   "mimetype": "text/x-python",
   "name": "python",
   "nbconvert_exporter": "python",
   "pygments_lexer": "ipython3",
   "version": "3.6.8"
  }
 },
 "nbformat": 4,
 "nbformat_minor": 2
}
