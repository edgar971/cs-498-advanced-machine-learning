{
 "cells": [
  {
   "cell_type": "markdown",
   "metadata": {},
   "source": [
    "# Homework 9: Variational Autoencoders\n"
   ]
  },
  {
   "cell_type": "code",
   "execution_count": 9,
   "metadata": {},
   "outputs": [],
   "source": [
    "%matplotlib inline\n",
    "\n",
    "import os\n",
    "import math\n",
    "import torch\n",
    "import matplotlib.pyplot as plt\n",
    "import torch.utils.data\n",
    "from matplotlib import pyplot\n",
    "from torchvision import utils\n",
    "from torchvision import datasets, transforms\n",
    "from torch.utils.data import DataLoader\n",
    "from torch import nn, optim\n",
    "from torch.autograd import Variable\n",
    "from torch.nn import functional as F\n",
    "from torchvision.utils import save_image"
   ]
  },
  {
   "cell_type": "code",
   "execution_count": 10,
   "metadata": {},
   "outputs": [],
   "source": [
    "def show_image(image): \n",
    "    pyplot.imshow(image, cmap=\"gray\")\n",
    "\n",
    "def show_mnist_batch(sample_batched):\n",
    "    \"\"\"Show images for a batch of samples.\"\"\"\n",
    "    images_batch = sample_batched[0]\n",
    "    batch_size = len(images_batch)\n",
    "    im_size = images_batch.size(2)\n",
    "\n",
    "    grid = utils.make_grid(images_batch)\n",
    "    plt.imshow(grid.numpy().transpose((1, 2, 0)))\n",
    "    plt.title('Batch from DataLoader')"
   ]
  },
  {
   "cell_type": "markdown",
   "metadata": {},
   "source": [
    "## Load data"
   ]
  },
  {
   "cell_type": "code",
   "execution_count": 3,
   "metadata": {},
   "outputs": [
    {
     "name": "stdout",
     "output_type": "stream",
     "text": [
      "mkdir: data: File exists\n"
     ]
    }
   ],
   "source": [
    "!mkdir data"
   ]
  },
  {
   "cell_type": "code",
   "execution_count": 11,
   "metadata": {},
   "outputs": [
    {
     "name": "stdout",
     "output_type": "stream",
     "text": [
      "60000 training images\n",
      "10000 test images\n"
     ]
    }
   ],
   "source": [
    "transformations = transforms.Compose([transforms.ToTensor(),transforms.Normalize((0.1307,), (0.3081,))])\n",
    "mnist_train = datasets.MNIST('./data', download=True, train=True, transform=transformations)\n",
    "mnist_test = datasets.MNIST('./data', download=True, train=False, transform=transformations)\n",
    "\n",
    "print(f\"{len(mnist_train)} training images\")\n",
    "print(f\"{len(mnist_test)} test images\")"
   ]
  },
  {
   "cell_type": "code",
   "execution_count": 12,
   "metadata": {},
   "outputs": [],
   "source": [
    "batch_size =  128\n",
    "train_loader = DataLoader(mnist_train, batch_size=batch_size, shuffle=True, num_workers=4)\n",
    "test_loader = DataLoader(mnist_test, batch_size=batch_size, num_workers=4)"
   ]
  },
  {
   "cell_type": "code",
   "execution_count": 13,
   "metadata": {},
   "outputs": [
    {
     "name": "stderr",
     "output_type": "stream",
     "text": [
      "Clipping input data to the valid range for imshow with RGB data ([0..1] for floats or [0..255] for integers).\n"
     ]
    },
    {
     "data": {
      "image/png": "[encoded data removed]",
      "text/plain": [
       "<Figure size 432x288 with 1 Axes>"
      ]
     },
     "metadata": {
      "needs_background": "light"
     },
     "output_type": "display_data"
    }
   ],
   "source": [
    "# Displays the first batch of images\n",
    "for i, batch in enumerate(train_loader):\n",
    "    if i==1:\n",
    "        break\n",
    "    show_mnist_batch(batch)"
   ]
  },
  {
   "cell_type": "markdown",
   "metadata": {},
   "source": [
    "## VAE Model"
   ]
  },
  {
   "cell_type": "code",
   "execution_count": 16,
   "metadata": {},
   "outputs": [],
   "source": [
    "class VAE(nn.Module):\n",
    "    def __init__(self):\n",
    "        super(VAE, self).__init__()\n",
    "\n",
    "        # ENCODER\n",
    "        self.fc1 = nn.Linear(784, 400)\n",
    "\n",
    "        # max(0, x)\n",
    "        self.relu = nn.ReLU()\n",
    "        self.fc21 = nn.Linear(400, 20)  # mu layer\n",
    "        self.fc22 = nn.Linear(400, 20)  # logvariance layer\n",
    "        # this last layer bottlenecks through 20 connections\n",
    "\n",
    "        # DECODER\n",
    "        self.fc3 = nn.Linear(20, 400)\n",
    "        self.fc4 = nn.Linear(400, 784)\n",
    "        self.sigmoid = nn.Sigmoid()\n",
    "\n",
    "    def encode(self, x: Variable) -> (Variable, Variable):\n",
    "        # h1 is [128, 400]\n",
    "        h1 = self.relu(self.fc1(x))  # type: Variable\n",
    "        return self.fc21(h1), self.fc22(h1)\n",
    "\n",
    "    def reparameterize(self, mu: Variable, logvar: Variable) -> Variable:\n",
    "        if self.training:\n",
    "            std = logvar.mul(0.5).exp_()  # type: Variable\n",
    "            eps = Variable(std.data.new(std.size()).normal_())\n",
    "            return eps.mul(std).add_(mu)\n",
    "\n",
    "        else:\n",
    "            return mu\n",
    "\n",
    "    def decode(self, z: Variable) -> Variable:\n",
    "        h3 = self.relu(self.fc3(z))\n",
    "        return self.sigmoid(self.fc4(h3))\n",
    "\n",
    "    def forward(self, x: Variable) -> (Variable, Variable, Variable):\n",
    "        mu, logvar = self.encode(x.view(-1, 784))\n",
    "        z = self.reparameterize(mu, logvar)\n",
    "        return self.decode(z), mu, logvar"
   ]
  },
  {
   "cell_type": "code",
   "execution_count": 47,
   "metadata": {},
   "outputs": [],
   "source": [
    "from torch.nn import CrossEntropyLoss\n",
    "from torch.optim import Adam\n",
    "import time\n",
    "time.time()\n",
    "\n",
    "learning_rate = .005\n",
    "model = VAE()\n",
    "momentum=0.9\n",
    "optimizer = Adam(model.parameters(), lr=learning_rate)"
   ]
  },
  {
   "cell_type": "code",
   "execution_count": 48,
   "metadata": {},
   "outputs": [],
   "source": [
    "def loss_function(recon_x, x, mu, logvar) -> Variable:\n",
    "    # how well do input x and output recon_x agree?\n",
    "    BCE = F.binary_cross_entropy(recon_x, x.view(-1, 784))\n",
    "\n",
    "    # KLD is Kullback–Leibler divergence -- how much does one learned\n",
    "    # distribution deviate from another, in this specific case the\n",
    "    # learned distribution from the unit Gaussian\n",
    "\n",
    "    # see Appendix B from VAE paper:\n",
    "    # Kingma and Welling. Auto-Encoding Variational Bayes. ICLR, 2014\n",
    "    # https://arxiv.org/abs/1312.6114\n",
    "    # - D_{KL} = 0.5 * sum(1 + log(sigma^2) - mu^2 - sigma^2)\n",
    "    # note the negative D_{KL} in appendix B of the paper\n",
    "    KLD = -0.5 * torch.sum(1 + logvar - mu.pow(2) - logvar.exp())\n",
    "    # Normalise by same number of elements as in reconstruction\n",
    "    KLD /= batch_size * 784\n",
    "\n",
    "    # BCE tries to make our reconstruction as accurate as possible\n",
    "    # KLD tries to push the distributions as close as possible to unit Gaussian\n",
    "    return BCE + KLD"
   ]
  },
  {
   "cell_type": "code",
   "execution_count": 49,
   "metadata": {},
   "outputs": [],
   "source": [
    "LOG_INTERVAL = 30\n",
    "NUM_EPOCHS = 10\n",
    "\n",
    "def train(epoch):\n",
    "    model.train()\n",
    "    train_loss = 0\n",
    "          \n",
    "    for batch_idx, (data, _) in enumerate(train_loader):\n",
    "        data = Variable(data)\n",
    "        optimizer.zero_grad()\n",
    "          \n",
    "        recon_batch, mu, logvar = model(data)\n",
    "          \n",
    "        loss = loss_function(recon_batch, data, mu, logvar)\n",
    "        loss.backward()\n",
    "        train_loss += loss.item()\n",
    "        optimizer.step()\n",
    "        if batch_idx % LOG_INTERVAL == 0:\n",
    "            print('Train Epoch: {} [{}/{} ({:.0f}%)]\\tLoss: {:.6f}'.format(\n",
    "                epoch, batch_idx * len(data), len(train_loader.dataset),\n",
    "                100. * batch_idx / len(train_loader),\n",
    "                loss.item() / len(data)))\n",
    "    print('====> Epoch: {} Average loss: {:.4f}'.format(\n",
    "          epoch, train_loss / len(train_loader.dataset)))"
   ]
  },
  {
   "cell_type": "code",
   "execution_count": null,
   "metadata": {},
   "outputs": [
    {
     "name": "stdout",
     "output_type": "stream",
     "text": [
      "Train Epoch: 1 [0/60000 (0%)]\tLoss: 0.005483\n",
      "Train Epoch: 1 [3840/60000 (6%)]\tLoss: -0.111858\n",
      "Train Epoch: 1 [7680/60000 (13%)]\tLoss: -0.152526\n",
      "Train Epoch: 1 [11520/60000 (19%)]\tLoss: -0.177158\n",
      "Train Epoch: 1 [15360/60000 (26%)]\tLoss: -0.190059\n",
      "Train Epoch: 1 [19200/60000 (32%)]\tLoss: -0.196116\n",
      "Train Epoch: 1 [23040/60000 (38%)]\tLoss: -0.197294\n",
      "Train Epoch: 1 [26880/60000 (45%)]\tLoss: -0.202711\n",
      "Train Epoch: 1 [30720/60000 (51%)]\tLoss: -0.209697\n",
      "Train Epoch: 1 [34560/60000 (58%)]\tLoss: -0.212045\n",
      "Train Epoch: 1 [38400/60000 (64%)]\tLoss: -0.212319\n",
      "Train Epoch: 1 [42240/60000 (70%)]\tLoss: -0.211557\n",
      "Train Epoch: 1 [46080/60000 (77%)]\tLoss: -0.219111\n",
      "Train Epoch: 1 [49920/60000 (83%)]\tLoss: -0.222104\n",
      "Train Epoch: 1 [53760/60000 (90%)]\tLoss: -0.225875\n",
      "Train Epoch: 1 [57600/60000 (96%)]\tLoss: -0.227547\n",
      "====> Epoch: 1 Average loss: -0.1935\n",
      "Train Epoch: 2 [0/60000 (0%)]\tLoss: -0.228968\n",
      "Train Epoch: 2 [3840/60000 (6%)]\tLoss: -0.229250\n",
      "Train Epoch: 2 [7680/60000 (13%)]\tLoss: -0.225732\n",
      "Train Epoch: 2 [11520/60000 (19%)]\tLoss: -0.232348\n",
      "Train Epoch: 2 [15360/60000 (26%)]\tLoss: -0.231185\n",
      "Train Epoch: 2 [19200/60000 (32%)]\tLoss: -0.235407\n",
      "Train Epoch: 2 [23040/60000 (38%)]\tLoss: -0.236591\n",
      "Train Epoch: 2 [26880/60000 (45%)]\tLoss: -0.234631\n",
      "Train Epoch: 2 [30720/60000 (51%)]\tLoss: -0.231671\n",
      "Train Epoch: 2 [34560/60000 (58%)]\tLoss: -0.234777\n",
      "Train Epoch: 2 [38400/60000 (64%)]\tLoss: -0.239022\n",
      "Train Epoch: 2 [42240/60000 (70%)]\tLoss: -0.234877\n",
      "Train Epoch: 2 [46080/60000 (77%)]\tLoss: -0.229733\n",
      "Train Epoch: 2 [49920/60000 (83%)]\tLoss: -0.238623\n",
      "Train Epoch: 2 [53760/60000 (90%)]\tLoss: -0.234935\n",
      "Train Epoch: 2 [57600/60000 (96%)]\tLoss: -0.235672\n",
      "====> Epoch: 2 Average loss: -0.2328\n",
      "Train Epoch: 3 [0/60000 (0%)]\tLoss: -0.237633\n",
      "Train Epoch: 3 [3840/60000 (6%)]\tLoss: -0.242753\n",
      "Train Epoch: 3 [7680/60000 (13%)]\tLoss: -0.235286\n",
      "Train Epoch: 3 [11520/60000 (19%)]\tLoss: -0.238170\n",
      "Train Epoch: 3 [15360/60000 (26%)]\tLoss: -0.237821\n",
      "Train Epoch: 3 [19200/60000 (32%)]\tLoss: -0.240054\n",
      "Train Epoch: 3 [23040/60000 (38%)]\tLoss: -0.238336\n",
      "Train Epoch: 3 [26880/60000 (45%)]\tLoss: -0.239053\n",
      "Train Epoch: 3 [30720/60000 (51%)]\tLoss: -0.234304\n",
      "Train Epoch: 3 [34560/60000 (58%)]\tLoss: -0.236204\n",
      "Train Epoch: 3 [38400/60000 (64%)]\tLoss: -0.236686\n",
      "Train Epoch: 3 [42240/60000 (70%)]\tLoss: -0.236764\n",
      "Train Epoch: 3 [46080/60000 (77%)]\tLoss: -0.237828\n",
      "Train Epoch: 3 [49920/60000 (83%)]\tLoss: -0.238046\n",
      "Train Epoch: 3 [53760/60000 (90%)]\tLoss: -0.239399\n",
      "Train Epoch: 3 [57600/60000 (96%)]\tLoss: -0.243244\n",
      "====> Epoch: 3 Average loss: -0.2388\n",
      "Train Epoch: 4 [0/60000 (0%)]\tLoss: -0.239494\n",
      "Train Epoch: 4 [3840/60000 (6%)]\tLoss: -0.238222\n",
      "Train Epoch: 4 [7680/60000 (13%)]\tLoss: -0.240282\n",
      "Train Epoch: 4 [11520/60000 (19%)]\tLoss: -0.238855\n",
      "Train Epoch: 4 [15360/60000 (26%)]\tLoss: -0.237605\n",
      "Train Epoch: 4 [19200/60000 (32%)]\tLoss: -0.238879\n",
      "Train Epoch: 4 [23040/60000 (38%)]\tLoss: -0.242202\n",
      "Train Epoch: 4 [26880/60000 (45%)]\tLoss: -0.244769\n",
      "Train Epoch: 4 [30720/60000 (51%)]\tLoss: -0.243223\n",
      "Train Epoch: 4 [34560/60000 (58%)]\tLoss: -0.237562\n",
      "Train Epoch: 4 [38400/60000 (64%)]\tLoss: -0.242683\n",
      "Train Epoch: 4 [42240/60000 (70%)]\tLoss: -0.242336\n",
      "Train Epoch: 4 [46080/60000 (77%)]\tLoss: -0.243002\n",
      "Train Epoch: 4 [49920/60000 (83%)]\tLoss: -0.242595\n",
      "Train Epoch: 4 [53760/60000 (90%)]\tLoss: -0.246318\n",
      "Train Epoch: 4 [57600/60000 (96%)]\tLoss: -0.240670\n",
      "====> Epoch: 4 Average loss: -0.2415\n",
      "Train Epoch: 5 [0/60000 (0%)]\tLoss: -0.244152\n",
      "Train Epoch: 5 [3840/60000 (6%)]\tLoss: -0.242110\n",
      "Train Epoch: 5 [7680/60000 (13%)]\tLoss: -0.247688\n",
      "Train Epoch: 5 [11520/60000 (19%)]\tLoss: -0.242027\n",
      "Train Epoch: 5 [15360/60000 (26%)]\tLoss: -0.243472\n",
      "Train Epoch: 5 [19200/60000 (32%)]\tLoss: -0.247973\n",
      "Train Epoch: 5 [23040/60000 (38%)]\tLoss: -0.242191\n",
      "Train Epoch: 5 [26880/60000 (45%)]\tLoss: -0.241201\n",
      "Train Epoch: 5 [30720/60000 (51%)]\tLoss: -0.243362\n",
      "Train Epoch: 5 [34560/60000 (58%)]\tLoss: -0.245602\n",
      "Train Epoch: 5 [38400/60000 (64%)]\tLoss: -0.241836\n",
      "Train Epoch: 5 [42240/60000 (70%)]\tLoss: -0.245101\n",
      "Train Epoch: 5 [46080/60000 (77%)]\tLoss: -0.243089\n",
      "Train Epoch: 5 [49920/60000 (83%)]\tLoss: -0.244871\n",
      "Train Epoch: 5 [53760/60000 (90%)]\tLoss: -0.245566\n",
      "Train Epoch: 5 [57600/60000 (96%)]\tLoss: -0.244064\n",
      "====> Epoch: 5 Average loss: -0.2438\n",
      "Train Epoch: 6 [0/60000 (0%)]\tLoss: -0.242286\n",
      "Train Epoch: 6 [3840/60000 (6%)]\tLoss: -0.246631\n",
      "Train Epoch: 6 [7680/60000 (13%)]\tLoss: -0.244150\n",
      "Train Epoch: 6 [11520/60000 (19%)]\tLoss: -0.246876\n",
      "Train Epoch: 6 [15360/60000 (26%)]\tLoss: -0.245444\n",
      "Train Epoch: 6 [19200/60000 (32%)]\tLoss: -0.245150\n",
      "Train Epoch: 6 [23040/60000 (38%)]\tLoss: -0.247216\n",
      "Train Epoch: 6 [26880/60000 (45%)]\tLoss: -0.246951\n",
      "Train Epoch: 6 [30720/60000 (51%)]\tLoss: -0.247893\n",
      "Train Epoch: 6 [34560/60000 (58%)]\tLoss: -0.246657\n",
      "Train Epoch: 6 [38400/60000 (64%)]\tLoss: -0.243496\n",
      "Train Epoch: 6 [42240/60000 (70%)]\tLoss: -0.243389\n",
      "Train Epoch: 6 [46080/60000 (77%)]\tLoss: -0.243116\n",
      "Train Epoch: 6 [49920/60000 (83%)]\tLoss: -0.243556\n",
      "Train Epoch: 6 [53760/60000 (90%)]\tLoss: -0.243839\n",
      "Train Epoch: 6 [57600/60000 (96%)]\tLoss: -0.244932\n",
      "====> Epoch: 6 Average loss: -0.2454\n",
      "Train Epoch: 7 [0/60000 (0%)]\tLoss: -0.243378\n",
      "Train Epoch: 7 [3840/60000 (6%)]\tLoss: -0.244539\n",
      "Train Epoch: 7 [7680/60000 (13%)]\tLoss: -0.247324\n",
      "Train Epoch: 7 [11520/60000 (19%)]\tLoss: -0.245081\n",
      "Train Epoch: 7 [15360/60000 (26%)]\tLoss: -0.250191\n",
      "Train Epoch: 7 [19200/60000 (32%)]\tLoss: -0.249318\n",
      "Train Epoch: 7 [23040/60000 (38%)]\tLoss: -0.246744\n"
     ]
    }
   ],
   "source": [
    "for epoch in range(1, NUM_EPOCHS):\n",
    "    train(epoch)"
   ]
  },
  {
   "cell_type": "code",
   "execution_count": null,
   "metadata": {},
   "outputs": [],
   "source": []
  }
 ],
 "metadata": {
  "kernelspec": {
   "display_name": "Python 3",
   "language": "python",
   "name": "python3"
  },
  "language_info": {
   "codemirror_mode": {
    "name": "ipython",
    "version": 3
   },
   "file_extension": ".py",
   "mimetype": "text/x-python",
   "name": "python",
   "nbconvert_exporter": "python",
   "pygments_lexer": "ipython3",
   "version": "3.6.8"
  }
 },
 "nbformat": 4,
 "nbformat_minor": 2
}
